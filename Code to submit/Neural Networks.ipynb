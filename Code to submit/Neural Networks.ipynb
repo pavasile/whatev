{
 "cells": [
  {
   "cell_type": "code",
   "execution_count": 30,
   "metadata": {},
   "outputs": [],
   "source": [
    "import numpy as np\n",
    "import pandas as pd\n",
    "import matplotlib.pyplot as plt\n",
    "\n",
    "from sklearn.decomposition import PCA\n",
    "from sklearn.linear_model import LinearRegression\n",
    "from sklearn.pipeline import Pipeline\n",
    "from sklearn.preprocessing import StandardScaler\n",
    "from sklearn.ensemble import RandomForestRegressor\n",
    "from sklearn.neural_network import MLPRegressor\n",
    "from sklearn.metrics import mean_absolute_error\n",
    "from sklearn.metrics import mean_squared_error\n",
    "\n",
    "from sklearn.model_selection import GridSearchCV"
   ]
  },
  {
   "cell_type": "code",
   "execution_count": 2,
   "metadata": {},
   "outputs": [],
   "source": [
    "X_train = pd.read_csv('X_train.csv')\n",
    "y_train = pd.read_csv('y_train.csv')\n",
    "X_test = pd.read_csv('X_test.csv')\n",
    "y_test = pd.read_csv('y_test.csv')"
   ]
  },
  {
   "cell_type": "code",
   "execution_count": 3,
   "metadata": {},
   "outputs": [
    {
     "data": {
      "text/html": [
       "<div>\n",
       "<style scoped>\n",
       "    .dataframe tbody tr th:only-of-type {\n",
       "        vertical-align: middle;\n",
       "    }\n",
       "\n",
       "    .dataframe tbody tr th {\n",
       "        vertical-align: top;\n",
       "    }\n",
       "\n",
       "    .dataframe thead th {\n",
       "        text-align: right;\n",
       "    }\n",
       "</style>\n",
       "<table border=\"1\" class=\"dataframe\">\n",
       "  <thead>\n",
       "    <tr style=\"text-align: right;\">\n",
       "      <th></th>\n",
       "      <th>duration</th>\n",
       "      <th>rating</th>\n",
       "      <th>first_week</th>\n",
       "      <th>second_week</th>\n",
       "      <th>third_week</th>\n",
       "      <th>Comedy</th>\n",
       "      <th>Kids &amp; Family</th>\n",
       "      <th>Action &amp; Adventure</th>\n",
       "      <th>Mystery &amp; Suspense</th>\n",
       "      <th>Science Fiction &amp; Fantasy</th>\n",
       "      <th>...</th>\n",
       "      <th>month_5</th>\n",
       "      <th>month_6</th>\n",
       "      <th>month_7</th>\n",
       "      <th>month_8</th>\n",
       "      <th>month_9</th>\n",
       "      <th>month_10</th>\n",
       "      <th>month_11</th>\n",
       "      <th>month_12</th>\n",
       "      <th>Mini-Major</th>\n",
       "      <th>Major</th>\n",
       "    </tr>\n",
       "  </thead>\n",
       "  <tbody>\n",
       "    <tr>\n",
       "      <th>0</th>\n",
       "      <td>112</td>\n",
       "      <td>41</td>\n",
       "      <td>1.0</td>\n",
       "      <td>0.0</td>\n",
       "      <td>0.0</td>\n",
       "      <td>0.0</td>\n",
       "      <td>0.0</td>\n",
       "      <td>0.0</td>\n",
       "      <td>0.0</td>\n",
       "      <td>0.0</td>\n",
       "      <td>...</td>\n",
       "      <td>0</td>\n",
       "      <td>0</td>\n",
       "      <td>0</td>\n",
       "      <td>1</td>\n",
       "      <td>0</td>\n",
       "      <td>0</td>\n",
       "      <td>0</td>\n",
       "      <td>0</td>\n",
       "      <td>1.0</td>\n",
       "      <td>0.0</td>\n",
       "    </tr>\n",
       "    <tr>\n",
       "      <th>1</th>\n",
       "      <td>114</td>\n",
       "      <td>90</td>\n",
       "      <td>0.0</td>\n",
       "      <td>1.0</td>\n",
       "      <td>0.0</td>\n",
       "      <td>0.0</td>\n",
       "      <td>0.0</td>\n",
       "      <td>0.0</td>\n",
       "      <td>0.0</td>\n",
       "      <td>0.0</td>\n",
       "      <td>...</td>\n",
       "      <td>0</td>\n",
       "      <td>0</td>\n",
       "      <td>0</td>\n",
       "      <td>0</td>\n",
       "      <td>0</td>\n",
       "      <td>0</td>\n",
       "      <td>0</td>\n",
       "      <td>0</td>\n",
       "      <td>0.0</td>\n",
       "      <td>0.0</td>\n",
       "    </tr>\n",
       "    <tr>\n",
       "      <th>2</th>\n",
       "      <td>104</td>\n",
       "      <td>17</td>\n",
       "      <td>0.0</td>\n",
       "      <td>0.0</td>\n",
       "      <td>0.0</td>\n",
       "      <td>1.0</td>\n",
       "      <td>0.0</td>\n",
       "      <td>0.0</td>\n",
       "      <td>0.0</td>\n",
       "      <td>0.0</td>\n",
       "      <td>...</td>\n",
       "      <td>0</td>\n",
       "      <td>0</td>\n",
       "      <td>0</td>\n",
       "      <td>0</td>\n",
       "      <td>0</td>\n",
       "      <td>0</td>\n",
       "      <td>0</td>\n",
       "      <td>1</td>\n",
       "      <td>0.0</td>\n",
       "      <td>1.0</td>\n",
       "    </tr>\n",
       "    <tr>\n",
       "      <th>3</th>\n",
       "      <td>119</td>\n",
       "      <td>35</td>\n",
       "      <td>1.0</td>\n",
       "      <td>0.0</td>\n",
       "      <td>0.0</td>\n",
       "      <td>1.0</td>\n",
       "      <td>0.0</td>\n",
       "      <td>0.0</td>\n",
       "      <td>0.0</td>\n",
       "      <td>0.0</td>\n",
       "      <td>...</td>\n",
       "      <td>0</td>\n",
       "      <td>1</td>\n",
       "      <td>0</td>\n",
       "      <td>0</td>\n",
       "      <td>0</td>\n",
       "      <td>0</td>\n",
       "      <td>0</td>\n",
       "      <td>0</td>\n",
       "      <td>0.0</td>\n",
       "      <td>1.0</td>\n",
       "    </tr>\n",
       "    <tr>\n",
       "      <th>4</th>\n",
       "      <td>95</td>\n",
       "      <td>69</td>\n",
       "      <td>0.0</td>\n",
       "      <td>1.0</td>\n",
       "      <td>0.0</td>\n",
       "      <td>0.0</td>\n",
       "      <td>0.0</td>\n",
       "      <td>0.0</td>\n",
       "      <td>0.0</td>\n",
       "      <td>0.0</td>\n",
       "      <td>...</td>\n",
       "      <td>0</td>\n",
       "      <td>0</td>\n",
       "      <td>0</td>\n",
       "      <td>0</td>\n",
       "      <td>0</td>\n",
       "      <td>0</td>\n",
       "      <td>0</td>\n",
       "      <td>0</td>\n",
       "      <td>1.0</td>\n",
       "      <td>0.0</td>\n",
       "    </tr>\n",
       "  </tbody>\n",
       "</table>\n",
       "<p>5 rows × 62 columns</p>\n",
       "</div>"
      ],
      "text/plain": [
       "   duration  rating  first_week  second_week  third_week  Comedy  \\\n",
       "0       112      41         1.0          0.0         0.0     0.0   \n",
       "1       114      90         0.0          1.0         0.0     0.0   \n",
       "2       104      17         0.0          0.0         0.0     1.0   \n",
       "3       119      35         1.0          0.0         0.0     1.0   \n",
       "4        95      69         0.0          1.0         0.0     0.0   \n",
       "\n",
       "   Kids & Family  Action & Adventure  Mystery & Suspense  \\\n",
       "0            0.0                 0.0                 0.0   \n",
       "1            0.0                 0.0                 0.0   \n",
       "2            0.0                 0.0                 0.0   \n",
       "3            0.0                 0.0                 0.0   \n",
       "4            0.0                 0.0                 0.0   \n",
       "\n",
       "   Science Fiction & Fantasy  ...    month_5  month_6  month_7  month_8  \\\n",
       "0                        0.0  ...          0        0        0        1   \n",
       "1                        0.0  ...          0        0        0        0   \n",
       "2                        0.0  ...          0        0        0        0   \n",
       "3                        0.0  ...          0        1        0        0   \n",
       "4                        0.0  ...          0        0        0        0   \n",
       "\n",
       "   month_9  month_10  month_11  month_12  Mini-Major  Major  \n",
       "0        0         0         0         0         1.0    0.0  \n",
       "1        0         0         0         0         0.0    0.0  \n",
       "2        0         0         0         1         0.0    1.0  \n",
       "3        0         0         0         0         0.0    1.0  \n",
       "4        0         0         0         0         1.0    0.0  \n",
       "\n",
       "[5 rows x 62 columns]"
      ]
     },
     "execution_count": 3,
     "metadata": {},
     "output_type": "execute_result"
    }
   ],
   "source": [
    "X_train.head()"
   ]
  },
  {
   "cell_type": "code",
   "execution_count": 41,
   "metadata": {},
   "outputs": [],
   "source": [
    "# This feature is dropped since there's only one element in this category, there's a non-zero probability of \n",
    "# a feature in the training dataset is equal to 0 for all observations.\n",
    "X_train = X_train.drop(['Anime & Manga'], axis=1)\n",
    "X_test = X_test.drop(['Anime & Manga'], axis=1)"
   ]
  },
  {
   "cell_type": "markdown",
   "metadata": {},
   "source": [
    "# Neural Network"
   ]
  },
  {
   "cell_type": "code",
   "execution_count": 4,
   "metadata": {},
   "outputs": [],
   "source": [
    "pipe = Pipeline([('scale', StandardScaler()), ('nn', MLPRegressor())])"
   ]
  },
  {
   "cell_type": "code",
   "execution_count": 12,
   "metadata": {
    "scrolled": true
   },
   "outputs": [
    {
     "name": "stdout",
     "output_type": "stream",
     "text": [
      "Fitting 3 folds for each of 42 candidates, totalling 126 fits\n",
      "[CV] nn__hidden_layer_sizes=(100, 100, 100, 100), nn__learning_rate_init=0.01 \n"
     ]
    },
    {
     "name": "stderr",
     "output_type": "stream",
     "text": [
      "/usr/local/lib/python3.6/site-packages/sklearn/neural_network/multilayer_perceptron.py:564: ConvergenceWarning: Stochastic Optimizer: Maximum iterations (200) reached and the optimization hasn't converged yet.\n",
      "  % self.max_iter, ConvergenceWarning)\n",
      "[Parallel(n_jobs=1)]: Done   1 out of   1 | elapsed:    6.0s remaining:    0.0s\n"
     ]
    },
    {
     "name": "stdout",
     "output_type": "stream",
     "text": [
      "[CV]  nn__hidden_layer_sizes=(100, 100, 100, 100), nn__learning_rate_init=0.01, score=0.25776670620035047, total=   6.0s\n",
      "[CV] nn__hidden_layer_sizes=(100, 100, 100, 100), nn__learning_rate_init=0.01 \n"
     ]
    },
    {
     "name": "stderr",
     "output_type": "stream",
     "text": [
      "/usr/local/lib/python3.6/site-packages/sklearn/neural_network/multilayer_perceptron.py:564: ConvergenceWarning: Stochastic Optimizer: Maximum iterations (200) reached and the optimization hasn't converged yet.\n",
      "  % self.max_iter, ConvergenceWarning)\n",
      "[Parallel(n_jobs=1)]: Done   2 out of   2 | elapsed:   12.3s remaining:    0.0s\n"
     ]
    },
    {
     "name": "stdout",
     "output_type": "stream",
     "text": [
      "[CV]  nn__hidden_layer_sizes=(100, 100, 100, 100), nn__learning_rate_init=0.01, score=0.27471476791520655, total=   6.3s\n",
      "[CV] nn__hidden_layer_sizes=(100, 100, 100, 100), nn__learning_rate_init=0.01 \n",
      "[CV]  nn__hidden_layer_sizes=(100, 100, 100, 100), nn__learning_rate_init=0.01, score=0.020811359322699174, total=   5.6s\n",
      "[CV] nn__hidden_layer_sizes=(150, 150, 150, 150), nn__learning_rate_init=0.01 \n"
     ]
    },
    {
     "name": "stderr",
     "output_type": "stream",
     "text": [
      "[Parallel(n_jobs=1)]: Done   3 out of   3 | elapsed:   17.9s remaining:    0.0s\n"
     ]
    },
    {
     "name": "stdout",
     "output_type": "stream",
     "text": [
      "[CV]  nn__hidden_layer_sizes=(150, 150, 150, 150), nn__learning_rate_init=0.01, score=0.2872543022544325, total=   7.2s\n",
      "[CV] nn__hidden_layer_sizes=(150, 150, 150, 150), nn__learning_rate_init=0.01 \n"
     ]
    },
    {
     "name": "stderr",
     "output_type": "stream",
     "text": [
      "[Parallel(n_jobs=1)]: Done   4 out of   4 | elapsed:   25.1s remaining:    0.0s\n"
     ]
    },
    {
     "name": "stdout",
     "output_type": "stream",
     "text": [
      "[CV]  nn__hidden_layer_sizes=(150, 150, 150, 150), nn__learning_rate_init=0.01, score=0.25075218846633873, total=   7.6s\n",
      "[CV] nn__hidden_layer_sizes=(150, 150, 150, 150), nn__learning_rate_init=0.01 \n"
     ]
    },
    {
     "name": "stderr",
     "output_type": "stream",
     "text": [
      "[Parallel(n_jobs=1)]: Done   5 out of   5 | elapsed:   32.7s remaining:    0.0s\n"
     ]
    },
    {
     "name": "stdout",
     "output_type": "stream",
     "text": [
      "[CV]  nn__hidden_layer_sizes=(150, 150, 150, 150), nn__learning_rate_init=0.01, score=0.04982393903648241, total=   7.7s\n",
      "[CV] nn__hidden_layer_sizes=(200, 200, 200, 200), nn__learning_rate_init=0.01 \n"
     ]
    },
    {
     "name": "stderr",
     "output_type": "stream",
     "text": [
      "[Parallel(n_jobs=1)]: Done   6 out of   6 | elapsed:   40.4s remaining:    0.0s\n"
     ]
    },
    {
     "name": "stdout",
     "output_type": "stream",
     "text": [
      "[CV]  nn__hidden_layer_sizes=(200, 200, 200, 200), nn__learning_rate_init=0.01, score=0.2730727249097318, total=   8.5s\n",
      "[CV] nn__hidden_layer_sizes=(200, 200, 200, 200), nn__learning_rate_init=0.01 \n"
     ]
    },
    {
     "name": "stderr",
     "output_type": "stream",
     "text": [
      "[Parallel(n_jobs=1)]: Done   7 out of   7 | elapsed:   48.9s remaining:    0.0s\n"
     ]
    },
    {
     "name": "stdout",
     "output_type": "stream",
     "text": [
      "[CV]  nn__hidden_layer_sizes=(200, 200, 200, 200), nn__learning_rate_init=0.01, score=0.2971882770558306, total=   7.9s\n",
      "[CV] nn__hidden_layer_sizes=(200, 200, 200, 200), nn__learning_rate_init=0.01 \n"
     ]
    },
    {
     "name": "stderr",
     "output_type": "stream",
     "text": [
      "[Parallel(n_jobs=1)]: Done   8 out of   8 | elapsed:   56.8s remaining:    0.0s\n"
     ]
    },
    {
     "name": "stdout",
     "output_type": "stream",
     "text": [
      "[CV]  nn__hidden_layer_sizes=(200, 200, 200, 200), nn__learning_rate_init=0.01, score=0.06717233245292065, total=  11.5s\n",
      "[CV] nn__hidden_layer_sizes=(250, 250, 250, 250), nn__learning_rate_init=0.01 \n"
     ]
    },
    {
     "name": "stderr",
     "output_type": "stream",
     "text": [
      "[Parallel(n_jobs=1)]: Done   9 out of   9 | elapsed:  1.1min remaining:    0.0s\n"
     ]
    },
    {
     "name": "stdout",
     "output_type": "stream",
     "text": [
      "[CV]  nn__hidden_layer_sizes=(250, 250, 250, 250), nn__learning_rate_init=0.01, score=0.3416606171300127, total=  18.0s\n",
      "[CV] nn__hidden_layer_sizes=(250, 250, 250, 250), nn__learning_rate_init=0.01 \n",
      "[CV]  nn__hidden_layer_sizes=(250, 250, 250, 250), nn__learning_rate_init=0.01, score=0.44881948612910116, total=  12.7s\n",
      "[CV] nn__hidden_layer_sizes=(250, 250, 250, 250), nn__learning_rate_init=0.01 \n",
      "[CV]  nn__hidden_layer_sizes=(250, 250, 250, 250), nn__learning_rate_init=0.01, score=0.16586465604399647, total=  10.7s\n",
      "[CV] nn__hidden_layer_sizes=(300, 300, 300, 300), nn__learning_rate_init=0.01 \n",
      "[CV]  nn__hidden_layer_sizes=(300, 300, 300, 300), nn__learning_rate_init=0.01, score=0.37865882162463804, total=  13.9s\n",
      "[CV] nn__hidden_layer_sizes=(300, 300, 300, 300), nn__learning_rate_init=0.01 \n",
      "[CV]  nn__hidden_layer_sizes=(300, 300, 300, 300), nn__learning_rate_init=0.01, score=0.45624875141352705, total=  14.8s\n",
      "[CV] nn__hidden_layer_sizes=(300, 300, 300, 300), nn__learning_rate_init=0.01 \n",
      "[CV]  nn__hidden_layer_sizes=(300, 300, 300, 300), nn__learning_rate_init=0.01, score=0.17064160751668045, total=  13.9s\n",
      "[CV] nn__hidden_layer_sizes=(350, 350, 350, 350), nn__learning_rate_init=0.01 \n",
      "[CV]  nn__hidden_layer_sizes=(350, 350, 350, 350), nn__learning_rate_init=0.01, score=0.3478427880676068, total=  20.2s\n",
      "[CV] nn__hidden_layer_sizes=(350, 350, 350, 350), nn__learning_rate_init=0.01 \n",
      "[CV]  nn__hidden_layer_sizes=(350, 350, 350, 350), nn__learning_rate_init=0.01, score=0.46634782904846017, total=  25.4s\n",
      "[CV] nn__hidden_layer_sizes=(350, 350, 350, 350), nn__learning_rate_init=0.01 \n",
      "[CV]  nn__hidden_layer_sizes=(350, 350, 350, 350), nn__learning_rate_init=0.01, score=0.19390448649091518, total=  17.3s\n",
      "[CV] nn__hidden_layer_sizes=(400, 400, 400, 400), nn__learning_rate_init=0.01 \n",
      "[CV]  nn__hidden_layer_sizes=(400, 400, 400, 400), nn__learning_rate_init=0.01, score=0.3163082221055502, total=  21.2s\n",
      "[CV] nn__hidden_layer_sizes=(400, 400, 400, 400), nn__learning_rate_init=0.01 \n",
      "[CV]  nn__hidden_layer_sizes=(400, 400, 400, 400), nn__learning_rate_init=0.01, score=0.42820505902998496, total=  20.1s\n",
      "[CV] nn__hidden_layer_sizes=(400, 400, 400, 400), nn__learning_rate_init=0.01 \n",
      "[CV]  nn__hidden_layer_sizes=(400, 400, 400, 400), nn__learning_rate_init=0.01, score=0.2125147855422972, total=  21.3s\n",
      "[CV] nn__hidden_layer_sizes=(100, 100, 100, 100, 100), nn__learning_rate_init=0.01 \n",
      "[CV]  nn__hidden_layer_sizes=(100, 100, 100, 100, 100), nn__learning_rate_init=0.01, score=0.27504993364772234, total=   6.5s\n",
      "[CV] nn__hidden_layer_sizes=(100, 100, 100, 100, 100), nn__learning_rate_init=0.01 \n",
      "[CV]  nn__hidden_layer_sizes=(100, 100, 100, 100, 100), nn__learning_rate_init=0.01, score=0.559530540791833, total=   2.5s\n",
      "[CV] nn__hidden_layer_sizes=(100, 100, 100, 100, 100), nn__learning_rate_init=0.01 \n",
      "[CV]  nn__hidden_layer_sizes=(100, 100, 100, 100, 100), nn__learning_rate_init=0.01, score=0.160431957344916, total=   5.3s\n",
      "[CV] nn__hidden_layer_sizes=(150, 150, 150, 150, 150), nn__learning_rate_init=0.01 \n",
      "[CV]  nn__hidden_layer_sizes=(150, 150, 150, 150, 150), nn__learning_rate_init=0.01, score=0.3069567739555251, total=   7.6s\n",
      "[CV] nn__hidden_layer_sizes=(150, 150, 150, 150, 150), nn__learning_rate_init=0.01 \n",
      "[CV]  nn__hidden_layer_sizes=(150, 150, 150, 150, 150), nn__learning_rate_init=0.01, score=0.40761956273982836, total=   6.2s\n",
      "[CV] nn__hidden_layer_sizes=(150, 150, 150, 150, 150), nn__learning_rate_init=0.01 \n",
      "[CV]  nn__hidden_layer_sizes=(150, 150, 150, 150, 150), nn__learning_rate_init=0.01, score=0.24694644596647786, total=   5.9s\n",
      "[CV] nn__hidden_layer_sizes=(200, 200, 200, 200, 200), nn__learning_rate_init=0.01 \n",
      "[CV]  nn__hidden_layer_sizes=(200, 200, 200, 200, 200), nn__learning_rate_init=0.01, score=0.3568195277286125, total=   7.2s\n",
      "[CV] nn__hidden_layer_sizes=(200, 200, 200, 200, 200), nn__learning_rate_init=0.01 \n",
      "[CV]  nn__hidden_layer_sizes=(200, 200, 200, 200, 200), nn__learning_rate_init=0.01, score=0.4228095907630479, total=   6.1s\n",
      "[CV] nn__hidden_layer_sizes=(200, 200, 200, 200, 200), nn__learning_rate_init=0.01 \n",
      "[CV]  nn__hidden_layer_sizes=(200, 200, 200, 200, 200), nn__learning_rate_init=0.01, score=0.26176169168113017, total=   7.1s\n",
      "[CV] nn__hidden_layer_sizes=(250, 250, 250, 250, 250), nn__learning_rate_init=0.01 \n",
      "[CV]  nn__hidden_layer_sizes=(250, 250, 250, 250, 250), nn__learning_rate_init=0.01, score=0.38968056583669564, total=  10.3s\n",
      "[CV] nn__hidden_layer_sizes=(250, 250, 250, 250, 250), nn__learning_rate_init=0.01 \n",
      "[CV]  nn__hidden_layer_sizes=(250, 250, 250, 250, 250), nn__learning_rate_init=0.01, score=0.4713635717314991, total=  13.2s\n",
      "[CV] nn__hidden_layer_sizes=(250, 250, 250, 250, 250), nn__learning_rate_init=0.01 \n",
      "[CV]  nn__hidden_layer_sizes=(250, 250, 250, 250, 250), nn__learning_rate_init=0.01, score=0.2755665855966002, total=   8.5s\n",
      "[CV] nn__hidden_layer_sizes=(300, 300, 300, 300, 300), nn__learning_rate_init=0.01 \n",
      "[CV]  nn__hidden_layer_sizes=(300, 300, 300, 300, 300), nn__learning_rate_init=0.01, score=0.4876132303845122, total=   6.4s\n",
      "[CV] nn__hidden_layer_sizes=(300, 300, 300, 300, 300), nn__learning_rate_init=0.01 \n",
      "[CV]  nn__hidden_layer_sizes=(300, 300, 300, 300, 300), nn__learning_rate_init=0.01, score=0.45334748428221017, total=  22.9s\n",
      "[CV] nn__hidden_layer_sizes=(300, 300, 300, 300, 300), nn__learning_rate_init=0.01 \n",
      "[CV]  nn__hidden_layer_sizes=(300, 300, 300, 300, 300), nn__learning_rate_init=0.01, score=0.16093763276953066, total=  13.7s\n",
      "[CV] nn__hidden_layer_sizes=(350, 350, 350, 350, 350), nn__learning_rate_init=0.01 \n",
      "[CV]  nn__hidden_layer_sizes=(350, 350, 350, 350, 350), nn__learning_rate_init=0.01, score=0.4232057136537922, total=  12.3s\n",
      "[CV] nn__hidden_layer_sizes=(350, 350, 350, 350, 350), nn__learning_rate_init=0.01 \n",
      "[CV]  nn__hidden_layer_sizes=(350, 350, 350, 350, 350), nn__learning_rate_init=0.01, score=0.524613228582735, total=   6.6s\n",
      "[CV] nn__hidden_layer_sizes=(350, 350, 350, 350, 350), nn__learning_rate_init=0.01 \n",
      "[CV]  nn__hidden_layer_sizes=(350, 350, 350, 350, 350), nn__learning_rate_init=0.01, score=0.2179041922478684, total=  13.0s\n",
      "[CV] nn__hidden_layer_sizes=(400, 400, 400, 400, 400), nn__learning_rate_init=0.01 \n",
      "[CV]  nn__hidden_layer_sizes=(400, 400, 400, 400, 400), nn__learning_rate_init=0.01, score=0.39261812375257843, total=  28.0s\n",
      "[CV] nn__hidden_layer_sizes=(400, 400, 400, 400, 400), nn__learning_rate_init=0.01 \n",
      "[CV]  nn__hidden_layer_sizes=(400, 400, 400, 400, 400), nn__learning_rate_init=0.01, score=0.4814448220981249, total=  26.6s\n",
      "[CV] nn__hidden_layer_sizes=(400, 400, 400, 400, 400), nn__learning_rate_init=0.01 \n",
      "[CV]  nn__hidden_layer_sizes=(400, 400, 400, 400, 400), nn__learning_rate_init=0.01, score=0.34865665082002784, total=  15.0s\n",
      "[CV] nn__hidden_layer_sizes=(100, 100, 100, 100, 100, 100), nn__learning_rate_init=0.01 \n",
      "[CV]  nn__hidden_layer_sizes=(100, 100, 100, 100, 100, 100), nn__learning_rate_init=0.01, score=0.3114286267158938, total=   5.0s\n",
      "[CV] nn__hidden_layer_sizes=(100, 100, 100, 100, 100, 100), nn__learning_rate_init=0.01 \n",
      "[CV]  nn__hidden_layer_sizes=(100, 100, 100, 100, 100, 100), nn__learning_rate_init=0.01, score=0.4782604199420124, total=   3.9s\n",
      "[CV] nn__hidden_layer_sizes=(100, 100, 100, 100, 100, 100), nn__learning_rate_init=0.01 \n",
      "[CV]  nn__hidden_layer_sizes=(100, 100, 100, 100, 100, 100), nn__learning_rate_init=0.01, score=0.1639124628358164, total=   4.1s\n",
      "[CV] nn__hidden_layer_sizes=(150, 150, 150, 150, 150, 150), nn__learning_rate_init=0.01 \n",
      "[CV]  nn__hidden_layer_sizes=(150, 150, 150, 150, 150, 150), nn__learning_rate_init=0.01, score=0.36705436730343577, total=   5.2s\n",
      "[CV] nn__hidden_layer_sizes=(150, 150, 150, 150, 150, 150), nn__learning_rate_init=0.01 \n",
      "[CV]  nn__hidden_layer_sizes=(150, 150, 150, 150, 150, 150), nn__learning_rate_init=0.01, score=0.5017697091610205, total=   4.3s\n",
      "[CV] nn__hidden_layer_sizes=(150, 150, 150, 150, 150, 150), nn__learning_rate_init=0.01 \n",
      "[CV]  nn__hidden_layer_sizes=(150, 150, 150, 150, 150, 150), nn__learning_rate_init=0.01, score=0.17929064474316359, total=   5.5s\n",
      "[CV] nn__hidden_layer_sizes=(200, 200, 200, 200, 200, 200), nn__learning_rate_init=0.01 \n",
      "[CV]  nn__hidden_layer_sizes=(200, 200, 200, 200, 200, 200), nn__learning_rate_init=0.01, score=0.4160097709345565, total=   9.5s\n",
      "[CV] nn__hidden_layer_sizes=(200, 200, 200, 200, 200, 200), nn__learning_rate_init=0.01 \n"
     ]
    },
    {
     "name": "stdout",
     "output_type": "stream",
     "text": [
      "[CV]  nn__hidden_layer_sizes=(200, 200, 200, 200, 200, 200), nn__learning_rate_init=0.01, score=0.49680136762220317, total=   7.7s\n",
      "[CV] nn__hidden_layer_sizes=(200, 200, 200, 200, 200, 200), nn__learning_rate_init=0.01 \n",
      "[CV]  nn__hidden_layer_sizes=(200, 200, 200, 200, 200, 200), nn__learning_rate_init=0.01, score=0.038323370777758825, total=   6.3s\n",
      "[CV] nn__hidden_layer_sizes=(250, 250, 250, 250, 250, 250), nn__learning_rate_init=0.01 \n",
      "[CV]  nn__hidden_layer_sizes=(250, 250, 250, 250, 250, 250), nn__learning_rate_init=0.01, score=0.36197534388178465, total=   9.6s\n",
      "[CV] nn__hidden_layer_sizes=(250, 250, 250, 250, 250, 250), nn__learning_rate_init=0.01 \n",
      "[CV]  nn__hidden_layer_sizes=(250, 250, 250, 250, 250, 250), nn__learning_rate_init=0.01, score=0.45951861005911054, total=   9.9s\n",
      "[CV] nn__hidden_layer_sizes=(250, 250, 250, 250, 250, 250), nn__learning_rate_init=0.01 \n",
      "[CV]  nn__hidden_layer_sizes=(250, 250, 250, 250, 250, 250), nn__learning_rate_init=0.01, score=0.5064959560437577, total=   4.1s\n",
      "[CV] nn__hidden_layer_sizes=(300, 300, 300, 300, 300, 300), nn__learning_rate_init=0.01 \n",
      "[CV]  nn__hidden_layer_sizes=(300, 300, 300, 300, 300, 300), nn__learning_rate_init=0.01, score=0.35539033933320474, total=  12.7s\n",
      "[CV] nn__hidden_layer_sizes=(300, 300, 300, 300, 300, 300), nn__learning_rate_init=0.01 \n",
      "[CV]  nn__hidden_layer_sizes=(300, 300, 300, 300, 300, 300), nn__learning_rate_init=0.01, score=0.5118442893110651, total=   5.4s\n",
      "[CV] nn__hidden_layer_sizes=(300, 300, 300, 300, 300, 300), nn__learning_rate_init=0.01 \n",
      "[CV]  nn__hidden_layer_sizes=(300, 300, 300, 300, 300, 300), nn__learning_rate_init=0.01, score=0.3771590968123776, total=   5.0s\n",
      "[CV] nn__hidden_layer_sizes=(350, 350, 350, 350, 350, 350), nn__learning_rate_init=0.01 \n",
      "[CV]  nn__hidden_layer_sizes=(350, 350, 350, 350, 350, 350), nn__learning_rate_init=0.01, score=0.467992203106223, total=   3.4s\n",
      "[CV] nn__hidden_layer_sizes=(350, 350, 350, 350, 350, 350), nn__learning_rate_init=0.01 \n",
      "[CV]  nn__hidden_layer_sizes=(350, 350, 350, 350, 350, 350), nn__learning_rate_init=0.01, score=0.49486721317890026, total=  12.5s\n",
      "[CV] nn__hidden_layer_sizes=(350, 350, 350, 350, 350, 350), nn__learning_rate_init=0.01 \n",
      "[CV]  nn__hidden_layer_sizes=(350, 350, 350, 350, 350, 350), nn__learning_rate_init=0.01, score=0.25050907012238344, total=  13.1s\n",
      "[CV] nn__hidden_layer_sizes=(400, 400, 400, 400, 400, 400), nn__learning_rate_init=0.01 \n",
      "[CV]  nn__hidden_layer_sizes=(400, 400, 400, 400, 400, 400), nn__learning_rate_init=0.01, score=0.49983540177640573, total=  11.8s\n",
      "[CV] nn__hidden_layer_sizes=(400, 400, 400, 400, 400, 400), nn__learning_rate_init=0.01 \n",
      "[CV]  nn__hidden_layer_sizes=(400, 400, 400, 400, 400, 400), nn__learning_rate_init=0.01, score=0.36646819449282475, total=   4.6s\n",
      "[CV] nn__hidden_layer_sizes=(400, 400, 400, 400, 400, 400), nn__learning_rate_init=0.01 \n",
      "[CV]  nn__hidden_layer_sizes=(400, 400, 400, 400, 400, 400), nn__learning_rate_init=0.01, score=0.2498943511806856, total=  20.7s\n",
      "[CV] nn__hidden_layer_sizes=(100, 100, 100, 100, 100, 100, 100), nn__learning_rate_init=0.01 \n",
      "[CV]  nn__hidden_layer_sizes=(100, 100, 100, 100, 100, 100, 100), nn__learning_rate_init=0.01, score=0.48523060072513524, total=   1.4s\n",
      "[CV] nn__hidden_layer_sizes=(100, 100, 100, 100, 100, 100, 100), nn__learning_rate_init=0.01 \n",
      "[CV]  nn__hidden_layer_sizes=(100, 100, 100, 100, 100, 100, 100), nn__learning_rate_init=0.01, score=0.5099558160415407, total=   1.3s\n",
      "[CV] nn__hidden_layer_sizes=(100, 100, 100, 100, 100, 100, 100), nn__learning_rate_init=0.01 \n",
      "[CV]  nn__hidden_layer_sizes=(100, 100, 100, 100, 100, 100, 100), nn__learning_rate_init=0.01, score=0.3381131204935446, total=   3.2s\n",
      "[CV] nn__hidden_layer_sizes=(150, 150, 150, 150, 150, 150, 150), nn__learning_rate_init=0.01 \n",
      "[CV]  nn__hidden_layer_sizes=(150, 150, 150, 150, 150, 150, 150), nn__learning_rate_init=0.01, score=0.4118084529898425, total=   4.7s\n",
      "[CV] nn__hidden_layer_sizes=(150, 150, 150, 150, 150, 150, 150), nn__learning_rate_init=0.01 \n",
      "[CV]  nn__hidden_layer_sizes=(150, 150, 150, 150, 150, 150, 150), nn__learning_rate_init=0.01, score=0.508818260875523, total=   3.1s\n",
      "[CV] nn__hidden_layer_sizes=(150, 150, 150, 150, 150, 150, 150), nn__learning_rate_init=0.01 \n",
      "[CV]  nn__hidden_layer_sizes=(150, 150, 150, 150, 150, 150, 150), nn__learning_rate_init=0.01, score=0.19883383631210882, total=   6.1s\n",
      "[CV] nn__hidden_layer_sizes=(200, 200, 200, 200, 200, 200, 200), nn__learning_rate_init=0.01 \n",
      "[CV]  nn__hidden_layer_sizes=(200, 200, 200, 200, 200, 200, 200), nn__learning_rate_init=0.01, score=0.46584679863820544, total=   3.8s\n",
      "[CV] nn__hidden_layer_sizes=(200, 200, 200, 200, 200, 200, 200), nn__learning_rate_init=0.01 \n",
      "[CV]  nn__hidden_layer_sizes=(200, 200, 200, 200, 200, 200, 200), nn__learning_rate_init=0.01, score=0.5134647338585732, total=   6.4s\n",
      "[CV] nn__hidden_layer_sizes=(200, 200, 200, 200, 200, 200, 200), nn__learning_rate_init=0.01 \n",
      "[CV]  nn__hidden_layer_sizes=(200, 200, 200, 200, 200, 200, 200), nn__learning_rate_init=0.01, score=0.18282895259273602, total=   4.5s\n",
      "[CV] nn__hidden_layer_sizes=(250, 250, 250, 250, 250, 250, 250), nn__learning_rate_init=0.01 \n",
      "[CV]  nn__hidden_layer_sizes=(250, 250, 250, 250, 250, 250, 250), nn__learning_rate_init=0.01, score=0.39749180531798767, total=   6.4s\n",
      "[CV] nn__hidden_layer_sizes=(250, 250, 250, 250, 250, 250, 250), nn__learning_rate_init=0.01 \n",
      "[CV]  nn__hidden_layer_sizes=(250, 250, 250, 250, 250, 250, 250), nn__learning_rate_init=0.01, score=0.49983420108905363, total=   4.9s\n",
      "[CV] nn__hidden_layer_sizes=(250, 250, 250, 250, 250, 250, 250), nn__learning_rate_init=0.01 \n",
      "[CV]  nn__hidden_layer_sizes=(250, 250, 250, 250, 250, 250, 250), nn__learning_rate_init=0.01, score=0.36526499431055937, total=   5.2s\n",
      "[CV] nn__hidden_layer_sizes=(300, 300, 300, 300, 300, 300, 300), nn__learning_rate_init=0.01 \n",
      "[CV]  nn__hidden_layer_sizes=(300, 300, 300, 300, 300, 300, 300), nn__learning_rate_init=0.01, score=0.45433166890679644, total=   6.9s\n",
      "[CV] nn__hidden_layer_sizes=(300, 300, 300, 300, 300, 300, 300), nn__learning_rate_init=0.01 \n",
      "[CV]  nn__hidden_layer_sizes=(300, 300, 300, 300, 300, 300, 300), nn__learning_rate_init=0.01, score=0.5314027355146231, total=   2.3s\n",
      "[CV] nn__hidden_layer_sizes=(300, 300, 300, 300, 300, 300, 300), nn__learning_rate_init=0.01 \n",
      "[CV]  nn__hidden_layer_sizes=(300, 300, 300, 300, 300, 300, 300), nn__learning_rate_init=0.01, score=0.5099689791843787, total=   3.4s\n",
      "[CV] nn__hidden_layer_sizes=(350, 350, 350, 350, 350, 350, 350), nn__learning_rate_init=0.01 \n",
      "[CV]  nn__hidden_layer_sizes=(350, 350, 350, 350, 350, 350, 350), nn__learning_rate_init=0.01, score=0.4767511487578332, total=   2.8s\n",
      "[CV] nn__hidden_layer_sizes=(350, 350, 350, 350, 350, 350, 350), nn__learning_rate_init=0.01 \n",
      "[CV]  nn__hidden_layer_sizes=(350, 350, 350, 350, 350, 350, 350), nn__learning_rate_init=0.01, score=0.47198123847984874, total=   4.0s\n",
      "[CV] nn__hidden_layer_sizes=(350, 350, 350, 350, 350, 350, 350), nn__learning_rate_init=0.01 \n",
      "[CV]  nn__hidden_layer_sizes=(350, 350, 350, 350, 350, 350, 350), nn__learning_rate_init=0.01, score=0.35662980842317915, total=   6.4s\n",
      "[CV] nn__hidden_layer_sizes=(400, 400, 400, 400, 400, 400, 400), nn__learning_rate_init=0.01 \n",
      "[CV]  nn__hidden_layer_sizes=(400, 400, 400, 400, 400, 400, 400), nn__learning_rate_init=0.01, score=0.44144104142812346, total=  13.8s\n",
      "[CV] nn__hidden_layer_sizes=(400, 400, 400, 400, 400, 400, 400), nn__learning_rate_init=0.01 \n",
      "[CV]  nn__hidden_layer_sizes=(400, 400, 400, 400, 400, 400, 400), nn__learning_rate_init=0.01, score=0.5281531468787294, total=   6.2s\n",
      "[CV] nn__hidden_layer_sizes=(400, 400, 400, 400, 400, 400, 400), nn__learning_rate_init=0.01 \n",
      "[CV]  nn__hidden_layer_sizes=(400, 400, 400, 400, 400, 400, 400), nn__learning_rate_init=0.01, score=0.29017394986234557, total=  24.4s\n",
      "[CV] nn__hidden_layer_sizes=(100, 100, 100, 100, 100, 100, 100, 100), nn__learning_rate_init=0.01 \n",
      "[CV]  nn__hidden_layer_sizes=(100, 100, 100, 100, 100, 100, 100, 100), nn__learning_rate_init=0.01, score=0.42180650278401177, total=   1.3s\n",
      "[CV] nn__hidden_layer_sizes=(100, 100, 100, 100, 100, 100, 100, 100), nn__learning_rate_init=0.01 \n",
      "[CV]  nn__hidden_layer_sizes=(100, 100, 100, 100, 100, 100, 100, 100), nn__learning_rate_init=0.01, score=0.4665858103204743, total=   2.0s\n",
      "[CV] nn__hidden_layer_sizes=(100, 100, 100, 100, 100, 100, 100, 100), nn__learning_rate_init=0.01 \n"
     ]
    },
    {
     "name": "stdout",
     "output_type": "stream",
     "text": [
      "[CV]  nn__hidden_layer_sizes=(100, 100, 100, 100, 100, 100, 100, 100), nn__learning_rate_init=0.01, score=0.4588916613928711, total=   1.6s\n",
      "[CV] nn__hidden_layer_sizes=(150, 150, 150, 150, 150, 150, 150, 150), nn__learning_rate_init=0.01 \n",
      "[CV]  nn__hidden_layer_sizes=(150, 150, 150, 150, 150, 150, 150, 150), nn__learning_rate_init=0.01, score=0.490395686362988, total=   1.0s\n",
      "[CV] nn__hidden_layer_sizes=(150, 150, 150, 150, 150, 150, 150, 150), nn__learning_rate_init=0.01 \n",
      "[CV]  nn__hidden_layer_sizes=(150, 150, 150, 150, 150, 150, 150, 150), nn__learning_rate_init=0.01, score=0.4233779290450428, total=   5.5s\n",
      "[CV] nn__hidden_layer_sizes=(150, 150, 150, 150, 150, 150, 150, 150), nn__learning_rate_init=0.01 \n",
      "[CV]  nn__hidden_layer_sizes=(150, 150, 150, 150, 150, 150, 150, 150), nn__learning_rate_init=0.01, score=0.3849190924297078, total=   2.0s\n",
      "[CV] nn__hidden_layer_sizes=(200, 200, 200, 200, 200, 200, 200, 200), nn__learning_rate_init=0.01 \n",
      "[CV]  nn__hidden_layer_sizes=(200, 200, 200, 200, 200, 200, 200, 200), nn__learning_rate_init=0.01, score=0.4284987397095744, total=   5.1s\n",
      "[CV] nn__hidden_layer_sizes=(200, 200, 200, 200, 200, 200, 200, 200), nn__learning_rate_init=0.01 \n",
      "[CV]  nn__hidden_layer_sizes=(200, 200, 200, 200, 200, 200, 200, 200), nn__learning_rate_init=0.01, score=0.3261024187727778, total=   2.8s\n",
      "[CV] nn__hidden_layer_sizes=(200, 200, 200, 200, 200, 200, 200, 200), nn__learning_rate_init=0.01 \n",
      "[CV]  nn__hidden_layer_sizes=(200, 200, 200, 200, 200, 200, 200, 200), nn__learning_rate_init=0.01, score=0.22285738516101883, total=   6.7s\n",
      "[CV] nn__hidden_layer_sizes=(250, 250, 250, 250, 250, 250, 250, 250), nn__learning_rate_init=0.01 \n",
      "[CV]  nn__hidden_layer_sizes=(250, 250, 250, 250, 250, 250, 250, 250), nn__learning_rate_init=0.01, score=0.46861551528580636, total=   3.4s\n",
      "[CV] nn__hidden_layer_sizes=(250, 250, 250, 250, 250, 250, 250, 250), nn__learning_rate_init=0.01 \n",
      "[CV]  nn__hidden_layer_sizes=(250, 250, 250, 250, 250, 250, 250, 250), nn__learning_rate_init=0.01, score=0.46724451630085684, total=   2.3s\n",
      "[CV] nn__hidden_layer_sizes=(250, 250, 250, 250, 250, 250, 250, 250), nn__learning_rate_init=0.01 \n",
      "[CV]  nn__hidden_layer_sizes=(250, 250, 250, 250, 250, 250, 250, 250), nn__learning_rate_init=0.01, score=0.3832446595924879, total=   5.1s\n",
      "[CV] nn__hidden_layer_sizes=(300, 300, 300, 300, 300, 300, 300, 300), nn__learning_rate_init=0.01 \n",
      "[CV]  nn__hidden_layer_sizes=(300, 300, 300, 300, 300, 300, 300, 300), nn__learning_rate_init=0.01, score=0.48929618736362823, total=   8.9s\n",
      "[CV] nn__hidden_layer_sizes=(300, 300, 300, 300, 300, 300, 300, 300), nn__learning_rate_init=0.01 \n",
      "[CV]  nn__hidden_layer_sizes=(300, 300, 300, 300, 300, 300, 300, 300), nn__learning_rate_init=0.01, score=0.5079609903256566, total=   6.0s\n",
      "[CV] nn__hidden_layer_sizes=(300, 300, 300, 300, 300, 300, 300, 300), nn__learning_rate_init=0.01 \n",
      "[CV]  nn__hidden_layer_sizes=(300, 300, 300, 300, 300, 300, 300, 300), nn__learning_rate_init=0.01, score=0.36403953247404974, total=  17.8s\n",
      "[CV] nn__hidden_layer_sizes=(350, 350, 350, 350, 350, 350, 350, 350), nn__learning_rate_init=0.01 \n",
      "[CV]  nn__hidden_layer_sizes=(350, 350, 350, 350, 350, 350, 350, 350), nn__learning_rate_init=0.01, score=0.49485493524349866, total=   6.4s\n",
      "[CV] nn__hidden_layer_sizes=(350, 350, 350, 350, 350, 350, 350, 350), nn__learning_rate_init=0.01 \n",
      "[CV]  nn__hidden_layer_sizes=(350, 350, 350, 350, 350, 350, 350, 350), nn__learning_rate_init=0.01, score=0.5221491270973329, total=   6.0s\n",
      "[CV] nn__hidden_layer_sizes=(350, 350, 350, 350, 350, 350, 350, 350), nn__learning_rate_init=0.01 \n",
      "[CV]  nn__hidden_layer_sizes=(350, 350, 350, 350, 350, 350, 350, 350), nn__learning_rate_init=0.01, score=0.1706932095949274, total=  10.3s\n",
      "[CV] nn__hidden_layer_sizes=(400, 400, 400, 400, 400, 400, 400, 400), nn__learning_rate_init=0.01 \n",
      "[CV]  nn__hidden_layer_sizes=(400, 400, 400, 400, 400, 400, 400, 400), nn__learning_rate_init=0.01, score=0.4076533939232505, total=  23.0s\n",
      "[CV] nn__hidden_layer_sizes=(400, 400, 400, 400, 400, 400, 400, 400), nn__learning_rate_init=0.01 \n",
      "[CV]  nn__hidden_layer_sizes=(400, 400, 400, 400, 400, 400, 400, 400), nn__learning_rate_init=0.01, score=0.5397668476520303, total=   6.8s\n",
      "[CV] nn__hidden_layer_sizes=(400, 400, 400, 400, 400, 400, 400, 400), nn__learning_rate_init=0.01 \n",
      "[CV]  nn__hidden_layer_sizes=(400, 400, 400, 400, 400, 400, 400, 400), nn__learning_rate_init=0.01, score=-0.4481109638749474, total=   2.5s\n",
      "[CV] nn__hidden_layer_sizes=(100, 100, 100, 100, 100, 100, 100, 100, 100), nn__learning_rate_init=0.01 \n",
      "[CV]  nn__hidden_layer_sizes=(100, 100, 100, 100, 100, 100, 100, 100, 100), nn__learning_rate_init=0.01, score=0.49458287088592734, total=   1.7s\n",
      "[CV] nn__hidden_layer_sizes=(100, 100, 100, 100, 100, 100, 100, 100, 100), nn__learning_rate_init=0.01 \n",
      "[CV]  nn__hidden_layer_sizes=(100, 100, 100, 100, 100, 100, 100, 100, 100), nn__learning_rate_init=0.01, score=0.5396301052231243, total=   0.9s\n",
      "[CV] nn__hidden_layer_sizes=(100, 100, 100, 100, 100, 100, 100, 100, 100), nn__learning_rate_init=0.01 \n",
      "[CV]  nn__hidden_layer_sizes=(100, 100, 100, 100, 100, 100, 100, 100, 100), nn__learning_rate_init=0.01, score=0.34129129802373137, total=   3.2s\n",
      "[CV] nn__hidden_layer_sizes=(150, 150, 150, 150, 150, 150, 150, 150, 150), nn__learning_rate_init=0.01 \n",
      "[CV]  nn__hidden_layer_sizes=(150, 150, 150, 150, 150, 150, 150, 150, 150), nn__learning_rate_init=0.01, score=0.34242152469213905, total=   3.0s\n",
      "[CV] nn__hidden_layer_sizes=(150, 150, 150, 150, 150, 150, 150, 150, 150), nn__learning_rate_init=0.01 \n",
      "[CV]  nn__hidden_layer_sizes=(150, 150, 150, 150, 150, 150, 150, 150, 150), nn__learning_rate_init=0.01, score=0.5106545790934902, total=   2.9s\n",
      "[CV] nn__hidden_layer_sizes=(150, 150, 150, 150, 150, 150, 150, 150, 150), nn__learning_rate_init=0.01 \n",
      "[CV]  nn__hidden_layer_sizes=(150, 150, 150, 150, 150, 150, 150, 150, 150), nn__learning_rate_init=0.01, score=0.5021838218934446, total=   2.5s\n",
      "[CV] nn__hidden_layer_sizes=(200, 200, 200, 200, 200, 200, 200, 200, 200), nn__learning_rate_init=0.01 \n",
      "[CV]  nn__hidden_layer_sizes=(200, 200, 200, 200, 200, 200, 200, 200, 200), nn__learning_rate_init=0.01, score=0.4710096408913451, total=   5.1s\n",
      "[CV] nn__hidden_layer_sizes=(200, 200, 200, 200, 200, 200, 200, 200, 200), nn__learning_rate_init=0.01 \n",
      "[CV]  nn__hidden_layer_sizes=(200, 200, 200, 200, 200, 200, 200, 200, 200), nn__learning_rate_init=0.01, score=0.4857395754382662, total=   1.8s\n",
      "[CV] nn__hidden_layer_sizes=(200, 200, 200, 200, 200, 200, 200, 200, 200), nn__learning_rate_init=0.01 \n",
      "[CV]  nn__hidden_layer_sizes=(200, 200, 200, 200, 200, 200, 200, 200, 200), nn__learning_rate_init=0.01, score=0.266189834142635, total=   2.4s\n",
      "[CV] nn__hidden_layer_sizes=(250, 250, 250, 250, 250, 250, 250, 250, 250), nn__learning_rate_init=0.01 \n",
      "[CV]  nn__hidden_layer_sizes=(250, 250, 250, 250, 250, 250, 250, 250, 250), nn__learning_rate_init=0.01, score=0.4079365429085311, total=   8.6s\n",
      "[CV] nn__hidden_layer_sizes=(250, 250, 250, 250, 250, 250, 250, 250, 250), nn__learning_rate_init=0.01 \n",
      "[CV]  nn__hidden_layer_sizes=(250, 250, 250, 250, 250, 250, 250, 250, 250), nn__learning_rate_init=0.01, score=0.3554649006604558, total=   3.2s\n",
      "[CV] nn__hidden_layer_sizes=(250, 250, 250, 250, 250, 250, 250, 250, 250), nn__learning_rate_init=0.01 \n",
      "[CV]  nn__hidden_layer_sizes=(250, 250, 250, 250, 250, 250, 250, 250, 250), nn__learning_rate_init=0.01, score=0.3924376742953871, total=   5.4s\n",
      "[CV] nn__hidden_layer_sizes=(300, 300, 300, 300, 300, 300, 300, 300, 300), nn__learning_rate_init=0.01 \n",
      "[CV]  nn__hidden_layer_sizes=(300, 300, 300, 300, 300, 300, 300, 300, 300), nn__learning_rate_init=0.01, score=-0.29903450220844374, total=   1.4s\n",
      "[CV] nn__hidden_layer_sizes=(300, 300, 300, 300, 300, 300, 300, 300, 300), nn__learning_rate_init=0.01 \n",
      "[CV]  nn__hidden_layer_sizes=(300, 300, 300, 300, 300, 300, 300, 300, 300), nn__learning_rate_init=0.01, score=0.5128388144039346, total=   7.0s\n",
      "[CV] nn__hidden_layer_sizes=(300, 300, 300, 300, 300, 300, 300, 300, 300), nn__learning_rate_init=0.01 \n",
      "[CV]  nn__hidden_layer_sizes=(300, 300, 300, 300, 300, 300, 300, 300, 300), nn__learning_rate_init=0.01, score=0.3434763975156847, total=   8.2s\n",
      "[CV] nn__hidden_layer_sizes=(350, 350, 350, 350, 350, 350, 350, 350, 350), nn__learning_rate_init=0.01 \n"
     ]
    },
    {
     "name": "stdout",
     "output_type": "stream",
     "text": [
      "[CV]  nn__hidden_layer_sizes=(350, 350, 350, 350, 350, 350, 350, 350, 350), nn__learning_rate_init=0.01, score=0.21187212141154932, total=   4.0s\n",
      "[CV] nn__hidden_layer_sizes=(350, 350, 350, 350, 350, 350, 350, 350, 350), nn__learning_rate_init=0.01 \n",
      "[CV]  nn__hidden_layer_sizes=(350, 350, 350, 350, 350, 350, 350, 350, 350), nn__learning_rate_init=0.01, score=0.40613219704858894, total=   2.3s\n",
      "[CV] nn__hidden_layer_sizes=(350, 350, 350, 350, 350, 350, 350, 350, 350), nn__learning_rate_init=0.01 \n",
      "[CV]  nn__hidden_layer_sizes=(350, 350, 350, 350, 350, 350, 350, 350, 350), nn__learning_rate_init=0.01, score=-0.07791103777319663, total=   3.5s\n",
      "[CV] nn__hidden_layer_sizes=(400, 400, 400, 400, 400, 400, 400, 400, 400), nn__learning_rate_init=0.01 \n",
      "[CV]  nn__hidden_layer_sizes=(400, 400, 400, 400, 400, 400, 400, 400, 400), nn__learning_rate_init=0.01, score=-0.30033221915955366, total=   2.8s\n",
      "[CV] nn__hidden_layer_sizes=(400, 400, 400, 400, 400, 400, 400, 400, 400), nn__learning_rate_init=0.01 \n",
      "[CV]  nn__hidden_layer_sizes=(400, 400, 400, 400, 400, 400, 400, 400, 400), nn__learning_rate_init=0.01, score=-0.3277686870353711, total=   3.2s\n",
      "[CV] nn__hidden_layer_sizes=(400, 400, 400, 400, 400, 400, 400, 400, 400), nn__learning_rate_init=0.01 \n",
      "[CV]  nn__hidden_layer_sizes=(400, 400, 400, 400, 400, 400, 400, 400, 400), nn__learning_rate_init=0.01, score=0.1228606150476157, total=   3.9s\n"
     ]
    },
    {
     "name": "stderr",
     "output_type": "stream",
     "text": [
      "[Parallel(n_jobs=1)]: Done 126 out of 126 | elapsed: 16.8min finished\n"
     ]
    },
    {
     "data": {
      "text/plain": [
       "GridSearchCV(cv=3, error_score='raise',\n",
       "       estimator=Pipeline(memory=None,\n",
       "     steps=[('scale', StandardScaler(copy=True, with_mean=True, with_std=True)), ('nn', MLPRegressor(activation='relu', alpha=0.0001, batch_size='auto', beta_1=0.9,\n",
       "       beta_2=0.999, early_stopping=False, epsilon=1e-08,\n",
       "       hidden_layer_sizes=(100,), learning_rate='constant',\n",
       "       learning_rate_i...=True, solver='adam', tol=0.0001, validation_fraction=0.1,\n",
       "       verbose=False, warm_start=False))]),\n",
       "       fit_params=None, iid=True, n_jobs=1,\n",
       "       param_grid={'nn__hidden_layer_sizes': [(100, 100, 100, 100), (150, 150, 150, 150), (200, 200, 200, 200), (250, 250, 250, 250), (300, 300, 300, 300), (350, 350, 350, 350), (400, 400, 400, 400), (100, 100, 100, 100, 100), (150, 150, 150, 150, 150), (200, 200, 200, 200, 200), (250, 250, 250, 250, 250),...0, 350, 350, 350), (400, 400, 400, 400, 400, 400, 400, 400, 400)], 'nn__learning_rate_init': [0.01]},\n",
       "       pre_dispatch='2*n_jobs', refit=True, return_train_score='warn',\n",
       "       scoring='r2', verbose=10)"
      ]
     },
     "execution_count": 12,
     "metadata": {},
     "output_type": "execute_result"
    }
   ],
   "source": [
    "grid = GridSearchCV(pipe, {'nn__hidden_layer_sizes': [(n,)*x for x in range(4, 10) for n in range(100, 450, 50)], 'nn__learning_rate_init': [0.01]}, scoring='r2', verbose=10, cv=3)\n",
    "grid.fit(X_train, np.ravel(y_train))"
   ]
  },
  {
   "cell_type": "code",
   "execution_count": 14,
   "metadata": {},
   "outputs": [
    {
     "data": {
      "image/png": "[encoded data removed]",
      "text/plain": [
       "<Figure size 432x288 with 1 Axes>"
      ]
     },
     "metadata": {},
     "output_type": "display_data"
    }
   ],
   "source": [
    "plt.plot(range(100, 450, 50), grid.cv_results_['mean_test_score'].reshape(6,7).transpose())\n",
    "plt.legend([str(i) + ' layers' for i in range(4,10)])\n",
    "plt.xlabel('Number of nodes')\n",
    "plt.ylabel('OSR^2')\n",
    "plt.title('Cross-validation OSR^2')\n",
    "plt.show()"
   ]
  },
  {
   "cell_type": "code",
   "execution_count": 15,
   "metadata": {},
   "outputs": [
    {
     "data": {
      "text/plain": [
       "{'memory': None,\n",
       " 'nn': MLPRegressor(activation='relu', alpha=0.0001, batch_size='auto', beta_1=0.9,\n",
       "        beta_2=0.999, early_stopping=False, epsilon=1e-08,\n",
       "        hidden_layer_sizes=(300, 300, 300, 300, 300, 300, 300),\n",
       "        learning_rate='constant', learning_rate_init=0.01, max_iter=200,\n",
       "        momentum=0.9, nesterovs_momentum=True, power_t=0.5,\n",
       "        random_state=None, shuffle=True, solver='adam', tol=0.0001,\n",
       "        validation_fraction=0.1, verbose=False, warm_start=False),\n",
       " 'nn__activation': 'relu',\n",
       " 'nn__alpha': 0.0001,\n",
       " 'nn__batch_size': 'auto',\n",
       " 'nn__beta_1': 0.9,\n",
       " 'nn__beta_2': 0.999,\n",
       " 'nn__early_stopping': False,\n",
       " 'nn__epsilon': 1e-08,\n",
       " 'nn__hidden_layer_sizes': (300, 300, 300, 300, 300, 300, 300),\n",
       " 'nn__learning_rate': 'constant',\n",
       " 'nn__learning_rate_init': 0.01,\n",
       " 'nn__max_iter': 200,\n",
       " 'nn__momentum': 0.9,\n",
       " 'nn__nesterovs_momentum': True,\n",
       " 'nn__power_t': 0.5,\n",
       " 'nn__random_state': None,\n",
       " 'nn__shuffle': True,\n",
       " 'nn__solver': 'adam',\n",
       " 'nn__tol': 0.0001,\n",
       " 'nn__validation_fraction': 0.1,\n",
       " 'nn__verbose': False,\n",
       " 'nn__warm_start': False,\n",
       " 'scale': StandardScaler(copy=True, with_mean=True, with_std=True),\n",
       " 'scale__copy': True,\n",
       " 'scale__with_mean': True,\n",
       " 'scale__with_std': True,\n",
       " 'steps': [('scale', StandardScaler(copy=True, with_mean=True, with_std=True)),\n",
       "  ('nn',\n",
       "   MLPRegressor(activation='relu', alpha=0.0001, batch_size='auto', beta_1=0.9,\n",
       "          beta_2=0.999, early_stopping=False, epsilon=1e-08,\n",
       "          hidden_layer_sizes=(300, 300, 300, 300, 300, 300, 300),\n",
       "          learning_rate='constant', learning_rate_init=0.01, max_iter=200,\n",
       "          momentum=0.9, nesterovs_momentum=True, power_t=0.5,\n",
       "          random_state=None, shuffle=True, solver='adam', tol=0.0001,\n",
       "          validation_fraction=0.1, verbose=False, warm_start=False))]}"
      ]
     },
     "execution_count": 15,
     "metadata": {},
     "output_type": "execute_result"
    }
   ],
   "source": [
    "grid.best_estimator_.get_params()"
   ]
  },
  {
   "cell_type": "code",
   "execution_count": 34,
   "metadata": {},
   "outputs": [
    {
     "name": "stdout",
     "output_type": "stream",
     "text": [
      "OSR2 on test data:  0.4947735408999542\n",
      "MAE on test data:  27751705.805033427\n",
      "RMSE on test data:  48493358.75387004\n"
     ]
    }
   ],
   "source": [
    "y_pred = grid.predict(X_test)\n",
    "\n",
    "print('OSR2 on test data: ', grid.score(X_test, y_test))\n",
    "print('MAE on test data: ', mean_absolute_error(y_test, y_pred))\n",
    "print('RMSE on test data: ', np.sqrt(mean_squared_error(y_test, y_pred)))"
   ]
  },
  {
   "cell_type": "markdown",
   "metadata": {},
   "source": [
    "## With PCA"
   ]
  },
  {
   "cell_type": "code",
   "execution_count": 42,
   "metadata": {},
   "outputs": [
    {
     "data": {
      "image/png": "[encoded data removed]",
      "text/plain": [
       "<Figure size 432x288 with 1 Axes>"
      ]
     },
     "metadata": {},
     "output_type": "display_data"
    }
   ],
   "source": [
    "pca = PCA()\n",
    "pca.fit(X_train, y_train)\n",
    "plt.semilogy(pca.singular_values_)\n",
    "plt.title('Singular values')\n",
    "plt.xlabel('Position of singular value (by decreasing order)')\n",
    "plt.ylabel('Value')\n",
    "plt.show()"
   ]
  },
  {
   "cell_type": "markdown",
   "metadata": {},
   "source": [
    "As we can see, the first 4 or 5 values are very high compared to the following ones. However, we may want too keep up to the first 50 features so as to not lose information."
   ]
  },
  {
   "cell_type": "code",
   "execution_count": 48,
   "metadata": {},
   "outputs": [],
   "source": [
    "pipe = Pipeline([('pca', PCA()), ('scale', StandardScaler()), ('nn', MLPRegressor())])\n",
    "params = {\n",
    "    'pca__n_components': np.arange(10, 60, 10),\n",
    "    'nn__hidden_layer_sizes': [(n,)*x for x in range(2, 8) for n in range(50, 400, 50)],\n",
    "    'nn__learning_rate_init': [0.01],\n",
    "}"
   ]
  },
  {
   "cell_type": "code",
   "execution_count": 49,
   "metadata": {},
   "outputs": [
    {
     "name": "stdout",
     "output_type": "stream",
     "text": [
      "Fitting 3 folds for each of 210 candidates, totalling 630 fits\n",
      "[CV] nn__hidden_layer_sizes=(50, 50), nn__learning_rate_init=0.01, pca__n_components=10 \n"
     ]
    },
    {
     "name": "stderr",
     "output_type": "stream",
     "text": [
      "/usr/local/lib/python3.6/site-packages/sklearn/neural_network/multilayer_perceptron.py:564: ConvergenceWarning: Stochastic Optimizer: Maximum iterations (200) reached and the optimization hasn't converged yet.\n",
      "  % self.max_iter, ConvergenceWarning)\n",
      "[Parallel(n_jobs=1)]: Done   1 out of   1 | elapsed:    1.6s remaining:    0.0s\n"
     ]
    },
    {
     "name": "stdout",
     "output_type": "stream",
     "text": [
      "[CV]  nn__hidden_layer_sizes=(50, 50), nn__learning_rate_init=0.01, pca__n_components=10, score=0.28847451307698646, total=   1.6s\n",
      "[CV] nn__hidden_layer_sizes=(50, 50), nn__learning_rate_init=0.01, pca__n_components=10 \n"
     ]
    },
    {
     "name": "stderr",
     "output_type": "stream",
     "text": [
      "/usr/local/lib/python3.6/site-packages/sklearn/neural_network/multilayer_perceptron.py:564: ConvergenceWarning: Stochastic Optimizer: Maximum iterations (200) reached and the optimization hasn't converged yet.\n",
      "  % self.max_iter, ConvergenceWarning)\n",
      "[Parallel(n_jobs=1)]: Done   2 out of   2 | elapsed:    3.3s remaining:    0.0s\n"
     ]
    },
    {
     "name": "stdout",
     "output_type": "stream",
     "text": [
      "[CV]  nn__hidden_layer_sizes=(50, 50), nn__learning_rate_init=0.01, pca__n_components=10, score=0.3790301298351382, total=   1.7s\n",
      "[CV] nn__hidden_layer_sizes=(50, 50), nn__learning_rate_init=0.01, pca__n_components=10 \n"
     ]
    },
    {
     "name": "stderr",
     "output_type": "stream",
     "text": [
      "/usr/local/lib/python3.6/site-packages/sklearn/neural_network/multilayer_perceptron.py:564: ConvergenceWarning: Stochastic Optimizer: Maximum iterations (200) reached and the optimization hasn't converged yet.\n",
      "  % self.max_iter, ConvergenceWarning)\n",
      "[Parallel(n_jobs=1)]: Done   3 out of   3 | elapsed:    5.0s remaining:    0.0s\n"
     ]
    },
    {
     "name": "stdout",
     "output_type": "stream",
     "text": [
      "[CV]  nn__hidden_layer_sizes=(50, 50), nn__learning_rate_init=0.01, pca__n_components=10, score=0.32474224458042844, total=   1.7s\n",
      "[CV] nn__hidden_layer_sizes=(50, 50), nn__learning_rate_init=0.01, pca__n_components=20 \n"
     ]
    },
    {
     "name": "stderr",
     "output_type": "stream",
     "text": [
      "/usr/local/lib/python3.6/site-packages/sklearn/neural_network/multilayer_perceptron.py:564: ConvergenceWarning: Stochastic Optimizer: Maximum iterations (200) reached and the optimization hasn't converged yet.\n",
      "  % self.max_iter, ConvergenceWarning)\n",
      "[Parallel(n_jobs=1)]: Done   4 out of   4 | elapsed:    6.8s remaining:    0.0s\n"
     ]
    },
    {
     "name": "stdout",
     "output_type": "stream",
     "text": [
      "[CV]  nn__hidden_layer_sizes=(50, 50), nn__learning_rate_init=0.01, pca__n_components=20, score=0.4183634694010716, total=   1.8s\n",
      "[CV] nn__hidden_layer_sizes=(50, 50), nn__learning_rate_init=0.01, pca__n_components=20 \n"
     ]
    },
    {
     "name": "stderr",
     "output_type": "stream",
     "text": [
      "/usr/local/lib/python3.6/site-packages/sklearn/neural_network/multilayer_perceptron.py:564: ConvergenceWarning: Stochastic Optimizer: Maximum iterations (200) reached and the optimization hasn't converged yet.\n",
      "  % self.max_iter, ConvergenceWarning)\n",
      "[Parallel(n_jobs=1)]: Done   5 out of   5 | elapsed:    8.5s remaining:    0.0s\n"
     ]
    },
    {
     "name": "stdout",
     "output_type": "stream",
     "text": [
      "[CV]  nn__hidden_layer_sizes=(50, 50), nn__learning_rate_init=0.01, pca__n_components=20, score=0.3753030351439083, total=   1.7s\n",
      "[CV] nn__hidden_layer_sizes=(50, 50), nn__learning_rate_init=0.01, pca__n_components=20 \n"
     ]
    },
    {
     "name": "stderr",
     "output_type": "stream",
     "text": [
      "/usr/local/lib/python3.6/site-packages/sklearn/neural_network/multilayer_perceptron.py:564: ConvergenceWarning: Stochastic Optimizer: Maximum iterations (200) reached and the optimization hasn't converged yet.\n",
      "  % self.max_iter, ConvergenceWarning)\n",
      "[Parallel(n_jobs=1)]: Done   6 out of   6 | elapsed:   10.2s remaining:    0.0s\n"
     ]
    },
    {
     "name": "stdout",
     "output_type": "stream",
     "text": [
      "[CV]  nn__hidden_layer_sizes=(50, 50), nn__learning_rate_init=0.01, pca__n_components=20, score=0.4129191264397327, total=   1.7s\n",
      "[CV] nn__hidden_layer_sizes=(50, 50), nn__learning_rate_init=0.01, pca__n_components=30 \n"
     ]
    },
    {
     "name": "stderr",
     "output_type": "stream",
     "text": [
      "/usr/local/lib/python3.6/site-packages/sklearn/neural_network/multilayer_perceptron.py:564: ConvergenceWarning: Stochastic Optimizer: Maximum iterations (200) reached and the optimization hasn't converged yet.\n",
      "  % self.max_iter, ConvergenceWarning)\n",
      "[Parallel(n_jobs=1)]: Done   7 out of   7 | elapsed:   11.9s remaining:    0.0s\n"
     ]
    },
    {
     "name": "stdout",
     "output_type": "stream",
     "text": [
      "[CV]  nn__hidden_layer_sizes=(50, 50), nn__learning_rate_init=0.01, pca__n_components=30, score=0.38948355010835733, total=   1.8s\n",
      "[CV] nn__hidden_layer_sizes=(50, 50), nn__learning_rate_init=0.01, pca__n_components=30 \n"
     ]
    },
    {
     "name": "stderr",
     "output_type": "stream",
     "text": [
      "/usr/local/lib/python3.6/site-packages/sklearn/neural_network/multilayer_perceptron.py:564: ConvergenceWarning: Stochastic Optimizer: Maximum iterations (200) reached and the optimization hasn't converged yet.\n",
      "  % self.max_iter, ConvergenceWarning)\n",
      "[Parallel(n_jobs=1)]: Done   8 out of   8 | elapsed:   13.7s remaining:    0.0s\n"
     ]
    },
    {
     "name": "stdout",
     "output_type": "stream",
     "text": [
      "[CV]  nn__hidden_layer_sizes=(50, 50), nn__learning_rate_init=0.01, pca__n_components=30, score=0.35184813103092516, total=   1.8s\n",
      "[CV] nn__hidden_layer_sizes=(50, 50), nn__learning_rate_init=0.01, pca__n_components=30 \n"
     ]
    },
    {
     "name": "stderr",
     "output_type": "stream",
     "text": [
      "/usr/local/lib/python3.6/site-packages/sklearn/neural_network/multilayer_perceptron.py:564: ConvergenceWarning: Stochastic Optimizer: Maximum iterations (200) reached and the optimization hasn't converged yet.\n",
      "  % self.max_iter, ConvergenceWarning)\n",
      "[Parallel(n_jobs=1)]: Done   9 out of   9 | elapsed:   15.6s remaining:    0.0s\n"
     ]
    },
    {
     "name": "stdout",
     "output_type": "stream",
     "text": [
      "[CV]  nn__hidden_layer_sizes=(50, 50), nn__learning_rate_init=0.01, pca__n_components=30, score=0.37832825286226823, total=   1.8s\n",
      "[CV] nn__hidden_layer_sizes=(50, 50), nn__learning_rate_init=0.01, pca__n_components=40 \n"
     ]
    },
    {
     "name": "stderr",
     "output_type": "stream",
     "text": [
      "/usr/local/lib/python3.6/site-packages/sklearn/neural_network/multilayer_perceptron.py:564: ConvergenceWarning: Stochastic Optimizer: Maximum iterations (200) reached and the optimization hasn't converged yet.\n",
      "  % self.max_iter, ConvergenceWarning)\n"
     ]
    },
    {
     "name": "stdout",
     "output_type": "stream",
     "text": [
      "[CV]  nn__hidden_layer_sizes=(50, 50), nn__learning_rate_init=0.01, pca__n_components=40, score=0.3736239070250764, total=   1.9s\n",
      "[CV] nn__hidden_layer_sizes=(50, 50), nn__learning_rate_init=0.01, pca__n_components=40 \n"
     ]
    },
    {
     "name": "stderr",
     "output_type": "stream",
     "text": [
      "/usr/local/lib/python3.6/site-packages/sklearn/neural_network/multilayer_perceptron.py:564: ConvergenceWarning: Stochastic Optimizer: Maximum iterations (200) reached and the optimization hasn't converged yet.\n",
      "  % self.max_iter, ConvergenceWarning)\n"
     ]
    },
    {
     "name": "stdout",
     "output_type": "stream",
     "text": [
      "[CV]  nn__hidden_layer_sizes=(50, 50), nn__learning_rate_init=0.01, pca__n_components=40, score=0.3903159575070405, total=   1.8s\n",
      "[CV] nn__hidden_layer_sizes=(50, 50), nn__learning_rate_init=0.01, pca__n_components=40 \n"
     ]
    },
    {
     "name": "stderr",
     "output_type": "stream",
     "text": [
      "/usr/local/lib/python3.6/site-packages/sklearn/neural_network/multilayer_perceptron.py:564: ConvergenceWarning: Stochastic Optimizer: Maximum iterations (200) reached and the optimization hasn't converged yet.\n",
      "  % self.max_iter, ConvergenceWarning)\n"
     ]
    },
    {
     "name": "stdout",
     "output_type": "stream",
     "text": [
      "[CV]  nn__hidden_layer_sizes=(50, 50), nn__learning_rate_init=0.01, pca__n_components=40, score=0.3963948648352855, total=   1.7s\n",
      "[CV] nn__hidden_layer_sizes=(50, 50), nn__learning_rate_init=0.01, pca__n_components=50 \n"
     ]
    },
    {
     "name": "stderr",
     "output_type": "stream",
     "text": [
      "/usr/local/lib/python3.6/site-packages/sklearn/neural_network/multilayer_perceptron.py:564: ConvergenceWarning: Stochastic Optimizer: Maximum iterations (200) reached and the optimization hasn't converged yet.\n",
      "  % self.max_iter, ConvergenceWarning)\n"
     ]
    },
    {
     "name": "stdout",
     "output_type": "stream",
     "text": [
      "[CV]  nn__hidden_layer_sizes=(50, 50), nn__learning_rate_init=0.01, pca__n_components=50, score=0.37849101437444066, total=   2.0s\n",
      "[CV] nn__hidden_layer_sizes=(50, 50), nn__learning_rate_init=0.01, pca__n_components=50 \n"
     ]
    },
    {
     "name": "stderr",
     "output_type": "stream",
     "text": [
      "/usr/local/lib/python3.6/site-packages/sklearn/neural_network/multilayer_perceptron.py:564: ConvergenceWarning: Stochastic Optimizer: Maximum iterations (200) reached and the optimization hasn't converged yet.\n",
      "  % self.max_iter, ConvergenceWarning)\n"
     ]
    },
    {
     "name": "stdout",
     "output_type": "stream",
     "text": [
      "[CV]  nn__hidden_layer_sizes=(50, 50), nn__learning_rate_init=0.01, pca__n_components=50, score=0.40486672461977224, total=   1.8s\n",
      "[CV] nn__hidden_layer_sizes=(50, 50), nn__learning_rate_init=0.01, pca__n_components=50 \n"
     ]
    },
    {
     "name": "stderr",
     "output_type": "stream",
     "text": [
      "/usr/local/lib/python3.6/site-packages/sklearn/neural_network/multilayer_perceptron.py:564: ConvergenceWarning: Stochastic Optimizer: Maximum iterations (200) reached and the optimization hasn't converged yet.\n",
      "  % self.max_iter, ConvergenceWarning)\n"
     ]
    },
    {
     "name": "stdout",
     "output_type": "stream",
     "text": [
      "[CV]  nn__hidden_layer_sizes=(50, 50), nn__learning_rate_init=0.01, pca__n_components=50, score=0.3351495405539924, total=   2.1s\n",
      "[CV] nn__hidden_layer_sizes=(100, 100), nn__learning_rate_init=0.01, pca__n_components=10 \n"
     ]
    },
    {
     "name": "stderr",
     "output_type": "stream",
     "text": [
      "/usr/local/lib/python3.6/site-packages/sklearn/neural_network/multilayer_perceptron.py:564: ConvergenceWarning: Stochastic Optimizer: Maximum iterations (200) reached and the optimization hasn't converged yet.\n",
      "  % self.max_iter, ConvergenceWarning)\n"
     ]
    },
    {
     "name": "stdout",
     "output_type": "stream",
     "text": [
      "[CV]  nn__hidden_layer_sizes=(100, 100), nn__learning_rate_init=0.01, pca__n_components=10, score=0.40604071715303724, total=   2.9s\n",
      "[CV] nn__hidden_layer_sizes=(100, 100), nn__learning_rate_init=0.01, pca__n_components=10 \n"
     ]
    },
    {
     "name": "stderr",
     "output_type": "stream",
     "text": [
      "/usr/local/lib/python3.6/site-packages/sklearn/neural_network/multilayer_perceptron.py:564: ConvergenceWarning: Stochastic Optimizer: Maximum iterations (200) reached and the optimization hasn't converged yet.\n",
      "  % self.max_iter, ConvergenceWarning)\n"
     ]
    },
    {
     "name": "stdout",
     "output_type": "stream",
     "text": [
      "[CV]  nn__hidden_layer_sizes=(100, 100), nn__learning_rate_init=0.01, pca__n_components=10, score=0.45260370967229857, total=   2.8s\n",
      "[CV] nn__hidden_layer_sizes=(100, 100), nn__learning_rate_init=0.01, pca__n_components=10 \n"
     ]
    },
    {
     "name": "stderr",
     "output_type": "stream",
     "text": [
      "/usr/local/lib/python3.6/site-packages/sklearn/neural_network/multilayer_perceptron.py:564: ConvergenceWarning: Stochastic Optimizer: Maximum iterations (200) reached and the optimization hasn't converged yet.\n",
      "  % self.max_iter, ConvergenceWarning)\n"
     ]
    },
    {
     "name": "stdout",
     "output_type": "stream",
     "text": [
      "[CV]  nn__hidden_layer_sizes=(100, 100), nn__learning_rate_init=0.01, pca__n_components=10, score=0.44193208405575823, total=   3.1s\n",
      "[CV] nn__hidden_layer_sizes=(100, 100), nn__learning_rate_init=0.01, pca__n_components=20 \n"
     ]
    },
    {
     "name": "stderr",
     "output_type": "stream",
     "text": [
      "/usr/local/lib/python3.6/site-packages/sklearn/neural_network/multilayer_perceptron.py:564: ConvergenceWarning: Stochastic Optimizer: Maximum iterations (200) reached and the optimization hasn't converged yet.\n",
      "  % self.max_iter, ConvergenceWarning)\n"
     ]
    },
    {
     "name": "stdout",
     "output_type": "stream",
     "text": [
      "[CV]  nn__hidden_layer_sizes=(100, 100), nn__learning_rate_init=0.01, pca__n_components=20, score=0.44345679329316245, total=   3.2s\n",
      "[CV] nn__hidden_layer_sizes=(100, 100), nn__learning_rate_init=0.01, pca__n_components=20 \n"
     ]
    },
    {
     "name": "stderr",
     "output_type": "stream",
     "text": [
      "/usr/local/lib/python3.6/site-packages/sklearn/neural_network/multilayer_perceptron.py:564: ConvergenceWarning: Stochastic Optimizer: Maximum iterations (200) reached and the optimization hasn't converged yet.\n",
      "  % self.max_iter, ConvergenceWarning)\n"
     ]
    },
    {
     "name": "stdout",
     "output_type": "stream",
     "text": [
      "[CV]  nn__hidden_layer_sizes=(100, 100), nn__learning_rate_init=0.01, pca__n_components=20, score=0.4583862852599938, total=   2.9s\n",
      "[CV] nn__hidden_layer_sizes=(100, 100), nn__learning_rate_init=0.01, pca__n_components=20 \n"
     ]
    },
    {
     "name": "stderr",
     "output_type": "stream",
     "text": [
      "/usr/local/lib/python3.6/site-packages/sklearn/neural_network/multilayer_perceptron.py:564: ConvergenceWarning: Stochastic Optimizer: Maximum iterations (200) reached and the optimization hasn't converged yet.\n",
      "  % self.max_iter, ConvergenceWarning)\n"
     ]
    },
    {
     "name": "stdout",
     "output_type": "stream",
     "text": [
      "[CV]  nn__hidden_layer_sizes=(100, 100), nn__learning_rate_init=0.01, pca__n_components=20, score=0.47136441113513194, total=   2.7s\n",
      "[CV] nn__hidden_layer_sizes=(100, 100), nn__learning_rate_init=0.01, pca__n_components=30 \n"
     ]
    },
    {
     "name": "stderr",
     "output_type": "stream",
     "text": [
      "/usr/local/lib/python3.6/site-packages/sklearn/neural_network/multilayer_perceptron.py:564: ConvergenceWarning: Stochastic Optimizer: Maximum iterations (200) reached and the optimization hasn't converged yet.\n",
      "  % self.max_iter, ConvergenceWarning)\n"
     ]
    },
    {
     "name": "stdout",
     "output_type": "stream",
     "text": [
      "[CV]  nn__hidden_layer_sizes=(100, 100), nn__learning_rate_init=0.01, pca__n_components=30, score=0.4579666438118657, total=   2.8s\n",
      "[CV] nn__hidden_layer_sizes=(100, 100), nn__learning_rate_init=0.01, pca__n_components=30 \n"
     ]
    },
    {
     "name": "stderr",
     "output_type": "stream",
     "text": [
      "/usr/local/lib/python3.6/site-packages/sklearn/neural_network/multilayer_perceptron.py:564: ConvergenceWarning: Stochastic Optimizer: Maximum iterations (200) reached and the optimization hasn't converged yet.\n",
      "  % self.max_iter, ConvergenceWarning)\n"
     ]
    },
    {
     "name": "stdout",
     "output_type": "stream",
     "text": [
      "[CV]  nn__hidden_layer_sizes=(100, 100), nn__learning_rate_init=0.01, pca__n_components=30, score=0.4792209612739029, total=   3.1s\n",
      "[CV] nn__hidden_layer_sizes=(100, 100), nn__learning_rate_init=0.01, pca__n_components=30 \n"
     ]
    },
    {
     "name": "stderr",
     "output_type": "stream",
     "text": [
      "/usr/local/lib/python3.6/site-packages/sklearn/neural_network/multilayer_perceptron.py:564: ConvergenceWarning: Stochastic Optimizer: Maximum iterations (200) reached and the optimization hasn't converged yet.\n",
      "  % self.max_iter, ConvergenceWarning)\n"
     ]
    },
    {
     "name": "stdout",
     "output_type": "stream",
     "text": [
      "[CV]  nn__hidden_layer_sizes=(100, 100), nn__learning_rate_init=0.01, pca__n_components=30, score=0.4817771735789893, total=   3.1s\n",
      "[CV] nn__hidden_layer_sizes=(100, 100), nn__learning_rate_init=0.01, pca__n_components=40 \n"
     ]
    },
    {
     "name": "stderr",
     "output_type": "stream",
     "text": [
      "/usr/local/lib/python3.6/site-packages/sklearn/neural_network/multilayer_perceptron.py:564: ConvergenceWarning: Stochastic Optimizer: Maximum iterations (200) reached and the optimization hasn't converged yet.\n",
      "  % self.max_iter, ConvergenceWarning)\n"
     ]
    },
    {
     "name": "stdout",
     "output_type": "stream",
     "text": [
      "[CV]  nn__hidden_layer_sizes=(100, 100), nn__learning_rate_init=0.01, pca__n_components=40, score=0.4606919745981922, total=   3.3s\n",
      "[CV] nn__hidden_layer_sizes=(100, 100), nn__learning_rate_init=0.01, pca__n_components=40 \n"
     ]
    },
    {
     "name": "stderr",
     "output_type": "stream",
     "text": [
      "/usr/local/lib/python3.6/site-packages/sklearn/neural_network/multilayer_perceptron.py:564: ConvergenceWarning: Stochastic Optimizer: Maximum iterations (200) reached and the optimization hasn't converged yet.\n",
      "  % self.max_iter, ConvergenceWarning)\n"
     ]
    },
    {
     "name": "stdout",
     "output_type": "stream",
     "text": [
      "[CV]  nn__hidden_layer_sizes=(100, 100), nn__learning_rate_init=0.01, pca__n_components=40, score=0.4964412839154262, total=   3.0s\n",
      "[CV] nn__hidden_layer_sizes=(100, 100), nn__learning_rate_init=0.01, pca__n_components=40 \n"
     ]
    },
    {
     "name": "stderr",
     "output_type": "stream",
     "text": [
      "/usr/local/lib/python3.6/site-packages/sklearn/neural_network/multilayer_perceptron.py:564: ConvergenceWarning: Stochastic Optimizer: Maximum iterations (200) reached and the optimization hasn't converged yet.\n",
      "  % self.max_iter, ConvergenceWarning)\n"
     ]
    },
    {
     "name": "stdout",
     "output_type": "stream",
     "text": [
      "[CV]  nn__hidden_layer_sizes=(100, 100), nn__learning_rate_init=0.01, pca__n_components=40, score=0.47197685166138703, total=   2.9s\n",
      "[CV] nn__hidden_layer_sizes=(100, 100), nn__learning_rate_init=0.01, pca__n_components=50 \n"
     ]
    },
    {
     "name": "stderr",
     "output_type": "stream",
     "text": [
      "/usr/local/lib/python3.6/site-packages/sklearn/neural_network/multilayer_perceptron.py:564: ConvergenceWarning: Stochastic Optimizer: Maximum iterations (200) reached and the optimization hasn't converged yet.\n",
      "  % self.max_iter, ConvergenceWarning)\n"
     ]
    },
    {
     "name": "stdout",
     "output_type": "stream",
     "text": [
      "[CV]  nn__hidden_layer_sizes=(100, 100), nn__learning_rate_init=0.01, pca__n_components=50, score=0.4491003251976988, total=   3.5s\n",
      "[CV] nn__hidden_layer_sizes=(100, 100), nn__learning_rate_init=0.01, pca__n_components=50 \n"
     ]
    },
    {
     "name": "stderr",
     "output_type": "stream",
     "text": [
      "/usr/local/lib/python3.6/site-packages/sklearn/neural_network/multilayer_perceptron.py:564: ConvergenceWarning: Stochastic Optimizer: Maximum iterations (200) reached and the optimization hasn't converged yet.\n",
      "  % self.max_iter, ConvergenceWarning)\n"
     ]
    },
    {
     "name": "stdout",
     "output_type": "stream",
     "text": [
      "[CV]  nn__hidden_layer_sizes=(100, 100), nn__learning_rate_init=0.01, pca__n_components=50, score=0.4871433656794597, total=   3.7s\n",
      "[CV] nn__hidden_layer_sizes=(100, 100), nn__learning_rate_init=0.01, pca__n_components=50 \n"
     ]
    },
    {
     "name": "stderr",
     "output_type": "stream",
     "text": [
      "/usr/local/lib/python3.6/site-packages/sklearn/neural_network/multilayer_perceptron.py:564: ConvergenceWarning: Stochastic Optimizer: Maximum iterations (200) reached and the optimization hasn't converged yet.\n",
      "  % self.max_iter, ConvergenceWarning)\n"
     ]
    },
    {
     "name": "stdout",
     "output_type": "stream",
     "text": [
      "[CV]  nn__hidden_layer_sizes=(100, 100), nn__learning_rate_init=0.01, pca__n_components=50, score=0.4280987806988037, total=   3.3s\n",
      "[CV] nn__hidden_layer_sizes=(150, 150), nn__learning_rate_init=0.01, pca__n_components=10 \n"
     ]
    },
    {
     "name": "stderr",
     "output_type": "stream",
     "text": [
      "/usr/local/lib/python3.6/site-packages/sklearn/neural_network/multilayer_perceptron.py:564: ConvergenceWarning: Stochastic Optimizer: Maximum iterations (200) reached and the optimization hasn't converged yet.\n",
      "  % self.max_iter, ConvergenceWarning)\n"
     ]
    },
    {
     "name": "stdout",
     "output_type": "stream",
     "text": [
      "[CV]  nn__hidden_layer_sizes=(150, 150), nn__learning_rate_init=0.01, pca__n_components=10, score=0.4205583323052018, total=   4.3s\n",
      "[CV] nn__hidden_layer_sizes=(150, 150), nn__learning_rate_init=0.01, pca__n_components=10 \n"
     ]
    },
    {
     "name": "stderr",
     "output_type": "stream",
     "text": [
      "/usr/local/lib/python3.6/site-packages/sklearn/neural_network/multilayer_perceptron.py:564: ConvergenceWarning: Stochastic Optimizer: Maximum iterations (200) reached and the optimization hasn't converged yet.\n",
      "  % self.max_iter, ConvergenceWarning)\n"
     ]
    },
    {
     "name": "stdout",
     "output_type": "stream",
     "text": [
      "[CV]  nn__hidden_layer_sizes=(150, 150), nn__learning_rate_init=0.01, pca__n_components=10, score=0.4623280723408323, total=   3.9s\n",
      "[CV] nn__hidden_layer_sizes=(150, 150), nn__learning_rate_init=0.01, pca__n_components=10 \n"
     ]
    },
    {
     "name": "stderr",
     "output_type": "stream",
     "text": [
      "/usr/local/lib/python3.6/site-packages/sklearn/neural_network/multilayer_perceptron.py:564: ConvergenceWarning: Stochastic Optimizer: Maximum iterations (200) reached and the optimization hasn't converged yet.\n",
      "  % self.max_iter, ConvergenceWarning)\n"
     ]
    },
    {
     "name": "stdout",
     "output_type": "stream",
     "text": [
      "[CV]  nn__hidden_layer_sizes=(150, 150), nn__learning_rate_init=0.01, pca__n_components=10, score=0.4517370211412175, total=   3.8s\n",
      "[CV] nn__hidden_layer_sizes=(150, 150), nn__learning_rate_init=0.01, pca__n_components=20 \n"
     ]
    },
    {
     "name": "stderr",
     "output_type": "stream",
     "text": [
      "/usr/local/lib/python3.6/site-packages/sklearn/neural_network/multilayer_perceptron.py:564: ConvergenceWarning: Stochastic Optimizer: Maximum iterations (200) reached and the optimization hasn't converged yet.\n",
      "  % self.max_iter, ConvergenceWarning)\n"
     ]
    },
    {
     "name": "stdout",
     "output_type": "stream",
     "text": [
      "[CV]  nn__hidden_layer_sizes=(150, 150), nn__learning_rate_init=0.01, pca__n_components=20, score=0.4580748724023356, total=   4.1s\n",
      "[CV] nn__hidden_layer_sizes=(150, 150), nn__learning_rate_init=0.01, pca__n_components=20 \n"
     ]
    },
    {
     "name": "stderr",
     "output_type": "stream",
     "text": [
      "/usr/local/lib/python3.6/site-packages/sklearn/neural_network/multilayer_perceptron.py:564: ConvergenceWarning: Stochastic Optimizer: Maximum iterations (200) reached and the optimization hasn't converged yet.\n",
      "  % self.max_iter, ConvergenceWarning)\n"
     ]
    },
    {
     "name": "stdout",
     "output_type": "stream",
     "text": [
      "[CV]  nn__hidden_layer_sizes=(150, 150), nn__learning_rate_init=0.01, pca__n_components=20, score=0.4700690755750655, total=   3.9s\n",
      "[CV] nn__hidden_layer_sizes=(150, 150), nn__learning_rate_init=0.01, pca__n_components=20 \n"
     ]
    },
    {
     "name": "stderr",
     "output_type": "stream",
     "text": [
      "/usr/local/lib/python3.6/site-packages/sklearn/neural_network/multilayer_perceptron.py:564: ConvergenceWarning: Stochastic Optimizer: Maximum iterations (200) reached and the optimization hasn't converged yet.\n",
      "  % self.max_iter, ConvergenceWarning)\n"
     ]
    },
    {
     "name": "stdout",
     "output_type": "stream",
     "text": [
      "[CV]  nn__hidden_layer_sizes=(150, 150), nn__learning_rate_init=0.01, pca__n_components=20, score=0.48231347185978213, total=   4.4s\n",
      "[CV] nn__hidden_layer_sizes=(150, 150), nn__learning_rate_init=0.01, pca__n_components=30 \n"
     ]
    },
    {
     "name": "stderr",
     "output_type": "stream",
     "text": [
      "/usr/local/lib/python3.6/site-packages/sklearn/neural_network/multilayer_perceptron.py:564: ConvergenceWarning: Stochastic Optimizer: Maximum iterations (200) reached and the optimization hasn't converged yet.\n",
      "  % self.max_iter, ConvergenceWarning)\n"
     ]
    },
    {
     "name": "stdout",
     "output_type": "stream",
     "text": [
      "[CV]  nn__hidden_layer_sizes=(150, 150), nn__learning_rate_init=0.01, pca__n_components=30, score=0.46731845355135804, total=   4.3s\n",
      "[CV] nn__hidden_layer_sizes=(150, 150), nn__learning_rate_init=0.01, pca__n_components=30 \n"
     ]
    },
    {
     "name": "stderr",
     "output_type": "stream",
     "text": [
      "/usr/local/lib/python3.6/site-packages/sklearn/neural_network/multilayer_perceptron.py:564: ConvergenceWarning: Stochastic Optimizer: Maximum iterations (200) reached and the optimization hasn't converged yet.\n",
      "  % self.max_iter, ConvergenceWarning)\n"
     ]
    },
    {
     "name": "stdout",
     "output_type": "stream",
     "text": [
      "[CV]  nn__hidden_layer_sizes=(150, 150), nn__learning_rate_init=0.01, pca__n_components=30, score=0.4937684317658618, total=   4.2s\n",
      "[CV] nn__hidden_layer_sizes=(150, 150), nn__learning_rate_init=0.01, pca__n_components=30 \n"
     ]
    },
    {
     "name": "stderr",
     "output_type": "stream",
     "text": [
      "/usr/local/lib/python3.6/site-packages/sklearn/neural_network/multilayer_perceptron.py:564: ConvergenceWarning: Stochastic Optimizer: Maximum iterations (200) reached and the optimization hasn't converged yet.\n",
      "  % self.max_iter, ConvergenceWarning)\n"
     ]
    },
    {
     "name": "stdout",
     "output_type": "stream",
     "text": [
      "[CV]  nn__hidden_layer_sizes=(150, 150), nn__learning_rate_init=0.01, pca__n_components=30, score=0.4971959451891329, total=   4.0s\n",
      "[CV] nn__hidden_layer_sizes=(150, 150), nn__learning_rate_init=0.01, pca__n_components=40 \n"
     ]
    },
    {
     "name": "stderr",
     "output_type": "stream",
     "text": [
      "/usr/local/lib/python3.6/site-packages/sklearn/neural_network/multilayer_perceptron.py:564: ConvergenceWarning: Stochastic Optimizer: Maximum iterations (200) reached and the optimization hasn't converged yet.\n",
      "  % self.max_iter, ConvergenceWarning)\n"
     ]
    },
    {
     "name": "stdout",
     "output_type": "stream",
     "text": [
      "[CV]  nn__hidden_layer_sizes=(150, 150), nn__learning_rate_init=0.01, pca__n_components=40, score=0.4742021830562937, total=   4.3s\n",
      "[CV] nn__hidden_layer_sizes=(150, 150), nn__learning_rate_init=0.01, pca__n_components=40 \n"
     ]
    },
    {
     "name": "stderr",
     "output_type": "stream",
     "text": [
      "/usr/local/lib/python3.6/site-packages/sklearn/neural_network/multilayer_perceptron.py:564: ConvergenceWarning: Stochastic Optimizer: Maximum iterations (200) reached and the optimization hasn't converged yet.\n",
      "  % self.max_iter, ConvergenceWarning)\n"
     ]
    },
    {
     "name": "stdout",
     "output_type": "stream",
     "text": [
      "[CV]  nn__hidden_layer_sizes=(150, 150), nn__learning_rate_init=0.01, pca__n_components=40, score=0.5121698300415037, total=   4.6s\n",
      "[CV] nn__hidden_layer_sizes=(150, 150), nn__learning_rate_init=0.01, pca__n_components=40 \n"
     ]
    },
    {
     "name": "stderr",
     "output_type": "stream",
     "text": [
      "/usr/local/lib/python3.6/site-packages/sklearn/neural_network/multilayer_perceptron.py:564: ConvergenceWarning: Stochastic Optimizer: Maximum iterations (200) reached and the optimization hasn't converged yet.\n",
      "  % self.max_iter, ConvergenceWarning)\n"
     ]
    },
    {
     "name": "stdout",
     "output_type": "stream",
     "text": [
      "[CV]  nn__hidden_layer_sizes=(150, 150), nn__learning_rate_init=0.01, pca__n_components=40, score=0.4882691122604803, total=   4.3s\n",
      "[CV] nn__hidden_layer_sizes=(150, 150), nn__learning_rate_init=0.01, pca__n_components=50 \n"
     ]
    },
    {
     "name": "stderr",
     "output_type": "stream",
     "text": [
      "/usr/local/lib/python3.6/site-packages/sklearn/neural_network/multilayer_perceptron.py:564: ConvergenceWarning: Stochastic Optimizer: Maximum iterations (200) reached and the optimization hasn't converged yet.\n",
      "  % self.max_iter, ConvergenceWarning)\n"
     ]
    },
    {
     "name": "stdout",
     "output_type": "stream",
     "text": [
      "[CV]  nn__hidden_layer_sizes=(150, 150), nn__learning_rate_init=0.01, pca__n_components=50, score=0.46374791665188164, total=   4.6s\n",
      "[CV] nn__hidden_layer_sizes=(150, 150), nn__learning_rate_init=0.01, pca__n_components=50 \n"
     ]
    },
    {
     "name": "stderr",
     "output_type": "stream",
     "text": [
      "/usr/local/lib/python3.6/site-packages/sklearn/neural_network/multilayer_perceptron.py:564: ConvergenceWarning: Stochastic Optimizer: Maximum iterations (200) reached and the optimization hasn't converged yet.\n",
      "  % self.max_iter, ConvergenceWarning)\n"
     ]
    },
    {
     "name": "stdout",
     "output_type": "stream",
     "text": [
      "[CV]  nn__hidden_layer_sizes=(150, 150), nn__learning_rate_init=0.01, pca__n_components=50, score=0.5098983287992023, total=   4.5s\n",
      "[CV] nn__hidden_layer_sizes=(150, 150), nn__learning_rate_init=0.01, pca__n_components=50 \n"
     ]
    },
    {
     "name": "stderr",
     "output_type": "stream",
     "text": [
      "/usr/local/lib/python3.6/site-packages/sklearn/neural_network/multilayer_perceptron.py:564: ConvergenceWarning: Stochastic Optimizer: Maximum iterations (200) reached and the optimization hasn't converged yet.\n",
      "  % self.max_iter, ConvergenceWarning)\n"
     ]
    },
    {
     "name": "stdout",
     "output_type": "stream",
     "text": [
      "[CV]  nn__hidden_layer_sizes=(150, 150), nn__learning_rate_init=0.01, pca__n_components=50, score=0.456456398697505, total=   4.6s\n",
      "[CV] nn__hidden_layer_sizes=(200, 200), nn__learning_rate_init=0.01, pca__n_components=10 \n"
     ]
    },
    {
     "name": "stderr",
     "output_type": "stream",
     "text": [
      "/usr/local/lib/python3.6/site-packages/sklearn/neural_network/multilayer_perceptron.py:564: ConvergenceWarning: Stochastic Optimizer: Maximum iterations (200) reached and the optimization hasn't converged yet.\n",
      "  % self.max_iter, ConvergenceWarning)\n"
     ]
    },
    {
     "name": "stdout",
     "output_type": "stream",
     "text": [
      "[CV]  nn__hidden_layer_sizes=(200, 200), nn__learning_rate_init=0.01, pca__n_components=10, score=0.42408522570848617, total=   5.5s\n",
      "[CV] nn__hidden_layer_sizes=(200, 200), nn__learning_rate_init=0.01, pca__n_components=10 \n"
     ]
    },
    {
     "name": "stderr",
     "output_type": "stream",
     "text": [
      "/usr/local/lib/python3.6/site-packages/sklearn/neural_network/multilayer_perceptron.py:564: ConvergenceWarning: Stochastic Optimizer: Maximum iterations (200) reached and the optimization hasn't converged yet.\n",
      "  % self.max_iter, ConvergenceWarning)\n"
     ]
    },
    {
     "name": "stdout",
     "output_type": "stream",
     "text": [
      "[CV]  nn__hidden_layer_sizes=(200, 200), nn__learning_rate_init=0.01, pca__n_components=10, score=0.4677281002110357, total=   5.2s\n",
      "[CV] nn__hidden_layer_sizes=(200, 200), nn__learning_rate_init=0.01, pca__n_components=10 \n"
     ]
    },
    {
     "name": "stderr",
     "output_type": "stream",
     "text": [
      "/usr/local/lib/python3.6/site-packages/sklearn/neural_network/multilayer_perceptron.py:564: ConvergenceWarning: Stochastic Optimizer: Maximum iterations (200) reached and the optimization hasn't converged yet.\n",
      "  % self.max_iter, ConvergenceWarning)\n"
     ]
    },
    {
     "name": "stdout",
     "output_type": "stream",
     "text": [
      "[CV]  nn__hidden_layer_sizes=(200, 200), nn__learning_rate_init=0.01, pca__n_components=10, score=0.4540291224970795, total=   5.3s\n",
      "[CV] nn__hidden_layer_sizes=(200, 200), nn__learning_rate_init=0.01, pca__n_components=20 \n"
     ]
    },
    {
     "name": "stderr",
     "output_type": "stream",
     "text": [
      "/usr/local/lib/python3.6/site-packages/sklearn/neural_network/multilayer_perceptron.py:564: ConvergenceWarning: Stochastic Optimizer: Maximum iterations (200) reached and the optimization hasn't converged yet.\n",
      "  % self.max_iter, ConvergenceWarning)\n"
     ]
    },
    {
     "name": "stdout",
     "output_type": "stream",
     "text": [
      "[CV]  nn__hidden_layer_sizes=(200, 200), nn__learning_rate_init=0.01, pca__n_components=20, score=0.4673552880982341, total=   5.3s\n",
      "[CV] nn__hidden_layer_sizes=(200, 200), nn__learning_rate_init=0.01, pca__n_components=20 \n"
     ]
    },
    {
     "name": "stderr",
     "output_type": "stream",
     "text": [
      "/usr/local/lib/python3.6/site-packages/sklearn/neural_network/multilayer_perceptron.py:564: ConvergenceWarning: Stochastic Optimizer: Maximum iterations (200) reached and the optimization hasn't converged yet.\n",
      "  % self.max_iter, ConvergenceWarning)\n"
     ]
    },
    {
     "name": "stdout",
     "output_type": "stream",
     "text": [
      "[CV]  nn__hidden_layer_sizes=(200, 200), nn__learning_rate_init=0.01, pca__n_components=20, score=0.48378525955503227, total=   5.1s\n",
      "[CV] nn__hidden_layer_sizes=(200, 200), nn__learning_rate_init=0.01, pca__n_components=20 \n"
     ]
    },
    {
     "name": "stderr",
     "output_type": "stream",
     "text": [
      "/usr/local/lib/python3.6/site-packages/sklearn/neural_network/multilayer_perceptron.py:564: ConvergenceWarning: Stochastic Optimizer: Maximum iterations (200) reached and the optimization hasn't converged yet.\n",
      "  % self.max_iter, ConvergenceWarning)\n"
     ]
    },
    {
     "name": "stdout",
     "output_type": "stream",
     "text": [
      "[CV]  nn__hidden_layer_sizes=(200, 200), nn__learning_rate_init=0.01, pca__n_components=20, score=0.4897899345945317, total=   5.2s\n",
      "[CV] nn__hidden_layer_sizes=(200, 200), nn__learning_rate_init=0.01, pca__n_components=30 \n"
     ]
    },
    {
     "name": "stderr",
     "output_type": "stream",
     "text": [
      "/usr/local/lib/python3.6/site-packages/sklearn/neural_network/multilayer_perceptron.py:564: ConvergenceWarning: Stochastic Optimizer: Maximum iterations (200) reached and the optimization hasn't converged yet.\n",
      "  % self.max_iter, ConvergenceWarning)\n"
     ]
    },
    {
     "name": "stdout",
     "output_type": "stream",
     "text": [
      "[CV]  nn__hidden_layer_sizes=(200, 200), nn__learning_rate_init=0.01, pca__n_components=30, score=0.4723904408028543, total=   6.1s\n",
      "[CV] nn__hidden_layer_sizes=(200, 200), nn__learning_rate_init=0.01, pca__n_components=30 \n"
     ]
    },
    {
     "name": "stderr",
     "output_type": "stream",
     "text": [
      "/usr/local/lib/python3.6/site-packages/sklearn/neural_network/multilayer_perceptron.py:564: ConvergenceWarning: Stochastic Optimizer: Maximum iterations (200) reached and the optimization hasn't converged yet.\n",
      "  % self.max_iter, ConvergenceWarning)\n"
     ]
    },
    {
     "name": "stdout",
     "output_type": "stream",
     "text": [
      "[CV]  nn__hidden_layer_sizes=(200, 200), nn__learning_rate_init=0.01, pca__n_components=30, score=0.5071021979876429, total=   6.5s\n",
      "[CV] nn__hidden_layer_sizes=(200, 200), nn__learning_rate_init=0.01, pca__n_components=30 \n"
     ]
    },
    {
     "name": "stderr",
     "output_type": "stream",
     "text": [
      "/usr/local/lib/python3.6/site-packages/sklearn/neural_network/multilayer_perceptron.py:564: ConvergenceWarning: Stochastic Optimizer: Maximum iterations (200) reached and the optimization hasn't converged yet.\n",
      "  % self.max_iter, ConvergenceWarning)\n"
     ]
    },
    {
     "name": "stdout",
     "output_type": "stream",
     "text": [
      "[CV]  nn__hidden_layer_sizes=(200, 200), nn__learning_rate_init=0.01, pca__n_components=30, score=0.5043959928248556, total=   5.7s\n",
      "[CV] nn__hidden_layer_sizes=(200, 200), nn__learning_rate_init=0.01, pca__n_components=40 \n"
     ]
    },
    {
     "name": "stderr",
     "output_type": "stream",
     "text": [
      "/usr/local/lib/python3.6/site-packages/sklearn/neural_network/multilayer_perceptron.py:564: ConvergenceWarning: Stochastic Optimizer: Maximum iterations (200) reached and the optimization hasn't converged yet.\n",
      "  % self.max_iter, ConvergenceWarning)\n"
     ]
    },
    {
     "name": "stdout",
     "output_type": "stream",
     "text": [
      "[CV]  nn__hidden_layer_sizes=(200, 200), nn__learning_rate_init=0.01, pca__n_components=40, score=0.48119917902775866, total=   5.4s\n",
      "[CV] nn__hidden_layer_sizes=(200, 200), nn__learning_rate_init=0.01, pca__n_components=40 \n"
     ]
    },
    {
     "name": "stderr",
     "output_type": "stream",
     "text": [
      "/usr/local/lib/python3.6/site-packages/sklearn/neural_network/multilayer_perceptron.py:564: ConvergenceWarning: Stochastic Optimizer: Maximum iterations (200) reached and the optimization hasn't converged yet.\n",
      "  % self.max_iter, ConvergenceWarning)\n"
     ]
    },
    {
     "name": "stdout",
     "output_type": "stream",
     "text": [
      "[CV]  nn__hidden_layer_sizes=(200, 200), nn__learning_rate_init=0.01, pca__n_components=40, score=0.5189299551498977, total=   5.4s\n",
      "[CV] nn__hidden_layer_sizes=(200, 200), nn__learning_rate_init=0.01, pca__n_components=40 \n"
     ]
    },
    {
     "name": "stderr",
     "output_type": "stream",
     "text": [
      "/usr/local/lib/python3.6/site-packages/sklearn/neural_network/multilayer_perceptron.py:564: ConvergenceWarning: Stochastic Optimizer: Maximum iterations (200) reached and the optimization hasn't converged yet.\n",
      "  % self.max_iter, ConvergenceWarning)\n"
     ]
    },
    {
     "name": "stdout",
     "output_type": "stream",
     "text": [
      "[CV]  nn__hidden_layer_sizes=(200, 200), nn__learning_rate_init=0.01, pca__n_components=40, score=0.4967642684991661, total=   5.4s\n",
      "[CV] nn__hidden_layer_sizes=(200, 200), nn__learning_rate_init=0.01, pca__n_components=50 \n"
     ]
    },
    {
     "name": "stderr",
     "output_type": "stream",
     "text": [
      "/usr/local/lib/python3.6/site-packages/sklearn/neural_network/multilayer_perceptron.py:564: ConvergenceWarning: Stochastic Optimizer: Maximum iterations (200) reached and the optimization hasn't converged yet.\n",
      "  % self.max_iter, ConvergenceWarning)\n"
     ]
    },
    {
     "name": "stdout",
     "output_type": "stream",
     "text": [
      "[CV]  nn__hidden_layer_sizes=(200, 200), nn__learning_rate_init=0.01, pca__n_components=50, score=0.47191599057892064, total=   6.4s\n",
      "[CV] nn__hidden_layer_sizes=(200, 200), nn__learning_rate_init=0.01, pca__n_components=50 \n"
     ]
    },
    {
     "name": "stderr",
     "output_type": "stream",
     "text": [
      "/usr/local/lib/python3.6/site-packages/sklearn/neural_network/multilayer_perceptron.py:564: ConvergenceWarning: Stochastic Optimizer: Maximum iterations (200) reached and the optimization hasn't converged yet.\n",
      "  % self.max_iter, ConvergenceWarning)\n"
     ]
    },
    {
     "name": "stdout",
     "output_type": "stream",
     "text": [
      "[CV]  nn__hidden_layer_sizes=(200, 200), nn__learning_rate_init=0.01, pca__n_components=50, score=0.5183573826472037, total=   5.5s\n",
      "[CV] nn__hidden_layer_sizes=(200, 200), nn__learning_rate_init=0.01, pca__n_components=50 \n"
     ]
    },
    {
     "name": "stderr",
     "output_type": "stream",
     "text": [
      "/usr/local/lib/python3.6/site-packages/sklearn/neural_network/multilayer_perceptron.py:564: ConvergenceWarning: Stochastic Optimizer: Maximum iterations (200) reached and the optimization hasn't converged yet.\n",
      "  % self.max_iter, ConvergenceWarning)\n"
     ]
    },
    {
     "name": "stdout",
     "output_type": "stream",
     "text": [
      "[CV]  nn__hidden_layer_sizes=(200, 200), nn__learning_rate_init=0.01, pca__n_components=50, score=0.46896992270891324, total=   5.9s\n",
      "[CV] nn__hidden_layer_sizes=(250, 250), nn__learning_rate_init=0.01, pca__n_components=10 \n"
     ]
    },
    {
     "name": "stderr",
     "output_type": "stream",
     "text": [
      "/usr/local/lib/python3.6/site-packages/sklearn/neural_network/multilayer_perceptron.py:564: ConvergenceWarning: Stochastic Optimizer: Maximum iterations (200) reached and the optimization hasn't converged yet.\n",
      "  % self.max_iter, ConvergenceWarning)\n"
     ]
    },
    {
     "name": "stdout",
     "output_type": "stream",
     "text": [
      "[CV]  nn__hidden_layer_sizes=(250, 250), nn__learning_rate_init=0.01, pca__n_components=10, score=0.42672622872772203, total=   7.0s\n",
      "[CV] nn__hidden_layer_sizes=(250, 250), nn__learning_rate_init=0.01, pca__n_components=10 \n"
     ]
    },
    {
     "name": "stderr",
     "output_type": "stream",
     "text": [
      "/usr/local/lib/python3.6/site-packages/sklearn/neural_network/multilayer_perceptron.py:564: ConvergenceWarning: Stochastic Optimizer: Maximum iterations (200) reached and the optimization hasn't converged yet.\n",
      "  % self.max_iter, ConvergenceWarning)\n"
     ]
    },
    {
     "name": "stdout",
     "output_type": "stream",
     "text": [
      "[CV]  nn__hidden_layer_sizes=(250, 250), nn__learning_rate_init=0.01, pca__n_components=10, score=0.4687944476536502, total=   7.2s\n",
      "[CV] nn__hidden_layer_sizes=(250, 250), nn__learning_rate_init=0.01, pca__n_components=10 \n"
     ]
    },
    {
     "name": "stderr",
     "output_type": "stream",
     "text": [
      "/usr/local/lib/python3.6/site-packages/sklearn/neural_network/multilayer_perceptron.py:564: ConvergenceWarning: Stochastic Optimizer: Maximum iterations (200) reached and the optimization hasn't converged yet.\n",
      "  % self.max_iter, ConvergenceWarning)\n"
     ]
    },
    {
     "name": "stdout",
     "output_type": "stream",
     "text": [
      "[CV]  nn__hidden_layer_sizes=(250, 250), nn__learning_rate_init=0.01, pca__n_components=10, score=0.4543713552948929, total=   7.3s\n",
      "[CV] nn__hidden_layer_sizes=(250, 250), nn__learning_rate_init=0.01, pca__n_components=20 \n"
     ]
    },
    {
     "name": "stderr",
     "output_type": "stream",
     "text": [
      "/usr/local/lib/python3.6/site-packages/sklearn/neural_network/multilayer_perceptron.py:564: ConvergenceWarning: Stochastic Optimizer: Maximum iterations (200) reached and the optimization hasn't converged yet.\n",
      "  % self.max_iter, ConvergenceWarning)\n"
     ]
    },
    {
     "name": "stdout",
     "output_type": "stream",
     "text": [
      "[CV]  nn__hidden_layer_sizes=(250, 250), nn__learning_rate_init=0.01, pca__n_components=20, score=0.4642402531019827, total=   7.4s\n",
      "[CV] nn__hidden_layer_sizes=(250, 250), nn__learning_rate_init=0.01, pca__n_components=20 \n"
     ]
    },
    {
     "name": "stderr",
     "output_type": "stream",
     "text": [
      "/usr/local/lib/python3.6/site-packages/sklearn/neural_network/multilayer_perceptron.py:564: ConvergenceWarning: Stochastic Optimizer: Maximum iterations (200) reached and the optimization hasn't converged yet.\n",
      "  % self.max_iter, ConvergenceWarning)\n"
     ]
    },
    {
     "name": "stdout",
     "output_type": "stream",
     "text": [
      "[CV]  nn__hidden_layer_sizes=(250, 250), nn__learning_rate_init=0.01, pca__n_components=20, score=0.48222612941839915, total=   8.2s\n",
      "[CV] nn__hidden_layer_sizes=(250, 250), nn__learning_rate_init=0.01, pca__n_components=20 \n"
     ]
    },
    {
     "name": "stderr",
     "output_type": "stream",
     "text": [
      "/usr/local/lib/python3.6/site-packages/sklearn/neural_network/multilayer_perceptron.py:564: ConvergenceWarning: Stochastic Optimizer: Maximum iterations (200) reached and the optimization hasn't converged yet.\n",
      "  % self.max_iter, ConvergenceWarning)\n"
     ]
    },
    {
     "name": "stdout",
     "output_type": "stream",
     "text": [
      "[CV]  nn__hidden_layer_sizes=(250, 250), nn__learning_rate_init=0.01, pca__n_components=20, score=0.49047998168443807, total=   8.0s\n",
      "[CV] nn__hidden_layer_sizes=(250, 250), nn__learning_rate_init=0.01, pca__n_components=30 \n"
     ]
    },
    {
     "name": "stderr",
     "output_type": "stream",
     "text": [
      "/usr/local/lib/python3.6/site-packages/sklearn/neural_network/multilayer_perceptron.py:564: ConvergenceWarning: Stochastic Optimizer: Maximum iterations (200) reached and the optimization hasn't converged yet.\n",
      "  % self.max_iter, ConvergenceWarning)\n"
     ]
    },
    {
     "name": "stdout",
     "output_type": "stream",
     "text": [
      "[CV]  nn__hidden_layer_sizes=(250, 250), nn__learning_rate_init=0.01, pca__n_components=30, score=0.4780118352802004, total=   7.6s\n",
      "[CV] nn__hidden_layer_sizes=(250, 250), nn__learning_rate_init=0.01, pca__n_components=30 \n"
     ]
    },
    {
     "name": "stderr",
     "output_type": "stream",
     "text": [
      "/usr/local/lib/python3.6/site-packages/sklearn/neural_network/multilayer_perceptron.py:564: ConvergenceWarning: Stochastic Optimizer: Maximum iterations (200) reached and the optimization hasn't converged yet.\n",
      "  % self.max_iter, ConvergenceWarning)\n"
     ]
    },
    {
     "name": "stdout",
     "output_type": "stream",
     "text": [
      "[CV]  nn__hidden_layer_sizes=(250, 250), nn__learning_rate_init=0.01, pca__n_components=30, score=0.5059941334141353, total=   7.8s\n",
      "[CV] nn__hidden_layer_sizes=(250, 250), nn__learning_rate_init=0.01, pca__n_components=30 \n"
     ]
    },
    {
     "name": "stderr",
     "output_type": "stream",
     "text": [
      "/usr/local/lib/python3.6/site-packages/sklearn/neural_network/multilayer_perceptron.py:564: ConvergenceWarning: Stochastic Optimizer: Maximum iterations (200) reached and the optimization hasn't converged yet.\n",
      "  % self.max_iter, ConvergenceWarning)\n"
     ]
    },
    {
     "name": "stdout",
     "output_type": "stream",
     "text": [
      "[CV]  nn__hidden_layer_sizes=(250, 250), nn__learning_rate_init=0.01, pca__n_components=30, score=0.5044235331973007, total=   7.2s\n",
      "[CV] nn__hidden_layer_sizes=(250, 250), nn__learning_rate_init=0.01, pca__n_components=40 \n"
     ]
    },
    {
     "name": "stderr",
     "output_type": "stream",
     "text": [
      "/usr/local/lib/python3.6/site-packages/sklearn/neural_network/multilayer_perceptron.py:564: ConvergenceWarning: Stochastic Optimizer: Maximum iterations (200) reached and the optimization hasn't converged yet.\n",
      "  % self.max_iter, ConvergenceWarning)\n"
     ]
    },
    {
     "name": "stdout",
     "output_type": "stream",
     "text": [
      "[CV]  nn__hidden_layer_sizes=(250, 250), nn__learning_rate_init=0.01, pca__n_components=40, score=0.4823480772832298, total=   7.3s\n",
      "[CV] nn__hidden_layer_sizes=(250, 250), nn__learning_rate_init=0.01, pca__n_components=40 \n"
     ]
    },
    {
     "name": "stderr",
     "output_type": "stream",
     "text": [
      "/usr/local/lib/python3.6/site-packages/sklearn/neural_network/multilayer_perceptron.py:564: ConvergenceWarning: Stochastic Optimizer: Maximum iterations (200) reached and the optimization hasn't converged yet.\n",
      "  % self.max_iter, ConvergenceWarning)\n"
     ]
    },
    {
     "name": "stdout",
     "output_type": "stream",
     "text": [
      "[CV]  nn__hidden_layer_sizes=(250, 250), nn__learning_rate_init=0.01, pca__n_components=40, score=0.5238340353960431, total=   7.6s\n",
      "[CV] nn__hidden_layer_sizes=(250, 250), nn__learning_rate_init=0.01, pca__n_components=40 \n"
     ]
    },
    {
     "name": "stderr",
     "output_type": "stream",
     "text": [
      "/usr/local/lib/python3.6/site-packages/sklearn/neural_network/multilayer_perceptron.py:564: ConvergenceWarning: Stochastic Optimizer: Maximum iterations (200) reached and the optimization hasn't converged yet.\n",
      "  % self.max_iter, ConvergenceWarning)\n"
     ]
    },
    {
     "name": "stdout",
     "output_type": "stream",
     "text": [
      "[CV]  nn__hidden_layer_sizes=(250, 250), nn__learning_rate_init=0.01, pca__n_components=40, score=0.4987395888453018, total=   7.4s\n",
      "[CV] nn__hidden_layer_sizes=(250, 250), nn__learning_rate_init=0.01, pca__n_components=50 \n"
     ]
    },
    {
     "name": "stderr",
     "output_type": "stream",
     "text": [
      "/usr/local/lib/python3.6/site-packages/sklearn/neural_network/multilayer_perceptron.py:564: ConvergenceWarning: Stochastic Optimizer: Maximum iterations (200) reached and the optimization hasn't converged yet.\n",
      "  % self.max_iter, ConvergenceWarning)\n"
     ]
    },
    {
     "name": "stdout",
     "output_type": "stream",
     "text": [
      "[CV]  nn__hidden_layer_sizes=(250, 250), nn__learning_rate_init=0.01, pca__n_components=50, score=0.47359661760427385, total=   7.5s\n",
      "[CV] nn__hidden_layer_sizes=(250, 250), nn__learning_rate_init=0.01, pca__n_components=50 \n"
     ]
    },
    {
     "name": "stderr",
     "output_type": "stream",
     "text": [
      "/usr/local/lib/python3.6/site-packages/sklearn/neural_network/multilayer_perceptron.py:564: ConvergenceWarning: Stochastic Optimizer: Maximum iterations (200) reached and the optimization hasn't converged yet.\n",
      "  % self.max_iter, ConvergenceWarning)\n"
     ]
    },
    {
     "name": "stdout",
     "output_type": "stream",
     "text": [
      "[CV]  nn__hidden_layer_sizes=(250, 250), nn__learning_rate_init=0.01, pca__n_components=50, score=0.5229865104025926, total=   7.8s\n",
      "[CV] nn__hidden_layer_sizes=(250, 250), nn__learning_rate_init=0.01, pca__n_components=50 \n"
     ]
    },
    {
     "name": "stderr",
     "output_type": "stream",
     "text": [
      "/usr/local/lib/python3.6/site-packages/sklearn/neural_network/multilayer_perceptron.py:564: ConvergenceWarning: Stochastic Optimizer: Maximum iterations (200) reached and the optimization hasn't converged yet.\n",
      "  % self.max_iter, ConvergenceWarning)\n"
     ]
    },
    {
     "name": "stdout",
     "output_type": "stream",
     "text": [
      "[CV]  nn__hidden_layer_sizes=(250, 250), nn__learning_rate_init=0.01, pca__n_components=50, score=0.47825638613510324, total=   7.2s\n",
      "[CV] nn__hidden_layer_sizes=(300, 300), nn__learning_rate_init=0.01, pca__n_components=10 \n"
     ]
    },
    {
     "name": "stderr",
     "output_type": "stream",
     "text": [
      "/usr/local/lib/python3.6/site-packages/sklearn/neural_network/multilayer_perceptron.py:564: ConvergenceWarning: Stochastic Optimizer: Maximum iterations (200) reached and the optimization hasn't converged yet.\n",
      "  % self.max_iter, ConvergenceWarning)\n"
     ]
    },
    {
     "name": "stdout",
     "output_type": "stream",
     "text": [
      "[CV]  nn__hidden_layer_sizes=(300, 300), nn__learning_rate_init=0.01, pca__n_components=10, score=0.42794304916280446, total=   8.5s\n",
      "[CV] nn__hidden_layer_sizes=(300, 300), nn__learning_rate_init=0.01, pca__n_components=10 \n"
     ]
    },
    {
     "name": "stderr",
     "output_type": "stream",
     "text": [
      "/usr/local/lib/python3.6/site-packages/sklearn/neural_network/multilayer_perceptron.py:564: ConvergenceWarning: Stochastic Optimizer: Maximum iterations (200) reached and the optimization hasn't converged yet.\n",
      "  % self.max_iter, ConvergenceWarning)\n"
     ]
    },
    {
     "name": "stdout",
     "output_type": "stream",
     "text": [
      "[CV]  nn__hidden_layer_sizes=(300, 300), nn__learning_rate_init=0.01, pca__n_components=10, score=0.4728858189945938, total=   8.7s\n",
      "[CV] nn__hidden_layer_sizes=(300, 300), nn__learning_rate_init=0.01, pca__n_components=10 \n"
     ]
    },
    {
     "name": "stderr",
     "output_type": "stream",
     "text": [
      "/usr/local/lib/python3.6/site-packages/sklearn/neural_network/multilayer_perceptron.py:564: ConvergenceWarning: Stochastic Optimizer: Maximum iterations (200) reached and the optimization hasn't converged yet.\n",
      "  % self.max_iter, ConvergenceWarning)\n"
     ]
    },
    {
     "name": "stdout",
     "output_type": "stream",
     "text": [
      "[CV]  nn__hidden_layer_sizes=(300, 300), nn__learning_rate_init=0.01, pca__n_components=10, score=0.4548210011396656, total=   8.8s\n",
      "[CV] nn__hidden_layer_sizes=(300, 300), nn__learning_rate_init=0.01, pca__n_components=20 \n"
     ]
    },
    {
     "name": "stderr",
     "output_type": "stream",
     "text": [
      "/usr/local/lib/python3.6/site-packages/sklearn/neural_network/multilayer_perceptron.py:564: ConvergenceWarning: Stochastic Optimizer: Maximum iterations (200) reached and the optimization hasn't converged yet.\n",
      "  % self.max_iter, ConvergenceWarning)\n"
     ]
    },
    {
     "name": "stdout",
     "output_type": "stream",
     "text": [
      "[CV]  nn__hidden_layer_sizes=(300, 300), nn__learning_rate_init=0.01, pca__n_components=20, score=0.46738294907821176, total=  10.8s\n",
      "[CV] nn__hidden_layer_sizes=(300, 300), nn__learning_rate_init=0.01, pca__n_components=20 \n"
     ]
    },
    {
     "name": "stderr",
     "output_type": "stream",
     "text": [
      "/usr/local/lib/python3.6/site-packages/sklearn/neural_network/multilayer_perceptron.py:564: ConvergenceWarning: Stochastic Optimizer: Maximum iterations (200) reached and the optimization hasn't converged yet.\n",
      "  % self.max_iter, ConvergenceWarning)\n"
     ]
    },
    {
     "name": "stdout",
     "output_type": "stream",
     "text": [
      "[CV]  nn__hidden_layer_sizes=(300, 300), nn__learning_rate_init=0.01, pca__n_components=20, score=0.4962056444760766, total=   8.7s\n",
      "[CV] nn__hidden_layer_sizes=(300, 300), nn__learning_rate_init=0.01, pca__n_components=20 \n"
     ]
    },
    {
     "name": "stderr",
     "output_type": "stream",
     "text": [
      "/usr/local/lib/python3.6/site-packages/sklearn/neural_network/multilayer_perceptron.py:564: ConvergenceWarning: Stochastic Optimizer: Maximum iterations (200) reached and the optimization hasn't converged yet.\n",
      "  % self.max_iter, ConvergenceWarning)\n"
     ]
    },
    {
     "name": "stdout",
     "output_type": "stream",
     "text": [
      "[CV]  nn__hidden_layer_sizes=(300, 300), nn__learning_rate_init=0.01, pca__n_components=20, score=0.4851609604991054, total=   8.8s\n",
      "[CV] nn__hidden_layer_sizes=(300, 300), nn__learning_rate_init=0.01, pca__n_components=30 \n"
     ]
    },
    {
     "name": "stderr",
     "output_type": "stream",
     "text": [
      "/usr/local/lib/python3.6/site-packages/sklearn/neural_network/multilayer_perceptron.py:564: ConvergenceWarning: Stochastic Optimizer: Maximum iterations (200) reached and the optimization hasn't converged yet.\n",
      "  % self.max_iter, ConvergenceWarning)\n"
     ]
    },
    {
     "name": "stdout",
     "output_type": "stream",
     "text": [
      "[CV]  nn__hidden_layer_sizes=(300, 300), nn__learning_rate_init=0.01, pca__n_components=30, score=0.4786435012539707, total=  11.2s\n",
      "[CV] nn__hidden_layer_sizes=(300, 300), nn__learning_rate_init=0.01, pca__n_components=30 \n"
     ]
    },
    {
     "name": "stderr",
     "output_type": "stream",
     "text": [
      "/usr/local/lib/python3.6/site-packages/sklearn/neural_network/multilayer_perceptron.py:564: ConvergenceWarning: Stochastic Optimizer: Maximum iterations (200) reached and the optimization hasn't converged yet.\n",
      "  % self.max_iter, ConvergenceWarning)\n"
     ]
    },
    {
     "name": "stdout",
     "output_type": "stream",
     "text": [
      "[CV]  nn__hidden_layer_sizes=(300, 300), nn__learning_rate_init=0.01, pca__n_components=30, score=0.5104485231906493, total=  12.4s\n",
      "[CV] nn__hidden_layer_sizes=(300, 300), nn__learning_rate_init=0.01, pca__n_components=30 \n"
     ]
    },
    {
     "name": "stderr",
     "output_type": "stream",
     "text": [
      "/usr/local/lib/python3.6/site-packages/sklearn/neural_network/multilayer_perceptron.py:564: ConvergenceWarning: Stochastic Optimizer: Maximum iterations (200) reached and the optimization hasn't converged yet.\n",
      "  % self.max_iter, ConvergenceWarning)\n"
     ]
    },
    {
     "name": "stdout",
     "output_type": "stream",
     "text": [
      "[CV]  nn__hidden_layer_sizes=(300, 300), nn__learning_rate_init=0.01, pca__n_components=30, score=0.5028269234267089, total=  14.7s\n",
      "[CV] nn__hidden_layer_sizes=(300, 300), nn__learning_rate_init=0.01, pca__n_components=40 \n"
     ]
    },
    {
     "name": "stderr",
     "output_type": "stream",
     "text": [
      "/usr/local/lib/python3.6/site-packages/sklearn/neural_network/multilayer_perceptron.py:564: ConvergenceWarning: Stochastic Optimizer: Maximum iterations (200) reached and the optimization hasn't converged yet.\n",
      "  % self.max_iter, ConvergenceWarning)\n"
     ]
    },
    {
     "name": "stdout",
     "output_type": "stream",
     "text": [
      "[CV]  nn__hidden_layer_sizes=(300, 300), nn__learning_rate_init=0.01, pca__n_components=40, score=0.4848209789984874, total=  13.1s\n",
      "[CV] nn__hidden_layer_sizes=(300, 300), nn__learning_rate_init=0.01, pca__n_components=40 \n"
     ]
    },
    {
     "name": "stderr",
     "output_type": "stream",
     "text": [
      "/usr/local/lib/python3.6/site-packages/sklearn/neural_network/multilayer_perceptron.py:564: ConvergenceWarning: Stochastic Optimizer: Maximum iterations (200) reached and the optimization hasn't converged yet.\n",
      "  % self.max_iter, ConvergenceWarning)\n"
     ]
    },
    {
     "name": "stdout",
     "output_type": "stream",
     "text": [
      "[CV]  nn__hidden_layer_sizes=(300, 300), nn__learning_rate_init=0.01, pca__n_components=40, score=0.5285204433603541, total=  11.9s\n",
      "[CV] nn__hidden_layer_sizes=(300, 300), nn__learning_rate_init=0.01, pca__n_components=40 \n"
     ]
    },
    {
     "name": "stderr",
     "output_type": "stream",
     "text": [
      "/usr/local/lib/python3.6/site-packages/sklearn/neural_network/multilayer_perceptron.py:564: ConvergenceWarning: Stochastic Optimizer: Maximum iterations (200) reached and the optimization hasn't converged yet.\n",
      "  % self.max_iter, ConvergenceWarning)\n"
     ]
    },
    {
     "name": "stdout",
     "output_type": "stream",
     "text": [
      "[CV]  nn__hidden_layer_sizes=(300, 300), nn__learning_rate_init=0.01, pca__n_components=40, score=0.5036868837322299, total=  11.8s\n",
      "[CV] nn__hidden_layer_sizes=(300, 300), nn__learning_rate_init=0.01, pca__n_components=50 \n"
     ]
    },
    {
     "name": "stderr",
     "output_type": "stream",
     "text": [
      "/usr/local/lib/python3.6/site-packages/sklearn/neural_network/multilayer_perceptron.py:564: ConvergenceWarning: Stochastic Optimizer: Maximum iterations (200) reached and the optimization hasn't converged yet.\n",
      "  % self.max_iter, ConvergenceWarning)\n"
     ]
    },
    {
     "name": "stdout",
     "output_type": "stream",
     "text": [
      "[CV]  nn__hidden_layer_sizes=(300, 300), nn__learning_rate_init=0.01, pca__n_components=50, score=0.4767315453888672, total=  10.2s\n",
      "[CV] nn__hidden_layer_sizes=(300, 300), nn__learning_rate_init=0.01, pca__n_components=50 \n"
     ]
    },
    {
     "name": "stderr",
     "output_type": "stream",
     "text": [
      "/usr/local/lib/python3.6/site-packages/sklearn/neural_network/multilayer_perceptron.py:564: ConvergenceWarning: Stochastic Optimizer: Maximum iterations (200) reached and the optimization hasn't converged yet.\n",
      "  % self.max_iter, ConvergenceWarning)\n"
     ]
    },
    {
     "name": "stdout",
     "output_type": "stream",
     "text": [
      "[CV]  nn__hidden_layer_sizes=(300, 300), nn__learning_rate_init=0.01, pca__n_components=50, score=0.5264061124686457, total=  10.7s\n",
      "[CV] nn__hidden_layer_sizes=(300, 300), nn__learning_rate_init=0.01, pca__n_components=50 \n"
     ]
    },
    {
     "name": "stderr",
     "output_type": "stream",
     "text": [
      "/usr/local/lib/python3.6/site-packages/sklearn/neural_network/multilayer_perceptron.py:564: ConvergenceWarning: Stochastic Optimizer: Maximum iterations (200) reached and the optimization hasn't converged yet.\n",
      "  % self.max_iter, ConvergenceWarning)\n"
     ]
    },
    {
     "name": "stdout",
     "output_type": "stream",
     "text": [
      "[CV]  nn__hidden_layer_sizes=(300, 300), nn__learning_rate_init=0.01, pca__n_components=50, score=0.478971983318496, total=  10.2s\n",
      "[CV] nn__hidden_layer_sizes=(350, 350), nn__learning_rate_init=0.01, pca__n_components=10 \n"
     ]
    },
    {
     "name": "stderr",
     "output_type": "stream",
     "text": [
      "/usr/local/lib/python3.6/site-packages/sklearn/neural_network/multilayer_perceptron.py:564: ConvergenceWarning: Stochastic Optimizer: Maximum iterations (200) reached and the optimization hasn't converged yet.\n",
      "  % self.max_iter, ConvergenceWarning)\n"
     ]
    },
    {
     "name": "stdout",
     "output_type": "stream",
     "text": [
      "[CV]  nn__hidden_layer_sizes=(350, 350), nn__learning_rate_init=0.01, pca__n_components=10, score=0.429436743720099, total=  11.4s\n",
      "[CV] nn__hidden_layer_sizes=(350, 350), nn__learning_rate_init=0.01, pca__n_components=10 \n"
     ]
    },
    {
     "name": "stderr",
     "output_type": "stream",
     "text": [
      "/usr/local/lib/python3.6/site-packages/sklearn/neural_network/multilayer_perceptron.py:564: ConvergenceWarning: Stochastic Optimizer: Maximum iterations (200) reached and the optimization hasn't converged yet.\n",
      "  % self.max_iter, ConvergenceWarning)\n"
     ]
    },
    {
     "name": "stdout",
     "output_type": "stream",
     "text": [
      "[CV]  nn__hidden_layer_sizes=(350, 350), nn__learning_rate_init=0.01, pca__n_components=10, score=0.47369651663331924, total=  11.5s\n",
      "[CV] nn__hidden_layer_sizes=(350, 350), nn__learning_rate_init=0.01, pca__n_components=10 \n"
     ]
    },
    {
     "name": "stderr",
     "output_type": "stream",
     "text": [
      "/usr/local/lib/python3.6/site-packages/sklearn/neural_network/multilayer_perceptron.py:564: ConvergenceWarning: Stochastic Optimizer: Maximum iterations (200) reached and the optimization hasn't converged yet.\n",
      "  % self.max_iter, ConvergenceWarning)\n"
     ]
    },
    {
     "name": "stdout",
     "output_type": "stream",
     "text": [
      "[CV]  nn__hidden_layer_sizes=(350, 350), nn__learning_rate_init=0.01, pca__n_components=10, score=0.4571329240823355, total=  11.5s\n",
      "[CV] nn__hidden_layer_sizes=(350, 350), nn__learning_rate_init=0.01, pca__n_components=20 \n"
     ]
    },
    {
     "name": "stderr",
     "output_type": "stream",
     "text": [
      "/usr/local/lib/python3.6/site-packages/sklearn/neural_network/multilayer_perceptron.py:564: ConvergenceWarning: Stochastic Optimizer: Maximum iterations (200) reached and the optimization hasn't converged yet.\n",
      "  % self.max_iter, ConvergenceWarning)\n"
     ]
    },
    {
     "name": "stdout",
     "output_type": "stream",
     "text": [
      "[CV]  nn__hidden_layer_sizes=(350, 350), nn__learning_rate_init=0.01, pca__n_components=20, score=0.4696910238410379, total=  12.0s\n",
      "[CV] nn__hidden_layer_sizes=(350, 350), nn__learning_rate_init=0.01, pca__n_components=20 \n"
     ]
    },
    {
     "name": "stderr",
     "output_type": "stream",
     "text": [
      "/usr/local/lib/python3.6/site-packages/sklearn/neural_network/multilayer_perceptron.py:564: ConvergenceWarning: Stochastic Optimizer: Maximum iterations (200) reached and the optimization hasn't converged yet.\n",
      "  % self.max_iter, ConvergenceWarning)\n"
     ]
    },
    {
     "name": "stdout",
     "output_type": "stream",
     "text": [
      "[CV]  nn__hidden_layer_sizes=(350, 350), nn__learning_rate_init=0.01, pca__n_components=20, score=0.49467593932644915, total=  11.9s\n",
      "[CV] nn__hidden_layer_sizes=(350, 350), nn__learning_rate_init=0.01, pca__n_components=20 \n"
     ]
    },
    {
     "name": "stderr",
     "output_type": "stream",
     "text": [
      "/usr/local/lib/python3.6/site-packages/sklearn/neural_network/multilayer_perceptron.py:564: ConvergenceWarning: Stochastic Optimizer: Maximum iterations (200) reached and the optimization hasn't converged yet.\n",
      "  % self.max_iter, ConvergenceWarning)\n"
     ]
    },
    {
     "name": "stdout",
     "output_type": "stream",
     "text": [
      "[CV]  nn__hidden_layer_sizes=(350, 350), nn__learning_rate_init=0.01, pca__n_components=20, score=0.4933237333296785, total=  11.5s\n",
      "[CV] nn__hidden_layer_sizes=(350, 350), nn__learning_rate_init=0.01, pca__n_components=30 \n"
     ]
    },
    {
     "name": "stderr",
     "output_type": "stream",
     "text": [
      "/usr/local/lib/python3.6/site-packages/sklearn/neural_network/multilayer_perceptron.py:564: ConvergenceWarning: Stochastic Optimizer: Maximum iterations (200) reached and the optimization hasn't converged yet.\n",
      "  % self.max_iter, ConvergenceWarning)\n"
     ]
    },
    {
     "name": "stdout",
     "output_type": "stream",
     "text": [
      "[CV]  nn__hidden_layer_sizes=(350, 350), nn__learning_rate_init=0.01, pca__n_components=30, score=0.4787158280226306, total=  11.8s\n",
      "[CV] nn__hidden_layer_sizes=(350, 350), nn__learning_rate_init=0.01, pca__n_components=30 \n"
     ]
    },
    {
     "name": "stderr",
     "output_type": "stream",
     "text": [
      "/usr/local/lib/python3.6/site-packages/sklearn/neural_network/multilayer_perceptron.py:564: ConvergenceWarning: Stochastic Optimizer: Maximum iterations (200) reached and the optimization hasn't converged yet.\n",
      "  % self.max_iter, ConvergenceWarning)\n"
     ]
    },
    {
     "name": "stdout",
     "output_type": "stream",
     "text": [
      "[CV]  nn__hidden_layer_sizes=(350, 350), nn__learning_rate_init=0.01, pca__n_components=30, score=0.5127984646012924, total=  11.9s\n",
      "[CV] nn__hidden_layer_sizes=(350, 350), nn__learning_rate_init=0.01, pca__n_components=30 \n"
     ]
    },
    {
     "name": "stderr",
     "output_type": "stream",
     "text": [
      "/usr/local/lib/python3.6/site-packages/sklearn/neural_network/multilayer_perceptron.py:564: ConvergenceWarning: Stochastic Optimizer: Maximum iterations (200) reached and the optimization hasn't converged yet.\n",
      "  % self.max_iter, ConvergenceWarning)\n"
     ]
    },
    {
     "name": "stdout",
     "output_type": "stream",
     "text": [
      "[CV]  nn__hidden_layer_sizes=(350, 350), nn__learning_rate_init=0.01, pca__n_components=30, score=0.5107125828463328, total=  11.9s\n",
      "[CV] nn__hidden_layer_sizes=(350, 350), nn__learning_rate_init=0.01, pca__n_components=40 \n"
     ]
    },
    {
     "name": "stderr",
     "output_type": "stream",
     "text": [
      "/usr/local/lib/python3.6/site-packages/sklearn/neural_network/multilayer_perceptron.py:564: ConvergenceWarning: Stochastic Optimizer: Maximum iterations (200) reached and the optimization hasn't converged yet.\n",
      "  % self.max_iter, ConvergenceWarning)\n"
     ]
    },
    {
     "name": "stdout",
     "output_type": "stream",
     "text": [
      "[CV]  nn__hidden_layer_sizes=(350, 350), nn__learning_rate_init=0.01, pca__n_components=40, score=0.48577945381561083, total=  12.3s\n",
      "[CV] nn__hidden_layer_sizes=(350, 350), nn__learning_rate_init=0.01, pca__n_components=40 \n"
     ]
    },
    {
     "name": "stderr",
     "output_type": "stream",
     "text": [
      "/usr/local/lib/python3.6/site-packages/sklearn/neural_network/multilayer_perceptron.py:564: ConvergenceWarning: Stochastic Optimizer: Maximum iterations (200) reached and the optimization hasn't converged yet.\n",
      "  % self.max_iter, ConvergenceWarning)\n"
     ]
    },
    {
     "name": "stdout",
     "output_type": "stream",
     "text": [
      "[CV]  nn__hidden_layer_sizes=(350, 350), nn__learning_rate_init=0.01, pca__n_components=40, score=0.5310327987908645, total=  12.1s\n",
      "[CV] nn__hidden_layer_sizes=(350, 350), nn__learning_rate_init=0.01, pca__n_components=40 \n"
     ]
    },
    {
     "name": "stderr",
     "output_type": "stream",
     "text": [
      "/usr/local/lib/python3.6/site-packages/sklearn/neural_network/multilayer_perceptron.py:564: ConvergenceWarning: Stochastic Optimizer: Maximum iterations (200) reached and the optimization hasn't converged yet.\n",
      "  % self.max_iter, ConvergenceWarning)\n"
     ]
    },
    {
     "name": "stdout",
     "output_type": "stream",
     "text": [
      "[CV]  nn__hidden_layer_sizes=(350, 350), nn__learning_rate_init=0.01, pca__n_components=40, score=0.5058027586858918, total=  12.2s\n",
      "[CV] nn__hidden_layer_sizes=(350, 350), nn__learning_rate_init=0.01, pca__n_components=50 \n"
     ]
    },
    {
     "name": "stderr",
     "output_type": "stream",
     "text": [
      "/usr/local/lib/python3.6/site-packages/sklearn/neural_network/multilayer_perceptron.py:564: ConvergenceWarning: Stochastic Optimizer: Maximum iterations (200) reached and the optimization hasn't converged yet.\n",
      "  % self.max_iter, ConvergenceWarning)\n"
     ]
    },
    {
     "name": "stdout",
     "output_type": "stream",
     "text": [
      "[CV]  nn__hidden_layer_sizes=(350, 350), nn__learning_rate_init=0.01, pca__n_components=50, score=0.4791895110429758, total=  14.1s\n",
      "[CV] nn__hidden_layer_sizes=(350, 350), nn__learning_rate_init=0.01, pca__n_components=50 \n"
     ]
    },
    {
     "name": "stderr",
     "output_type": "stream",
     "text": [
      "/usr/local/lib/python3.6/site-packages/sklearn/neural_network/multilayer_perceptron.py:564: ConvergenceWarning: Stochastic Optimizer: Maximum iterations (200) reached and the optimization hasn't converged yet.\n",
      "  % self.max_iter, ConvergenceWarning)\n"
     ]
    },
    {
     "name": "stdout",
     "output_type": "stream",
     "text": [
      "[CV]  nn__hidden_layer_sizes=(350, 350), nn__learning_rate_init=0.01, pca__n_components=50, score=0.5279891072014766, total=  13.0s\n",
      "[CV] nn__hidden_layer_sizes=(350, 350), nn__learning_rate_init=0.01, pca__n_components=50 \n"
     ]
    },
    {
     "name": "stderr",
     "output_type": "stream",
     "text": [
      "/usr/local/lib/python3.6/site-packages/sklearn/neural_network/multilayer_perceptron.py:564: ConvergenceWarning: Stochastic Optimizer: Maximum iterations (200) reached and the optimization hasn't converged yet.\n",
      "  % self.max_iter, ConvergenceWarning)\n"
     ]
    },
    {
     "name": "stdout",
     "output_type": "stream",
     "text": [
      "[CV]  nn__hidden_layer_sizes=(350, 350), nn__learning_rate_init=0.01, pca__n_components=50, score=0.4800148185336679, total=  12.2s\n",
      "[CV] nn__hidden_layer_sizes=(50, 50, 50), nn__learning_rate_init=0.01, pca__n_components=10 \n"
     ]
    },
    {
     "name": "stderr",
     "output_type": "stream",
     "text": [
      "/usr/local/lib/python3.6/site-packages/sklearn/neural_network/multilayer_perceptron.py:564: ConvergenceWarning: Stochastic Optimizer: Maximum iterations (200) reached and the optimization hasn't converged yet.\n",
      "  % self.max_iter, ConvergenceWarning)\n"
     ]
    },
    {
     "name": "stdout",
     "output_type": "stream",
     "text": [
      "[CV]  nn__hidden_layer_sizes=(50, 50, 50), nn__learning_rate_init=0.01, pca__n_components=10, score=0.45606171049549826, total=   2.3s\n",
      "[CV] nn__hidden_layer_sizes=(50, 50, 50), nn__learning_rate_init=0.01, pca__n_components=10 \n"
     ]
    },
    {
     "name": "stderr",
     "output_type": "stream",
     "text": [
      "/usr/local/lib/python3.6/site-packages/sklearn/neural_network/multilayer_perceptron.py:564: ConvergenceWarning: Stochastic Optimizer: Maximum iterations (200) reached and the optimization hasn't converged yet.\n",
      "  % self.max_iter, ConvergenceWarning)\n"
     ]
    },
    {
     "name": "stdout",
     "output_type": "stream",
     "text": [
      "[CV]  nn__hidden_layer_sizes=(50, 50, 50), nn__learning_rate_init=0.01, pca__n_components=10, score=0.49466239918994914, total=   2.3s\n",
      "[CV] nn__hidden_layer_sizes=(50, 50, 50), nn__learning_rate_init=0.01, pca__n_components=10 \n"
     ]
    },
    {
     "name": "stderr",
     "output_type": "stream",
     "text": [
      "/usr/local/lib/python3.6/site-packages/sklearn/neural_network/multilayer_perceptron.py:564: ConvergenceWarning: Stochastic Optimizer: Maximum iterations (200) reached and the optimization hasn't converged yet.\n",
      "  % self.max_iter, ConvergenceWarning)\n"
     ]
    },
    {
     "name": "stdout",
     "output_type": "stream",
     "text": [
      "[CV]  nn__hidden_layer_sizes=(50, 50, 50), nn__learning_rate_init=0.01, pca__n_components=10, score=0.472486740231689, total=   2.3s\n",
      "[CV] nn__hidden_layer_sizes=(50, 50, 50), nn__learning_rate_init=0.01, pca__n_components=20 \n"
     ]
    },
    {
     "name": "stderr",
     "output_type": "stream",
     "text": [
      "/usr/local/lib/python3.6/site-packages/sklearn/neural_network/multilayer_perceptron.py:564: ConvergenceWarning: Stochastic Optimizer: Maximum iterations (200) reached and the optimization hasn't converged yet.\n",
      "  % self.max_iter, ConvergenceWarning)\n"
     ]
    },
    {
     "name": "stdout",
     "output_type": "stream",
     "text": [
      "[CV]  nn__hidden_layer_sizes=(50, 50, 50), nn__learning_rate_init=0.01, pca__n_components=20, score=0.4871731330632836, total=   2.5s\n",
      "[CV] nn__hidden_layer_sizes=(50, 50, 50), nn__learning_rate_init=0.01, pca__n_components=20 \n"
     ]
    },
    {
     "name": "stderr",
     "output_type": "stream",
     "text": [
      "/usr/local/lib/python3.6/site-packages/sklearn/neural_network/multilayer_perceptron.py:564: ConvergenceWarning: Stochastic Optimizer: Maximum iterations (200) reached and the optimization hasn't converged yet.\n",
      "  % self.max_iter, ConvergenceWarning)\n"
     ]
    },
    {
     "name": "stdout",
     "output_type": "stream",
     "text": [
      "[CV]  nn__hidden_layer_sizes=(50, 50, 50), nn__learning_rate_init=0.01, pca__n_components=20, score=0.5075441341291067, total=   2.5s\n",
      "[CV] nn__hidden_layer_sizes=(50, 50, 50), nn__learning_rate_init=0.01, pca__n_components=20 \n"
     ]
    },
    {
     "name": "stderr",
     "output_type": "stream",
     "text": [
      "/usr/local/lib/python3.6/site-packages/sklearn/neural_network/multilayer_perceptron.py:564: ConvergenceWarning: Stochastic Optimizer: Maximum iterations (200) reached and the optimization hasn't converged yet.\n",
      "  % self.max_iter, ConvergenceWarning)\n"
     ]
    },
    {
     "name": "stdout",
     "output_type": "stream",
     "text": [
      "[CV]  nn__hidden_layer_sizes=(50, 50, 50), nn__learning_rate_init=0.01, pca__n_components=20, score=0.5083310986870683, total=   2.5s\n",
      "[CV] nn__hidden_layer_sizes=(50, 50, 50), nn__learning_rate_init=0.01, pca__n_components=30 \n"
     ]
    },
    {
     "name": "stderr",
     "output_type": "stream",
     "text": [
      "/usr/local/lib/python3.6/site-packages/sklearn/neural_network/multilayer_perceptron.py:564: ConvergenceWarning: Stochastic Optimizer: Maximum iterations (200) reached and the optimization hasn't converged yet.\n",
      "  % self.max_iter, ConvergenceWarning)\n"
     ]
    },
    {
     "name": "stdout",
     "output_type": "stream",
     "text": [
      "[CV]  nn__hidden_layer_sizes=(50, 50, 50), nn__learning_rate_init=0.01, pca__n_components=30, score=0.4872582934759301, total=   2.4s\n",
      "[CV] nn__hidden_layer_sizes=(50, 50, 50), nn__learning_rate_init=0.01, pca__n_components=30 \n"
     ]
    },
    {
     "name": "stderr",
     "output_type": "stream",
     "text": [
      "/usr/local/lib/python3.6/site-packages/sklearn/neural_network/multilayer_perceptron.py:564: ConvergenceWarning: Stochastic Optimizer: Maximum iterations (200) reached and the optimization hasn't converged yet.\n",
      "  % self.max_iter, ConvergenceWarning)\n"
     ]
    },
    {
     "name": "stdout",
     "output_type": "stream",
     "text": [
      "[CV]  nn__hidden_layer_sizes=(50, 50, 50), nn__learning_rate_init=0.01, pca__n_components=30, score=0.5339892168966723, total=   2.4s\n",
      "[CV] nn__hidden_layer_sizes=(50, 50, 50), nn__learning_rate_init=0.01, pca__n_components=30 \n"
     ]
    },
    {
     "name": "stderr",
     "output_type": "stream",
     "text": [
      "/usr/local/lib/python3.6/site-packages/sklearn/neural_network/multilayer_perceptron.py:564: ConvergenceWarning: Stochastic Optimizer: Maximum iterations (200) reached and the optimization hasn't converged yet.\n",
      "  % self.max_iter, ConvergenceWarning)\n"
     ]
    },
    {
     "name": "stdout",
     "output_type": "stream",
     "text": [
      "[CV]  nn__hidden_layer_sizes=(50, 50, 50), nn__learning_rate_init=0.01, pca__n_components=30, score=0.5131210693493198, total=   2.4s\n",
      "[CV] nn__hidden_layer_sizes=(50, 50, 50), nn__learning_rate_init=0.01, pca__n_components=40 \n"
     ]
    },
    {
     "name": "stderr",
     "output_type": "stream",
     "text": [
      "/usr/local/lib/python3.6/site-packages/sklearn/neural_network/multilayer_perceptron.py:564: ConvergenceWarning: Stochastic Optimizer: Maximum iterations (200) reached and the optimization hasn't converged yet.\n",
      "  % self.max_iter, ConvergenceWarning)\n"
     ]
    },
    {
     "name": "stdout",
     "output_type": "stream",
     "text": [
      "[CV]  nn__hidden_layer_sizes=(50, 50, 50), nn__learning_rate_init=0.01, pca__n_components=40, score=0.49541864245157985, total=   2.4s\n",
      "[CV] nn__hidden_layer_sizes=(50, 50, 50), nn__learning_rate_init=0.01, pca__n_components=40 \n"
     ]
    },
    {
     "name": "stderr",
     "output_type": "stream",
     "text": [
      "/usr/local/lib/python3.6/site-packages/sklearn/neural_network/multilayer_perceptron.py:564: ConvergenceWarning: Stochastic Optimizer: Maximum iterations (200) reached and the optimization hasn't converged yet.\n",
      "  % self.max_iter, ConvergenceWarning)\n"
     ]
    },
    {
     "name": "stdout",
     "output_type": "stream",
     "text": [
      "[CV]  nn__hidden_layer_sizes=(50, 50, 50), nn__learning_rate_init=0.01, pca__n_components=40, score=0.5492019593901719, total=   2.4s\n",
      "[CV] nn__hidden_layer_sizes=(50, 50, 50), nn__learning_rate_init=0.01, pca__n_components=40 \n"
     ]
    },
    {
     "name": "stderr",
     "output_type": "stream",
     "text": [
      "/usr/local/lib/python3.6/site-packages/sklearn/neural_network/multilayer_perceptron.py:564: ConvergenceWarning: Stochastic Optimizer: Maximum iterations (200) reached and the optimization hasn't converged yet.\n",
      "  % self.max_iter, ConvergenceWarning)\n"
     ]
    },
    {
     "name": "stdout",
     "output_type": "stream",
     "text": [
      "[CV]  nn__hidden_layer_sizes=(50, 50, 50), nn__learning_rate_init=0.01, pca__n_components=40, score=0.514937211859104, total=   2.5s\n",
      "[CV] nn__hidden_layer_sizes=(50, 50, 50), nn__learning_rate_init=0.01, pca__n_components=50 \n"
     ]
    },
    {
     "name": "stderr",
     "output_type": "stream",
     "text": [
      "/usr/local/lib/python3.6/site-packages/sklearn/neural_network/multilayer_perceptron.py:564: ConvergenceWarning: Stochastic Optimizer: Maximum iterations (200) reached and the optimization hasn't converged yet.\n",
      "  % self.max_iter, ConvergenceWarning)\n"
     ]
    },
    {
     "name": "stdout",
     "output_type": "stream",
     "text": [
      "[CV]  nn__hidden_layer_sizes=(50, 50, 50), nn__learning_rate_init=0.01, pca__n_components=50, score=0.4902032029921052, total=   2.6s\n",
      "[CV] nn__hidden_layer_sizes=(50, 50, 50), nn__learning_rate_init=0.01, pca__n_components=50 \n"
     ]
    },
    {
     "name": "stderr",
     "output_type": "stream",
     "text": [
      "/usr/local/lib/python3.6/site-packages/sklearn/neural_network/multilayer_perceptron.py:564: ConvergenceWarning: Stochastic Optimizer: Maximum iterations (200) reached and the optimization hasn't converged yet.\n",
      "  % self.max_iter, ConvergenceWarning)\n"
     ]
    },
    {
     "name": "stdout",
     "output_type": "stream",
     "text": [
      "[CV]  nn__hidden_layer_sizes=(50, 50, 50), nn__learning_rate_init=0.01, pca__n_components=50, score=0.5419256452441332, total=   2.5s\n",
      "[CV] nn__hidden_layer_sizes=(50, 50, 50), nn__learning_rate_init=0.01, pca__n_components=50 \n"
     ]
    },
    {
     "name": "stderr",
     "output_type": "stream",
     "text": [
      "/usr/local/lib/python3.6/site-packages/sklearn/neural_network/multilayer_perceptron.py:564: ConvergenceWarning: Stochastic Optimizer: Maximum iterations (200) reached and the optimization hasn't converged yet.\n",
      "  % self.max_iter, ConvergenceWarning)\n"
     ]
    },
    {
     "name": "stdout",
     "output_type": "stream",
     "text": [
      "[CV]  nn__hidden_layer_sizes=(50, 50, 50), nn__learning_rate_init=0.01, pca__n_components=50, score=0.4846889376532659, total=   2.5s\n",
      "[CV] nn__hidden_layer_sizes=(100, 100, 100), nn__learning_rate_init=0.01, pca__n_components=10 \n"
     ]
    },
    {
     "name": "stderr",
     "output_type": "stream",
     "text": [
      "/usr/local/lib/python3.6/site-packages/sklearn/neural_network/multilayer_perceptron.py:564: ConvergenceWarning: Stochastic Optimizer: Maximum iterations (200) reached and the optimization hasn't converged yet.\n",
      "  % self.max_iter, ConvergenceWarning)\n"
     ]
    },
    {
     "name": "stdout",
     "output_type": "stream",
     "text": [
      "[CV]  nn__hidden_layer_sizes=(100, 100, 100), nn__learning_rate_init=0.01, pca__n_components=10, score=0.482794634121281, total=   4.1s\n",
      "[CV] nn__hidden_layer_sizes=(100, 100, 100), nn__learning_rate_init=0.01, pca__n_components=10 \n"
     ]
    },
    {
     "name": "stderr",
     "output_type": "stream",
     "text": [
      "/usr/local/lib/python3.6/site-packages/sklearn/neural_network/multilayer_perceptron.py:564: ConvergenceWarning: Stochastic Optimizer: Maximum iterations (200) reached and the optimization hasn't converged yet.\n",
      "  % self.max_iter, ConvergenceWarning)\n"
     ]
    },
    {
     "name": "stdout",
     "output_type": "stream",
     "text": [
      "[CV]  nn__hidden_layer_sizes=(100, 100, 100), nn__learning_rate_init=0.01, pca__n_components=10, score=0.5233846211023978, total=   4.5s\n",
      "[CV] nn__hidden_layer_sizes=(100, 100, 100), nn__learning_rate_init=0.01, pca__n_components=10 \n"
     ]
    },
    {
     "name": "stderr",
     "output_type": "stream",
     "text": [
      "/usr/local/lib/python3.6/site-packages/sklearn/neural_network/multilayer_perceptron.py:564: ConvergenceWarning: Stochastic Optimizer: Maximum iterations (200) reached and the optimization hasn't converged yet.\n",
      "  % self.max_iter, ConvergenceWarning)\n"
     ]
    },
    {
     "name": "stdout",
     "output_type": "stream",
     "text": [
      "[CV]  nn__hidden_layer_sizes=(100, 100, 100), nn__learning_rate_init=0.01, pca__n_components=10, score=0.49126909221815607, total=   4.2s\n",
      "[CV] nn__hidden_layer_sizes=(100, 100, 100), nn__learning_rate_init=0.01, pca__n_components=20 \n"
     ]
    },
    {
     "name": "stderr",
     "output_type": "stream",
     "text": [
      "/usr/local/lib/python3.6/site-packages/sklearn/neural_network/multilayer_perceptron.py:564: ConvergenceWarning: Stochastic Optimizer: Maximum iterations (200) reached and the optimization hasn't converged yet.\n",
      "  % self.max_iter, ConvergenceWarning)\n"
     ]
    },
    {
     "name": "stdout",
     "output_type": "stream",
     "text": [
      "[CV]  nn__hidden_layer_sizes=(100, 100, 100), nn__learning_rate_init=0.01, pca__n_components=20, score=0.4965287026975391, total=   4.5s\n",
      "[CV] nn__hidden_layer_sizes=(100, 100, 100), nn__learning_rate_init=0.01, pca__n_components=20 \n"
     ]
    },
    {
     "name": "stderr",
     "output_type": "stream",
     "text": [
      "/usr/local/lib/python3.6/site-packages/sklearn/neural_network/multilayer_perceptron.py:564: ConvergenceWarning: Stochastic Optimizer: Maximum iterations (200) reached and the optimization hasn't converged yet.\n",
      "  % self.max_iter, ConvergenceWarning)\n"
     ]
    },
    {
     "name": "stdout",
     "output_type": "stream",
     "text": [
      "[CV]  nn__hidden_layer_sizes=(100, 100, 100), nn__learning_rate_init=0.01, pca__n_components=20, score=0.5258536317966149, total=   4.2s\n",
      "[CV] nn__hidden_layer_sizes=(100, 100, 100), nn__learning_rate_init=0.01, pca__n_components=20 \n"
     ]
    },
    {
     "name": "stderr",
     "output_type": "stream",
     "text": [
      "/usr/local/lib/python3.6/site-packages/sklearn/neural_network/multilayer_perceptron.py:564: ConvergenceWarning: Stochastic Optimizer: Maximum iterations (200) reached and the optimization hasn't converged yet.\n",
      "  % self.max_iter, ConvergenceWarning)\n"
     ]
    },
    {
     "name": "stdout",
     "output_type": "stream",
     "text": [
      "[CV]  nn__hidden_layer_sizes=(100, 100, 100), nn__learning_rate_init=0.01, pca__n_components=20, score=0.5125556446574246, total=   4.2s\n",
      "[CV] nn__hidden_layer_sizes=(100, 100, 100), nn__learning_rate_init=0.01, pca__n_components=30 \n"
     ]
    },
    {
     "name": "stderr",
     "output_type": "stream",
     "text": [
      "/usr/local/lib/python3.6/site-packages/sklearn/neural_network/multilayer_perceptron.py:564: ConvergenceWarning: Stochastic Optimizer: Maximum iterations (200) reached and the optimization hasn't converged yet.\n",
      "  % self.max_iter, ConvergenceWarning)\n"
     ]
    },
    {
     "name": "stdout",
     "output_type": "stream",
     "text": [
      "[CV]  nn__hidden_layer_sizes=(100, 100, 100), nn__learning_rate_init=0.01, pca__n_components=30, score=0.49597475393874324, total=   4.3s\n",
      "[CV] nn__hidden_layer_sizes=(100, 100, 100), nn__learning_rate_init=0.01, pca__n_components=30 \n"
     ]
    },
    {
     "name": "stderr",
     "output_type": "stream",
     "text": [
      "/usr/local/lib/python3.6/site-packages/sklearn/neural_network/multilayer_perceptron.py:564: ConvergenceWarning: Stochastic Optimizer: Maximum iterations (200) reached and the optimization hasn't converged yet.\n",
      "  % self.max_iter, ConvergenceWarning)\n"
     ]
    },
    {
     "name": "stdout",
     "output_type": "stream",
     "text": [
      "[CV]  nn__hidden_layer_sizes=(100, 100, 100), nn__learning_rate_init=0.01, pca__n_components=30, score=0.548053462159003, total=   4.7s\n",
      "[CV] nn__hidden_layer_sizes=(100, 100, 100), nn__learning_rate_init=0.01, pca__n_components=30 \n"
     ]
    },
    {
     "name": "stderr",
     "output_type": "stream",
     "text": [
      "/usr/local/lib/python3.6/site-packages/sklearn/neural_network/multilayer_perceptron.py:564: ConvergenceWarning: Stochastic Optimizer: Maximum iterations (200) reached and the optimization hasn't converged yet.\n",
      "  % self.max_iter, ConvergenceWarning)\n"
     ]
    },
    {
     "name": "stdout",
     "output_type": "stream",
     "text": [
      "[CV]  nn__hidden_layer_sizes=(100, 100, 100), nn__learning_rate_init=0.01, pca__n_components=30, score=0.5024167365345112, total=   4.2s\n",
      "[CV] nn__hidden_layer_sizes=(100, 100, 100), nn__learning_rate_init=0.01, pca__n_components=40 \n"
     ]
    },
    {
     "name": "stderr",
     "output_type": "stream",
     "text": [
      "/usr/local/lib/python3.6/site-packages/sklearn/neural_network/multilayer_perceptron.py:564: ConvergenceWarning: Stochastic Optimizer: Maximum iterations (200) reached and the optimization hasn't converged yet.\n",
      "  % self.max_iter, ConvergenceWarning)\n"
     ]
    },
    {
     "name": "stdout",
     "output_type": "stream",
     "text": [
      "[CV]  nn__hidden_layer_sizes=(100, 100, 100), nn__learning_rate_init=0.01, pca__n_components=40, score=0.4981510516559895, total=   4.4s\n",
      "[CV] nn__hidden_layer_sizes=(100, 100, 100), nn__learning_rate_init=0.01, pca__n_components=40 \n"
     ]
    },
    {
     "name": "stderr",
     "output_type": "stream",
     "text": [
      "/usr/local/lib/python3.6/site-packages/sklearn/neural_network/multilayer_perceptron.py:564: ConvergenceWarning: Stochastic Optimizer: Maximum iterations (200) reached and the optimization hasn't converged yet.\n",
      "  % self.max_iter, ConvergenceWarning)\n"
     ]
    },
    {
     "name": "stdout",
     "output_type": "stream",
     "text": [
      "[CV]  nn__hidden_layer_sizes=(100, 100, 100), nn__learning_rate_init=0.01, pca__n_components=40, score=0.5627401588457568, total=   4.3s\n",
      "[CV] nn__hidden_layer_sizes=(100, 100, 100), nn__learning_rate_init=0.01, pca__n_components=40 \n"
     ]
    },
    {
     "name": "stderr",
     "output_type": "stream",
     "text": [
      "/usr/local/lib/python3.6/site-packages/sklearn/neural_network/multilayer_perceptron.py:564: ConvergenceWarning: Stochastic Optimizer: Maximum iterations (200) reached and the optimization hasn't converged yet.\n",
      "  % self.max_iter, ConvergenceWarning)\n"
     ]
    },
    {
     "name": "stdout",
     "output_type": "stream",
     "text": [
      "[CV]  nn__hidden_layer_sizes=(100, 100, 100), nn__learning_rate_init=0.01, pca__n_components=40, score=0.5152400774583523, total=   4.3s\n",
      "[CV] nn__hidden_layer_sizes=(100, 100, 100), nn__learning_rate_init=0.01, pca__n_components=50 \n"
     ]
    },
    {
     "name": "stderr",
     "output_type": "stream",
     "text": [
      "/usr/local/lib/python3.6/site-packages/sklearn/neural_network/multilayer_perceptron.py:564: ConvergenceWarning: Stochastic Optimizer: Maximum iterations (200) reached and the optimization hasn't converged yet.\n",
      "  % self.max_iter, ConvergenceWarning)\n"
     ]
    },
    {
     "name": "stdout",
     "output_type": "stream",
     "text": [
      "[CV]  nn__hidden_layer_sizes=(100, 100, 100), nn__learning_rate_init=0.01, pca__n_components=50, score=0.48712101024570087, total=   4.5s\n",
      "[CV] nn__hidden_layer_sizes=(100, 100, 100), nn__learning_rate_init=0.01, pca__n_components=50 \n"
     ]
    },
    {
     "name": "stderr",
     "output_type": "stream",
     "text": [
      "/usr/local/lib/python3.6/site-packages/sklearn/neural_network/multilayer_perceptron.py:564: ConvergenceWarning: Stochastic Optimizer: Maximum iterations (200) reached and the optimization hasn't converged yet.\n",
      "  % self.max_iter, ConvergenceWarning)\n"
     ]
    },
    {
     "name": "stdout",
     "output_type": "stream",
     "text": [
      "[CV]  nn__hidden_layer_sizes=(100, 100, 100), nn__learning_rate_init=0.01, pca__n_components=50, score=0.5517647057122304, total=   4.5s\n",
      "[CV] nn__hidden_layer_sizes=(100, 100, 100), nn__learning_rate_init=0.01, pca__n_components=50 \n"
     ]
    },
    {
     "name": "stderr",
     "output_type": "stream",
     "text": [
      "/usr/local/lib/python3.6/site-packages/sklearn/neural_network/multilayer_perceptron.py:564: ConvergenceWarning: Stochastic Optimizer: Maximum iterations (200) reached and the optimization hasn't converged yet.\n",
      "  % self.max_iter, ConvergenceWarning)\n"
     ]
    },
    {
     "name": "stdout",
     "output_type": "stream",
     "text": [
      "[CV]  nn__hidden_layer_sizes=(100, 100, 100), nn__learning_rate_init=0.01, pca__n_components=50, score=0.4793552989414801, total=   4.5s\n",
      "[CV] nn__hidden_layer_sizes=(150, 150, 150), nn__learning_rate_init=0.01, pca__n_components=10 \n"
     ]
    },
    {
     "name": "stderr",
     "output_type": "stream",
     "text": [
      "/usr/local/lib/python3.6/site-packages/sklearn/neural_network/multilayer_perceptron.py:564: ConvergenceWarning: Stochastic Optimizer: Maximum iterations (200) reached and the optimization hasn't converged yet.\n",
      "  % self.max_iter, ConvergenceWarning)\n"
     ]
    },
    {
     "name": "stdout",
     "output_type": "stream",
     "text": [
      "[CV]  nn__hidden_layer_sizes=(150, 150, 150), nn__learning_rate_init=0.01, pca__n_components=10, score=0.4965445316877011, total=   6.0s\n",
      "[CV] nn__hidden_layer_sizes=(150, 150, 150), nn__learning_rate_init=0.01, pca__n_components=10 \n"
     ]
    },
    {
     "name": "stderr",
     "output_type": "stream",
     "text": [
      "/usr/local/lib/python3.6/site-packages/sklearn/neural_network/multilayer_perceptron.py:564: ConvergenceWarning: Stochastic Optimizer: Maximum iterations (200) reached and the optimization hasn't converged yet.\n",
      "  % self.max_iter, ConvergenceWarning)\n"
     ]
    },
    {
     "name": "stdout",
     "output_type": "stream",
     "text": [
      "[CV]  nn__hidden_layer_sizes=(150, 150, 150), nn__learning_rate_init=0.01, pca__n_components=10, score=0.5409528946989057, total=   6.4s\n",
      "[CV] nn__hidden_layer_sizes=(150, 150, 150), nn__learning_rate_init=0.01, pca__n_components=10 \n"
     ]
    },
    {
     "name": "stderr",
     "output_type": "stream",
     "text": [
      "/usr/local/lib/python3.6/site-packages/sklearn/neural_network/multilayer_perceptron.py:564: ConvergenceWarning: Stochastic Optimizer: Maximum iterations (200) reached and the optimization hasn't converged yet.\n",
      "  % self.max_iter, ConvergenceWarning)\n"
     ]
    },
    {
     "name": "stdout",
     "output_type": "stream",
     "text": [
      "[CV]  nn__hidden_layer_sizes=(150, 150, 150), nn__learning_rate_init=0.01, pca__n_components=10, score=0.4926544736277585, total=   5.9s\n",
      "[CV] nn__hidden_layer_sizes=(150, 150, 150), nn__learning_rate_init=0.01, pca__n_components=20 \n"
     ]
    },
    {
     "name": "stderr",
     "output_type": "stream",
     "text": [
      "/usr/local/lib/python3.6/site-packages/sklearn/neural_network/multilayer_perceptron.py:564: ConvergenceWarning: Stochastic Optimizer: Maximum iterations (200) reached and the optimization hasn't converged yet.\n",
      "  % self.max_iter, ConvergenceWarning)\n"
     ]
    },
    {
     "name": "stdout",
     "output_type": "stream",
     "text": [
      "[CV]  nn__hidden_layer_sizes=(150, 150, 150), nn__learning_rate_init=0.01, pca__n_components=20, score=0.5095758891616563, total=   6.0s\n",
      "[CV] nn__hidden_layer_sizes=(150, 150, 150), nn__learning_rate_init=0.01, pca__n_components=20 \n"
     ]
    },
    {
     "name": "stderr",
     "output_type": "stream",
     "text": [
      "/usr/local/lib/python3.6/site-packages/sklearn/neural_network/multilayer_perceptron.py:564: ConvergenceWarning: Stochastic Optimizer: Maximum iterations (200) reached and the optimization hasn't converged yet.\n",
      "  % self.max_iter, ConvergenceWarning)\n"
     ]
    },
    {
     "name": "stdout",
     "output_type": "stream",
     "text": [
      "[CV]  nn__hidden_layer_sizes=(150, 150, 150), nn__learning_rate_init=0.01, pca__n_components=20, score=0.532262269574324, total=   6.4s\n",
      "[CV] nn__hidden_layer_sizes=(150, 150, 150), nn__learning_rate_init=0.01, pca__n_components=20 \n"
     ]
    },
    {
     "name": "stderr",
     "output_type": "stream",
     "text": [
      "/usr/local/lib/python3.6/site-packages/sklearn/neural_network/multilayer_perceptron.py:564: ConvergenceWarning: Stochastic Optimizer: Maximum iterations (200) reached and the optimization hasn't converged yet.\n",
      "  % self.max_iter, ConvergenceWarning)\n"
     ]
    },
    {
     "name": "stdout",
     "output_type": "stream",
     "text": [
      "[CV]  nn__hidden_layer_sizes=(150, 150, 150), nn__learning_rate_init=0.01, pca__n_components=20, score=0.5071969767726981, total=   6.3s\n",
      "[CV] nn__hidden_layer_sizes=(150, 150, 150), nn__learning_rate_init=0.01, pca__n_components=30 \n"
     ]
    },
    {
     "name": "stderr",
     "output_type": "stream",
     "text": [
      "/usr/local/lib/python3.6/site-packages/sklearn/neural_network/multilayer_perceptron.py:564: ConvergenceWarning: Stochastic Optimizer: Maximum iterations (200) reached and the optimization hasn't converged yet.\n",
      "  % self.max_iter, ConvergenceWarning)\n"
     ]
    },
    {
     "name": "stdout",
     "output_type": "stream",
     "text": [
      "[CV]  nn__hidden_layer_sizes=(150, 150, 150), nn__learning_rate_init=0.01, pca__n_components=30, score=0.5047228195022979, total=   6.4s\n",
      "[CV] nn__hidden_layer_sizes=(150, 150, 150), nn__learning_rate_init=0.01, pca__n_components=30 \n"
     ]
    },
    {
     "name": "stderr",
     "output_type": "stream",
     "text": [
      "/usr/local/lib/python3.6/site-packages/sklearn/neural_network/multilayer_perceptron.py:564: ConvergenceWarning: Stochastic Optimizer: Maximum iterations (200) reached and the optimization hasn't converged yet.\n",
      "  % self.max_iter, ConvergenceWarning)\n"
     ]
    },
    {
     "name": "stdout",
     "output_type": "stream",
     "text": [
      "[CV]  nn__hidden_layer_sizes=(150, 150, 150), nn__learning_rate_init=0.01, pca__n_components=30, score=0.5631022624881923, total=   6.3s\n",
      "[CV] nn__hidden_layer_sizes=(150, 150, 150), nn__learning_rate_init=0.01, pca__n_components=30 \n"
     ]
    },
    {
     "name": "stderr",
     "output_type": "stream",
     "text": [
      "/usr/local/lib/python3.6/site-packages/sklearn/neural_network/multilayer_perceptron.py:564: ConvergenceWarning: Stochastic Optimizer: Maximum iterations (200) reached and the optimization hasn't converged yet.\n",
      "  % self.max_iter, ConvergenceWarning)\n"
     ]
    },
    {
     "name": "stdout",
     "output_type": "stream",
     "text": [
      "[CV]  nn__hidden_layer_sizes=(150, 150, 150), nn__learning_rate_init=0.01, pca__n_components=30, score=0.5048750871725531, total=   6.3s\n",
      "[CV] nn__hidden_layer_sizes=(150, 150, 150), nn__learning_rate_init=0.01, pca__n_components=40 \n"
     ]
    },
    {
     "name": "stderr",
     "output_type": "stream",
     "text": [
      "/usr/local/lib/python3.6/site-packages/sklearn/neural_network/multilayer_perceptron.py:564: ConvergenceWarning: Stochastic Optimizer: Maximum iterations (200) reached and the optimization hasn't converged yet.\n",
      "  % self.max_iter, ConvergenceWarning)\n"
     ]
    },
    {
     "name": "stdout",
     "output_type": "stream",
     "text": [
      "[CV]  nn__hidden_layer_sizes=(150, 150, 150), nn__learning_rate_init=0.01, pca__n_components=40, score=0.49836926891663247, total=   6.5s\n",
      "[CV] nn__hidden_layer_sizes=(150, 150, 150), nn__learning_rate_init=0.01, pca__n_components=40 \n"
     ]
    },
    {
     "name": "stderr",
     "output_type": "stream",
     "text": [
      "/usr/local/lib/python3.6/site-packages/sklearn/neural_network/multilayer_perceptron.py:564: ConvergenceWarning: Stochastic Optimizer: Maximum iterations (200) reached and the optimization hasn't converged yet.\n",
      "  % self.max_iter, ConvergenceWarning)\n"
     ]
    },
    {
     "name": "stdout",
     "output_type": "stream",
     "text": [
      "[CV]  nn__hidden_layer_sizes=(150, 150, 150), nn__learning_rate_init=0.01, pca__n_components=40, score=0.5672832805230403, total=   6.4s\n",
      "[CV] nn__hidden_layer_sizes=(150, 150, 150), nn__learning_rate_init=0.01, pca__n_components=40 \n"
     ]
    },
    {
     "name": "stderr",
     "output_type": "stream",
     "text": [
      "/usr/local/lib/python3.6/site-packages/sklearn/neural_network/multilayer_perceptron.py:564: ConvergenceWarning: Stochastic Optimizer: Maximum iterations (200) reached and the optimization hasn't converged yet.\n",
      "  % self.max_iter, ConvergenceWarning)\n"
     ]
    },
    {
     "name": "stdout",
     "output_type": "stream",
     "text": [
      "[CV]  nn__hidden_layer_sizes=(150, 150, 150), nn__learning_rate_init=0.01, pca__n_components=40, score=0.492177681528306, total=   6.5s\n",
      "[CV] nn__hidden_layer_sizes=(150, 150, 150), nn__learning_rate_init=0.01, pca__n_components=50 \n"
     ]
    },
    {
     "name": "stderr",
     "output_type": "stream",
     "text": [
      "/usr/local/lib/python3.6/site-packages/sklearn/neural_network/multilayer_perceptron.py:564: ConvergenceWarning: Stochastic Optimizer: Maximum iterations (200) reached and the optimization hasn't converged yet.\n",
      "  % self.max_iter, ConvergenceWarning)\n"
     ]
    },
    {
     "name": "stdout",
     "output_type": "stream",
     "text": [
      "[CV]  nn__hidden_layer_sizes=(150, 150, 150), nn__learning_rate_init=0.01, pca__n_components=50, score=0.48656505492694047, total=   6.5s\n",
      "[CV] nn__hidden_layer_sizes=(150, 150, 150), nn__learning_rate_init=0.01, pca__n_components=50 \n"
     ]
    },
    {
     "name": "stderr",
     "output_type": "stream",
     "text": [
      "/usr/local/lib/python3.6/site-packages/sklearn/neural_network/multilayer_perceptron.py:564: ConvergenceWarning: Stochastic Optimizer: Maximum iterations (200) reached and the optimization hasn't converged yet.\n",
      "  % self.max_iter, ConvergenceWarning)\n"
     ]
    },
    {
     "name": "stdout",
     "output_type": "stream",
     "text": [
      "[CV]  nn__hidden_layer_sizes=(150, 150, 150), nn__learning_rate_init=0.01, pca__n_components=50, score=0.5560494055005913, total=   6.6s\n",
      "[CV] nn__hidden_layer_sizes=(150, 150, 150), nn__learning_rate_init=0.01, pca__n_components=50 \n"
     ]
    },
    {
     "name": "stderr",
     "output_type": "stream",
     "text": [
      "/usr/local/lib/python3.6/site-packages/sklearn/neural_network/multilayer_perceptron.py:564: ConvergenceWarning: Stochastic Optimizer: Maximum iterations (200) reached and the optimization hasn't converged yet.\n",
      "  % self.max_iter, ConvergenceWarning)\n"
     ]
    },
    {
     "name": "stdout",
     "output_type": "stream",
     "text": [
      "[CV]  nn__hidden_layer_sizes=(150, 150, 150), nn__learning_rate_init=0.01, pca__n_components=50, score=0.4556667539272832, total=   6.9s\n",
      "[CV] nn__hidden_layer_sizes=(200, 200, 200), nn__learning_rate_init=0.01, pca__n_components=10 \n"
     ]
    },
    {
     "name": "stderr",
     "output_type": "stream",
     "text": [
      "/usr/local/lib/python3.6/site-packages/sklearn/neural_network/multilayer_perceptron.py:564: ConvergenceWarning: Stochastic Optimizer: Maximum iterations (200) reached and the optimization hasn't converged yet.\n",
      "  % self.max_iter, ConvergenceWarning)\n"
     ]
    },
    {
     "name": "stdout",
     "output_type": "stream",
     "text": [
      "[CV]  nn__hidden_layer_sizes=(200, 200, 200), nn__learning_rate_init=0.01, pca__n_components=10, score=0.4998774611835357, total=   9.3s\n",
      "[CV] nn__hidden_layer_sizes=(200, 200, 200), nn__learning_rate_init=0.01, pca__n_components=10 \n"
     ]
    },
    {
     "name": "stderr",
     "output_type": "stream",
     "text": [
      "/usr/local/lib/python3.6/site-packages/sklearn/neural_network/multilayer_perceptron.py:564: ConvergenceWarning: Stochastic Optimizer: Maximum iterations (200) reached and the optimization hasn't converged yet.\n",
      "  % self.max_iter, ConvergenceWarning)\n"
     ]
    },
    {
     "name": "stdout",
     "output_type": "stream",
     "text": [
      "[CV]  nn__hidden_layer_sizes=(200, 200, 200), nn__learning_rate_init=0.01, pca__n_components=10, score=0.5502630510838269, total=   9.6s\n",
      "[CV] nn__hidden_layer_sizes=(200, 200, 200), nn__learning_rate_init=0.01, pca__n_components=10 \n"
     ]
    },
    {
     "name": "stderr",
     "output_type": "stream",
     "text": [
      "/usr/local/lib/python3.6/site-packages/sklearn/neural_network/multilayer_perceptron.py:564: ConvergenceWarning: Stochastic Optimizer: Maximum iterations (200) reached and the optimization hasn't converged yet.\n",
      "  % self.max_iter, ConvergenceWarning)\n"
     ]
    },
    {
     "name": "stdout",
     "output_type": "stream",
     "text": [
      "[CV]  nn__hidden_layer_sizes=(200, 200, 200), nn__learning_rate_init=0.01, pca__n_components=10, score=0.4804087470871893, total=   9.5s\n",
      "[CV] nn__hidden_layer_sizes=(200, 200, 200), nn__learning_rate_init=0.01, pca__n_components=20 \n"
     ]
    },
    {
     "name": "stderr",
     "output_type": "stream",
     "text": [
      "/usr/local/lib/python3.6/site-packages/sklearn/neural_network/multilayer_perceptron.py:564: ConvergenceWarning: Stochastic Optimizer: Maximum iterations (200) reached and the optimization hasn't converged yet.\n",
      "  % self.max_iter, ConvergenceWarning)\n"
     ]
    },
    {
     "name": "stdout",
     "output_type": "stream",
     "text": [
      "[CV]  nn__hidden_layer_sizes=(200, 200, 200), nn__learning_rate_init=0.01, pca__n_components=20, score=0.5101975498244972, total=   8.9s\n",
      "[CV] nn__hidden_layer_sizes=(200, 200, 200), nn__learning_rate_init=0.01, pca__n_components=20 \n",
      "[CV]  nn__hidden_layer_sizes=(200, 200, 200), nn__learning_rate_init=0.01, pca__n_components=20, score=0.5520795938078085, total=   7.9s\n",
      "[CV] nn__hidden_layer_sizes=(200, 200, 200), nn__learning_rate_init=0.01, pca__n_components=20 \n"
     ]
    },
    {
     "name": "stderr",
     "output_type": "stream",
     "text": [
      "/usr/local/lib/python3.6/site-packages/sklearn/neural_network/multilayer_perceptron.py:564: ConvergenceWarning: Stochastic Optimizer: Maximum iterations (200) reached and the optimization hasn't converged yet.\n",
      "  % self.max_iter, ConvergenceWarning)\n"
     ]
    },
    {
     "name": "stdout",
     "output_type": "stream",
     "text": [
      "[CV]  nn__hidden_layer_sizes=(200, 200, 200), nn__learning_rate_init=0.01, pca__n_components=20, score=0.5103711018489839, total=   9.0s\n",
      "[CV] nn__hidden_layer_sizes=(200, 200, 200), nn__learning_rate_init=0.01, pca__n_components=30 \n"
     ]
    },
    {
     "name": "stderr",
     "output_type": "stream",
     "text": [
      "/usr/local/lib/python3.6/site-packages/sklearn/neural_network/multilayer_perceptron.py:564: ConvergenceWarning: Stochastic Optimizer: Maximum iterations (200) reached and the optimization hasn't converged yet.\n",
      "  % self.max_iter, ConvergenceWarning)\n"
     ]
    },
    {
     "name": "stdout",
     "output_type": "stream",
     "text": [
      "[CV]  nn__hidden_layer_sizes=(200, 200, 200), nn__learning_rate_init=0.01, pca__n_components=30, score=0.5001348924310505, total=   8.9s\n",
      "[CV] nn__hidden_layer_sizes=(200, 200, 200), nn__learning_rate_init=0.01, pca__n_components=30 \n"
     ]
    },
    {
     "name": "stderr",
     "output_type": "stream",
     "text": [
      "/usr/local/lib/python3.6/site-packages/sklearn/neural_network/multilayer_perceptron.py:564: ConvergenceWarning: Stochastic Optimizer: Maximum iterations (200) reached and the optimization hasn't converged yet.\n",
      "  % self.max_iter, ConvergenceWarning)\n"
     ]
    },
    {
     "name": "stdout",
     "output_type": "stream",
     "text": [
      "[CV]  nn__hidden_layer_sizes=(200, 200, 200), nn__learning_rate_init=0.01, pca__n_components=30, score=0.5721173360936284, total=   8.8s\n",
      "[CV] nn__hidden_layer_sizes=(200, 200, 200), nn__learning_rate_init=0.01, pca__n_components=30 \n"
     ]
    },
    {
     "name": "stderr",
     "output_type": "stream",
     "text": [
      "/usr/local/lib/python3.6/site-packages/sklearn/neural_network/multilayer_perceptron.py:564: ConvergenceWarning: Stochastic Optimizer: Maximum iterations (200) reached and the optimization hasn't converged yet.\n",
      "  % self.max_iter, ConvergenceWarning)\n"
     ]
    },
    {
     "name": "stdout",
     "output_type": "stream",
     "text": [
      "[CV]  nn__hidden_layer_sizes=(200, 200, 200), nn__learning_rate_init=0.01, pca__n_components=30, score=0.49613794477730266, total=   8.9s\n",
      "[CV] nn__hidden_layer_sizes=(200, 200, 200), nn__learning_rate_init=0.01, pca__n_components=40 \n"
     ]
    },
    {
     "name": "stderr",
     "output_type": "stream",
     "text": [
      "/usr/local/lib/python3.6/site-packages/sklearn/neural_network/multilayer_perceptron.py:564: ConvergenceWarning: Stochastic Optimizer: Maximum iterations (200) reached and the optimization hasn't converged yet.\n",
      "  % self.max_iter, ConvergenceWarning)\n"
     ]
    },
    {
     "name": "stdout",
     "output_type": "stream",
     "text": [
      "[CV]  nn__hidden_layer_sizes=(200, 200, 200), nn__learning_rate_init=0.01, pca__n_components=40, score=0.4791992752605164, total=   9.1s\n",
      "[CV] nn__hidden_layer_sizes=(200, 200, 200), nn__learning_rate_init=0.01, pca__n_components=40 \n"
     ]
    },
    {
     "name": "stderr",
     "output_type": "stream",
     "text": [
      "/usr/local/lib/python3.6/site-packages/sklearn/neural_network/multilayer_perceptron.py:564: ConvergenceWarning: Stochastic Optimizer: Maximum iterations (200) reached and the optimization hasn't converged yet.\n",
      "  % self.max_iter, ConvergenceWarning)\n"
     ]
    },
    {
     "name": "stdout",
     "output_type": "stream",
     "text": [
      "[CV]  nn__hidden_layer_sizes=(200, 200, 200), nn__learning_rate_init=0.01, pca__n_components=40, score=0.5727399874120034, total=   9.1s\n",
      "[CV] nn__hidden_layer_sizes=(200, 200, 200), nn__learning_rate_init=0.01, pca__n_components=40 \n"
     ]
    },
    {
     "name": "stderr",
     "output_type": "stream",
     "text": [
      "/usr/local/lib/python3.6/site-packages/sklearn/neural_network/multilayer_perceptron.py:564: ConvergenceWarning: Stochastic Optimizer: Maximum iterations (200) reached and the optimization hasn't converged yet.\n",
      "  % self.max_iter, ConvergenceWarning)\n"
     ]
    },
    {
     "name": "stdout",
     "output_type": "stream",
     "text": [
      "[CV]  nn__hidden_layer_sizes=(200, 200, 200), nn__learning_rate_init=0.01, pca__n_components=40, score=0.46077010311410815, total=   9.4s\n",
      "[CV] nn__hidden_layer_sizes=(200, 200, 200), nn__learning_rate_init=0.01, pca__n_components=50 \n"
     ]
    },
    {
     "name": "stderr",
     "output_type": "stream",
     "text": [
      "/usr/local/lib/python3.6/site-packages/sklearn/neural_network/multilayer_perceptron.py:564: ConvergenceWarning: Stochastic Optimizer: Maximum iterations (200) reached and the optimization hasn't converged yet.\n",
      "  % self.max_iter, ConvergenceWarning)\n"
     ]
    },
    {
     "name": "stdout",
     "output_type": "stream",
     "text": [
      "[CV]  nn__hidden_layer_sizes=(200, 200, 200), nn__learning_rate_init=0.01, pca__n_components=50, score=0.4798221468058562, total=   9.1s\n",
      "[CV] nn__hidden_layer_sizes=(200, 200, 200), nn__learning_rate_init=0.01, pca__n_components=50 \n"
     ]
    },
    {
     "name": "stderr",
     "output_type": "stream",
     "text": [
      "/usr/local/lib/python3.6/site-packages/sklearn/neural_network/multilayer_perceptron.py:564: ConvergenceWarning: Stochastic Optimizer: Maximum iterations (200) reached and the optimization hasn't converged yet.\n",
      "  % self.max_iter, ConvergenceWarning)\n"
     ]
    },
    {
     "name": "stdout",
     "output_type": "stream",
     "text": [
      "[CV]  nn__hidden_layer_sizes=(200, 200, 200), nn__learning_rate_init=0.01, pca__n_components=50, score=0.5521957679488947, total=   9.0s\n",
      "[CV] nn__hidden_layer_sizes=(200, 200, 200), nn__learning_rate_init=0.01, pca__n_components=50 \n"
     ]
    },
    {
     "name": "stderr",
     "output_type": "stream",
     "text": [
      "/usr/local/lib/python3.6/site-packages/sklearn/neural_network/multilayer_perceptron.py:564: ConvergenceWarning: Stochastic Optimizer: Maximum iterations (200) reached and the optimization hasn't converged yet.\n",
      "  % self.max_iter, ConvergenceWarning)\n"
     ]
    },
    {
     "name": "stdout",
     "output_type": "stream",
     "text": [
      "[CV]  nn__hidden_layer_sizes=(200, 200, 200), nn__learning_rate_init=0.01, pca__n_components=50, score=0.40625679330905606, total=   9.2s\n",
      "[CV] nn__hidden_layer_sizes=(250, 250, 250), nn__learning_rate_init=0.01, pca__n_components=10 \n",
      "[CV]  nn__hidden_layer_sizes=(250, 250, 250), nn__learning_rate_init=0.01, pca__n_components=10, score=0.49807189687222264, total=  10.6s\n",
      "[CV] nn__hidden_layer_sizes=(250, 250, 250), nn__learning_rate_init=0.01, pca__n_components=10 \n"
     ]
    },
    {
     "name": "stderr",
     "output_type": "stream",
     "text": [
      "/usr/local/lib/python3.6/site-packages/sklearn/neural_network/multilayer_perceptron.py:564: ConvergenceWarning: Stochastic Optimizer: Maximum iterations (200) reached and the optimization hasn't converged yet.\n",
      "  % self.max_iter, ConvergenceWarning)\n"
     ]
    },
    {
     "name": "stdout",
     "output_type": "stream",
     "text": [
      "[CV]  nn__hidden_layer_sizes=(250, 250, 250), nn__learning_rate_init=0.01, pca__n_components=10, score=0.5518984206397906, total=  11.9s\n",
      "[CV] nn__hidden_layer_sizes=(250, 250, 250), nn__learning_rate_init=0.01, pca__n_components=10 \n"
     ]
    },
    {
     "name": "stderr",
     "output_type": "stream",
     "text": [
      "/usr/local/lib/python3.6/site-packages/sklearn/neural_network/multilayer_perceptron.py:564: ConvergenceWarning: Stochastic Optimizer: Maximum iterations (200) reached and the optimization hasn't converged yet.\n",
      "  % self.max_iter, ConvergenceWarning)\n"
     ]
    },
    {
     "name": "stdout",
     "output_type": "stream",
     "text": [
      "[CV]  nn__hidden_layer_sizes=(250, 250, 250), nn__learning_rate_init=0.01, pca__n_components=10, score=0.47333079811999357, total=  11.6s\n",
      "[CV] nn__hidden_layer_sizes=(250, 250, 250), nn__learning_rate_init=0.01, pca__n_components=20 \n"
     ]
    },
    {
     "name": "stderr",
     "output_type": "stream",
     "text": [
      "/usr/local/lib/python3.6/site-packages/sklearn/neural_network/multilayer_perceptron.py:564: ConvergenceWarning: Stochastic Optimizer: Maximum iterations (200) reached and the optimization hasn't converged yet.\n",
      "  % self.max_iter, ConvergenceWarning)\n"
     ]
    },
    {
     "name": "stdout",
     "output_type": "stream",
     "text": [
      "[CV]  nn__hidden_layer_sizes=(250, 250, 250), nn__learning_rate_init=0.01, pca__n_components=20, score=0.5039397376915338, total=  11.9s\n",
      "[CV] nn__hidden_layer_sizes=(250, 250, 250), nn__learning_rate_init=0.01, pca__n_components=20 \n"
     ]
    },
    {
     "name": "stderr",
     "output_type": "stream",
     "text": [
      "/usr/local/lib/python3.6/site-packages/sklearn/neural_network/multilayer_perceptron.py:564: ConvergenceWarning: Stochastic Optimizer: Maximum iterations (200) reached and the optimization hasn't converged yet.\n",
      "  % self.max_iter, ConvergenceWarning)\n"
     ]
    },
    {
     "name": "stdout",
     "output_type": "stream",
     "text": [
      "[CV]  nn__hidden_layer_sizes=(250, 250, 250), nn__learning_rate_init=0.01, pca__n_components=20, score=0.5504330141226099, total=  11.9s\n",
      "[CV] nn__hidden_layer_sizes=(250, 250, 250), nn__learning_rate_init=0.01, pca__n_components=20 \n"
     ]
    },
    {
     "name": "stderr",
     "output_type": "stream",
     "text": [
      "/usr/local/lib/python3.6/site-packages/sklearn/neural_network/multilayer_perceptron.py:564: ConvergenceWarning: Stochastic Optimizer: Maximum iterations (200) reached and the optimization hasn't converged yet.\n",
      "  % self.max_iter, ConvergenceWarning)\n"
     ]
    },
    {
     "name": "stdout",
     "output_type": "stream",
     "text": [
      "[CV]  nn__hidden_layer_sizes=(250, 250, 250), nn__learning_rate_init=0.01, pca__n_components=20, score=0.49998953424031123, total=  11.7s\n",
      "[CV] nn__hidden_layer_sizes=(250, 250, 250), nn__learning_rate_init=0.01, pca__n_components=30 \n"
     ]
    },
    {
     "name": "stderr",
     "output_type": "stream",
     "text": [
      "/usr/local/lib/python3.6/site-packages/sklearn/neural_network/multilayer_perceptron.py:564: ConvergenceWarning: Stochastic Optimizer: Maximum iterations (200) reached and the optimization hasn't converged yet.\n",
      "  % self.max_iter, ConvergenceWarning)\n"
     ]
    },
    {
     "name": "stdout",
     "output_type": "stream",
     "text": [
      "[CV]  nn__hidden_layer_sizes=(250, 250, 250), nn__learning_rate_init=0.01, pca__n_components=30, score=0.4871887167662413, total=  12.1s\n",
      "[CV] nn__hidden_layer_sizes=(250, 250, 250), nn__learning_rate_init=0.01, pca__n_components=30 \n"
     ]
    },
    {
     "name": "stderr",
     "output_type": "stream",
     "text": [
      "/usr/local/lib/python3.6/site-packages/sklearn/neural_network/multilayer_perceptron.py:564: ConvergenceWarning: Stochastic Optimizer: Maximum iterations (200) reached and the optimization hasn't converged yet.\n",
      "  % self.max_iter, ConvergenceWarning)\n"
     ]
    },
    {
     "name": "stdout",
     "output_type": "stream",
     "text": [
      "[CV]  nn__hidden_layer_sizes=(250, 250, 250), nn__learning_rate_init=0.01, pca__n_components=30, score=0.5556524435415497, total=  12.0s\n",
      "[CV] nn__hidden_layer_sizes=(250, 250, 250), nn__learning_rate_init=0.01, pca__n_components=30 \n"
     ]
    },
    {
     "name": "stderr",
     "output_type": "stream",
     "text": [
      "/usr/local/lib/python3.6/site-packages/sklearn/neural_network/multilayer_perceptron.py:564: ConvergenceWarning: Stochastic Optimizer: Maximum iterations (200) reached and the optimization hasn't converged yet.\n",
      "  % self.max_iter, ConvergenceWarning)\n"
     ]
    },
    {
     "name": "stdout",
     "output_type": "stream",
     "text": [
      "[CV]  nn__hidden_layer_sizes=(250, 250, 250), nn__learning_rate_init=0.01, pca__n_components=30, score=0.43522918050060655, total=  12.1s\n",
      "[CV] nn__hidden_layer_sizes=(250, 250, 250), nn__learning_rate_init=0.01, pca__n_components=40 \n"
     ]
    },
    {
     "name": "stderr",
     "output_type": "stream",
     "text": [
      "/usr/local/lib/python3.6/site-packages/sklearn/neural_network/multilayer_perceptron.py:564: ConvergenceWarning: Stochastic Optimizer: Maximum iterations (200) reached and the optimization hasn't converged yet.\n",
      "  % self.max_iter, ConvergenceWarning)\n"
     ]
    },
    {
     "name": "stdout",
     "output_type": "stream",
     "text": [
      "[CV]  nn__hidden_layer_sizes=(250, 250, 250), nn__learning_rate_init=0.01, pca__n_components=40, score=0.4689275576694799, total=  12.8s\n",
      "[CV] nn__hidden_layer_sizes=(250, 250, 250), nn__learning_rate_init=0.01, pca__n_components=40 \n"
     ]
    },
    {
     "name": "stderr",
     "output_type": "stream",
     "text": [
      "/usr/local/lib/python3.6/site-packages/sklearn/neural_network/multilayer_perceptron.py:564: ConvergenceWarning: Stochastic Optimizer: Maximum iterations (200) reached and the optimization hasn't converged yet.\n",
      "  % self.max_iter, ConvergenceWarning)\n"
     ]
    },
    {
     "name": "stdout",
     "output_type": "stream",
     "text": [
      "[CV]  nn__hidden_layer_sizes=(250, 250, 250), nn__learning_rate_init=0.01, pca__n_components=40, score=0.5511439078488065, total=  13.0s\n",
      "[CV] nn__hidden_layer_sizes=(250, 250, 250), nn__learning_rate_init=0.01, pca__n_components=40 \n"
     ]
    },
    {
     "name": "stderr",
     "output_type": "stream",
     "text": [
      "/usr/local/lib/python3.6/site-packages/sklearn/neural_network/multilayer_perceptron.py:564: ConvergenceWarning: Stochastic Optimizer: Maximum iterations (200) reached and the optimization hasn't converged yet.\n",
      "  % self.max_iter, ConvergenceWarning)\n"
     ]
    },
    {
     "name": "stdout",
     "output_type": "stream",
     "text": [
      "[CV]  nn__hidden_layer_sizes=(250, 250, 250), nn__learning_rate_init=0.01, pca__n_components=40, score=0.44658013215998815, total=  12.2s\n",
      "[CV] nn__hidden_layer_sizes=(250, 250, 250), nn__learning_rate_init=0.01, pca__n_components=50 \n"
     ]
    },
    {
     "name": "stderr",
     "output_type": "stream",
     "text": [
      "/usr/local/lib/python3.6/site-packages/sklearn/neural_network/multilayer_perceptron.py:564: ConvergenceWarning: Stochastic Optimizer: Maximum iterations (200) reached and the optimization hasn't converged yet.\n",
      "  % self.max_iter, ConvergenceWarning)\n"
     ]
    },
    {
     "name": "stdout",
     "output_type": "stream",
     "text": [
      "[CV]  nn__hidden_layer_sizes=(250, 250, 250), nn__learning_rate_init=0.01, pca__n_components=50, score=0.4572235297670939, total=  12.5s\n",
      "[CV] nn__hidden_layer_sizes=(250, 250, 250), nn__learning_rate_init=0.01, pca__n_components=50 \n"
     ]
    },
    {
     "name": "stderr",
     "output_type": "stream",
     "text": [
      "/usr/local/lib/python3.6/site-packages/sklearn/neural_network/multilayer_perceptron.py:564: ConvergenceWarning: Stochastic Optimizer: Maximum iterations (200) reached and the optimization hasn't converged yet.\n",
      "  % self.max_iter, ConvergenceWarning)\n"
     ]
    },
    {
     "name": "stdout",
     "output_type": "stream",
     "text": [
      "[CV]  nn__hidden_layer_sizes=(250, 250, 250), nn__learning_rate_init=0.01, pca__n_components=50, score=0.5317605936502432, total=  12.9s\n",
      "[CV] nn__hidden_layer_sizes=(250, 250, 250), nn__learning_rate_init=0.01, pca__n_components=50 \n"
     ]
    },
    {
     "name": "stderr",
     "output_type": "stream",
     "text": [
      "/usr/local/lib/python3.6/site-packages/sklearn/neural_network/multilayer_perceptron.py:564: ConvergenceWarning: Stochastic Optimizer: Maximum iterations (200) reached and the optimization hasn't converged yet.\n",
      "  % self.max_iter, ConvergenceWarning)\n"
     ]
    },
    {
     "name": "stdout",
     "output_type": "stream",
     "text": [
      "[CV]  nn__hidden_layer_sizes=(250, 250, 250), nn__learning_rate_init=0.01, pca__n_components=50, score=0.34209381968305386, total=  12.5s\n",
      "[CV] nn__hidden_layer_sizes=(300, 300, 300), nn__learning_rate_init=0.01, pca__n_components=10 \n"
     ]
    },
    {
     "name": "stderr",
     "output_type": "stream",
     "text": [
      "/usr/local/lib/python3.6/site-packages/sklearn/neural_network/multilayer_perceptron.py:564: ConvergenceWarning: Stochastic Optimizer: Maximum iterations (200) reached and the optimization hasn't converged yet.\n",
      "  % self.max_iter, ConvergenceWarning)\n"
     ]
    },
    {
     "name": "stdout",
     "output_type": "stream",
     "text": [
      "[CV]  nn__hidden_layer_sizes=(300, 300, 300), nn__learning_rate_init=0.01, pca__n_components=10, score=0.503405960478903, total=  15.7s\n",
      "[CV] nn__hidden_layer_sizes=(300, 300, 300), nn__learning_rate_init=0.01, pca__n_components=10 \n"
     ]
    },
    {
     "name": "stderr",
     "output_type": "stream",
     "text": [
      "/usr/local/lib/python3.6/site-packages/sklearn/neural_network/multilayer_perceptron.py:564: ConvergenceWarning: Stochastic Optimizer: Maximum iterations (200) reached and the optimization hasn't converged yet.\n",
      "  % self.max_iter, ConvergenceWarning)\n"
     ]
    },
    {
     "name": "stdout",
     "output_type": "stream",
     "text": [
      "[CV]  nn__hidden_layer_sizes=(300, 300, 300), nn__learning_rate_init=0.01, pca__n_components=10, score=0.5583135433937267, total=  16.6s\n",
      "[CV] nn__hidden_layer_sizes=(300, 300, 300), nn__learning_rate_init=0.01, pca__n_components=10 \n"
     ]
    },
    {
     "name": "stderr",
     "output_type": "stream",
     "text": [
      "/usr/local/lib/python3.6/site-packages/sklearn/neural_network/multilayer_perceptron.py:564: ConvergenceWarning: Stochastic Optimizer: Maximum iterations (200) reached and the optimization hasn't converged yet.\n",
      "  % self.max_iter, ConvergenceWarning)\n"
     ]
    },
    {
     "name": "stdout",
     "output_type": "stream",
     "text": [
      "[CV]  nn__hidden_layer_sizes=(300, 300, 300), nn__learning_rate_init=0.01, pca__n_components=10, score=0.47090146108358066, total=  15.9s\n",
      "[CV] nn__hidden_layer_sizes=(300, 300, 300), nn__learning_rate_init=0.01, pca__n_components=20 \n"
     ]
    },
    {
     "name": "stderr",
     "output_type": "stream",
     "text": [
      "/usr/local/lib/python3.6/site-packages/sklearn/neural_network/multilayer_perceptron.py:564: ConvergenceWarning: Stochastic Optimizer: Maximum iterations (200) reached and the optimization hasn't converged yet.\n",
      "  % self.max_iter, ConvergenceWarning)\n"
     ]
    },
    {
     "name": "stdout",
     "output_type": "stream",
     "text": [
      "[CV]  nn__hidden_layer_sizes=(300, 300, 300), nn__learning_rate_init=0.01, pca__n_components=20, score=0.5124466098960716, total=  16.6s\n",
      "[CV] nn__hidden_layer_sizes=(300, 300, 300), nn__learning_rate_init=0.01, pca__n_components=20 \n"
     ]
    },
    {
     "name": "stderr",
     "output_type": "stream",
     "text": [
      "/usr/local/lib/python3.6/site-packages/sklearn/neural_network/multilayer_perceptron.py:564: ConvergenceWarning: Stochastic Optimizer: Maximum iterations (200) reached and the optimization hasn't converged yet.\n",
      "  % self.max_iter, ConvergenceWarning)\n"
     ]
    },
    {
     "name": "stdout",
     "output_type": "stream",
     "text": [
      "[CV]  nn__hidden_layer_sizes=(300, 300, 300), nn__learning_rate_init=0.01, pca__n_components=20, score=0.5418636676423925, total=  15.9s\n",
      "[CV] nn__hidden_layer_sizes=(300, 300, 300), nn__learning_rate_init=0.01, pca__n_components=20 \n"
     ]
    },
    {
     "name": "stderr",
     "output_type": "stream",
     "text": [
      "/usr/local/lib/python3.6/site-packages/sklearn/neural_network/multilayer_perceptron.py:564: ConvergenceWarning: Stochastic Optimizer: Maximum iterations (200) reached and the optimization hasn't converged yet.\n",
      "  % self.max_iter, ConvergenceWarning)\n"
     ]
    },
    {
     "name": "stdout",
     "output_type": "stream",
     "text": [
      "[CV]  nn__hidden_layer_sizes=(300, 300, 300), nn__learning_rate_init=0.01, pca__n_components=20, score=0.4769888365524435, total=  16.2s\n",
      "[CV] nn__hidden_layer_sizes=(300, 300, 300), nn__learning_rate_init=0.01, pca__n_components=30 \n"
     ]
    },
    {
     "name": "stderr",
     "output_type": "stream",
     "text": [
      "/usr/local/lib/python3.6/site-packages/sklearn/neural_network/multilayer_perceptron.py:564: ConvergenceWarning: Stochastic Optimizer: Maximum iterations (200) reached and the optimization hasn't converged yet.\n",
      "  % self.max_iter, ConvergenceWarning)\n"
     ]
    },
    {
     "name": "stdout",
     "output_type": "stream",
     "text": [
      "[CV]  nn__hidden_layer_sizes=(300, 300, 300), nn__learning_rate_init=0.01, pca__n_components=30, score=0.49501591379653553, total=  16.9s\n",
      "[CV] nn__hidden_layer_sizes=(300, 300, 300), nn__learning_rate_init=0.01, pca__n_components=30 \n"
     ]
    },
    {
     "name": "stderr",
     "output_type": "stream",
     "text": [
      "/usr/local/lib/python3.6/site-packages/sklearn/neural_network/multilayer_perceptron.py:564: ConvergenceWarning: Stochastic Optimizer: Maximum iterations (200) reached and the optimization hasn't converged yet.\n",
      "  % self.max_iter, ConvergenceWarning)\n"
     ]
    },
    {
     "name": "stdout",
     "output_type": "stream",
     "text": [
      "[CV]  nn__hidden_layer_sizes=(300, 300, 300), nn__learning_rate_init=0.01, pca__n_components=30, score=0.5444288352829618, total=  16.4s\n",
      "[CV] nn__hidden_layer_sizes=(300, 300, 300), nn__learning_rate_init=0.01, pca__n_components=30 \n"
     ]
    },
    {
     "name": "stderr",
     "output_type": "stream",
     "text": [
      "/usr/local/lib/python3.6/site-packages/sklearn/neural_network/multilayer_perceptron.py:564: ConvergenceWarning: Stochastic Optimizer: Maximum iterations (200) reached and the optimization hasn't converged yet.\n",
      "  % self.max_iter, ConvergenceWarning)\n"
     ]
    },
    {
     "name": "stdout",
     "output_type": "stream",
     "text": [
      "[CV]  nn__hidden_layer_sizes=(300, 300, 300), nn__learning_rate_init=0.01, pca__n_components=30, score=0.4284344484893835, total=  17.2s\n",
      "[CV] nn__hidden_layer_sizes=(300, 300, 300), nn__learning_rate_init=0.01, pca__n_components=40 \n"
     ]
    },
    {
     "name": "stderr",
     "output_type": "stream",
     "text": [
      "/usr/local/lib/python3.6/site-packages/sklearn/neural_network/multilayer_perceptron.py:564: ConvergenceWarning: Stochastic Optimizer: Maximum iterations (200) reached and the optimization hasn't converged yet.\n",
      "  % self.max_iter, ConvergenceWarning)\n"
     ]
    },
    {
     "name": "stdout",
     "output_type": "stream",
     "text": [
      "[CV]  nn__hidden_layer_sizes=(300, 300, 300), nn__learning_rate_init=0.01, pca__n_components=40, score=0.41690736412348883, total=  16.6s\n",
      "[CV] nn__hidden_layer_sizes=(300, 300, 300), nn__learning_rate_init=0.01, pca__n_components=40 \n"
     ]
    },
    {
     "name": "stderr",
     "output_type": "stream",
     "text": [
      "/usr/local/lib/python3.6/site-packages/sklearn/neural_network/multilayer_perceptron.py:564: ConvergenceWarning: Stochastic Optimizer: Maximum iterations (200) reached and the optimization hasn't converged yet.\n",
      "  % self.max_iter, ConvergenceWarning)\n"
     ]
    },
    {
     "name": "stdout",
     "output_type": "stream",
     "text": [
      "[CV]  nn__hidden_layer_sizes=(300, 300, 300), nn__learning_rate_init=0.01, pca__n_components=40, score=0.49759793854198486, total=  16.0s\n",
      "[CV] nn__hidden_layer_sizes=(300, 300, 300), nn__learning_rate_init=0.01, pca__n_components=40 \n"
     ]
    },
    {
     "name": "stderr",
     "output_type": "stream",
     "text": [
      "/usr/local/lib/python3.6/site-packages/sklearn/neural_network/multilayer_perceptron.py:564: ConvergenceWarning: Stochastic Optimizer: Maximum iterations (200) reached and the optimization hasn't converged yet.\n",
      "  % self.max_iter, ConvergenceWarning)\n"
     ]
    },
    {
     "name": "stdout",
     "output_type": "stream",
     "text": [
      "[CV]  nn__hidden_layer_sizes=(300, 300, 300), nn__learning_rate_init=0.01, pca__n_components=40, score=0.4139185511633443, total=  15.9s\n",
      "[CV] nn__hidden_layer_sizes=(300, 300, 300), nn__learning_rate_init=0.01, pca__n_components=50 \n"
     ]
    },
    {
     "name": "stderr",
     "output_type": "stream",
     "text": [
      "/usr/local/lib/python3.6/site-packages/sklearn/neural_network/multilayer_perceptron.py:564: ConvergenceWarning: Stochastic Optimizer: Maximum iterations (200) reached and the optimization hasn't converged yet.\n",
      "  % self.max_iter, ConvergenceWarning)\n"
     ]
    },
    {
     "name": "stdout",
     "output_type": "stream",
     "text": [
      "[CV]  nn__hidden_layer_sizes=(300, 300, 300), nn__learning_rate_init=0.01, pca__n_components=50, score=0.39486660097537296, total=  16.2s\n",
      "[CV] nn__hidden_layer_sizes=(300, 300, 300), nn__learning_rate_init=0.01, pca__n_components=50 \n"
     ]
    },
    {
     "name": "stderr",
     "output_type": "stream",
     "text": [
      "/usr/local/lib/python3.6/site-packages/sklearn/neural_network/multilayer_perceptron.py:564: ConvergenceWarning: Stochastic Optimizer: Maximum iterations (200) reached and the optimization hasn't converged yet.\n",
      "  % self.max_iter, ConvergenceWarning)\n"
     ]
    },
    {
     "name": "stdout",
     "output_type": "stream",
     "text": [
      "[CV]  nn__hidden_layer_sizes=(300, 300, 300), nn__learning_rate_init=0.01, pca__n_components=50, score=0.4903593523731514, total=  16.6s\n",
      "[CV] nn__hidden_layer_sizes=(300, 300, 300), nn__learning_rate_init=0.01, pca__n_components=50 \n"
     ]
    },
    {
     "name": "stderr",
     "output_type": "stream",
     "text": [
      "/usr/local/lib/python3.6/site-packages/sklearn/neural_network/multilayer_perceptron.py:564: ConvergenceWarning: Stochastic Optimizer: Maximum iterations (200) reached and the optimization hasn't converged yet.\n",
      "  % self.max_iter, ConvergenceWarning)\n"
     ]
    },
    {
     "name": "stdout",
     "output_type": "stream",
     "text": [
      "[CV]  nn__hidden_layer_sizes=(300, 300, 300), nn__learning_rate_init=0.01, pca__n_components=50, score=0.2961145657289893, total=  16.0s\n",
      "[CV] nn__hidden_layer_sizes=(350, 350, 350), nn__learning_rate_init=0.01, pca__n_components=10 \n",
      "[CV]  nn__hidden_layer_sizes=(350, 350, 350), nn__learning_rate_init=0.01, pca__n_components=10, score=0.5006507076137956, total=  20.4s\n",
      "[CV] nn__hidden_layer_sizes=(350, 350, 350), nn__learning_rate_init=0.01, pca__n_components=10 \n"
     ]
    },
    {
     "name": "stderr",
     "output_type": "stream",
     "text": [
      "/usr/local/lib/python3.6/site-packages/sklearn/neural_network/multilayer_perceptron.py:564: ConvergenceWarning: Stochastic Optimizer: Maximum iterations (200) reached and the optimization hasn't converged yet.\n",
      "  % self.max_iter, ConvergenceWarning)\n"
     ]
    },
    {
     "name": "stdout",
     "output_type": "stream",
     "text": [
      "[CV]  nn__hidden_layer_sizes=(350, 350, 350), nn__learning_rate_init=0.01, pca__n_components=10, score=0.5554731546612613, total=  20.1s\n",
      "[CV] nn__hidden_layer_sizes=(350, 350, 350), nn__learning_rate_init=0.01, pca__n_components=10 \n",
      "[CV]  nn__hidden_layer_sizes=(350, 350, 350), nn__learning_rate_init=0.01, pca__n_components=10, score=0.4740572137606609, total=  17.7s\n",
      "[CV] nn__hidden_layer_sizes=(350, 350, 350), nn__learning_rate_init=0.01, pca__n_components=20 \n"
     ]
    },
    {
     "name": "stderr",
     "output_type": "stream",
     "text": [
      "/usr/local/lib/python3.6/site-packages/sklearn/neural_network/multilayer_perceptron.py:564: ConvergenceWarning: Stochastic Optimizer: Maximum iterations (200) reached and the optimization hasn't converged yet.\n",
      "  % self.max_iter, ConvergenceWarning)\n"
     ]
    },
    {
     "name": "stdout",
     "output_type": "stream",
     "text": [
      "[CV]  nn__hidden_layer_sizes=(350, 350, 350), nn__learning_rate_init=0.01, pca__n_components=20, score=0.4833882178697494, total=  19.9s\n",
      "[CV] nn__hidden_layer_sizes=(350, 350, 350), nn__learning_rate_init=0.01, pca__n_components=20 \n"
     ]
    },
    {
     "name": "stderr",
     "output_type": "stream",
     "text": [
      "/usr/local/lib/python3.6/site-packages/sklearn/neural_network/multilayer_perceptron.py:564: ConvergenceWarning: Stochastic Optimizer: Maximum iterations (200) reached and the optimization hasn't converged yet.\n",
      "  % self.max_iter, ConvergenceWarning)\n"
     ]
    },
    {
     "name": "stdout",
     "output_type": "stream",
     "text": [
      "[CV]  nn__hidden_layer_sizes=(350, 350, 350), nn__learning_rate_init=0.01, pca__n_components=20, score=0.5494443163142915, total=  20.6s\n",
      "[CV] nn__hidden_layer_sizes=(350, 350, 350), nn__learning_rate_init=0.01, pca__n_components=20 \n"
     ]
    },
    {
     "name": "stderr",
     "output_type": "stream",
     "text": [
      "/usr/local/lib/python3.6/site-packages/sklearn/neural_network/multilayer_perceptron.py:564: ConvergenceWarning: Stochastic Optimizer: Maximum iterations (200) reached and the optimization hasn't converged yet.\n",
      "  % self.max_iter, ConvergenceWarning)\n"
     ]
    },
    {
     "name": "stdout",
     "output_type": "stream",
     "text": [
      "[CV]  nn__hidden_layer_sizes=(350, 350, 350), nn__learning_rate_init=0.01, pca__n_components=20, score=0.4494540934242457, total=  19.5s\n",
      "[CV] nn__hidden_layer_sizes=(350, 350, 350), nn__learning_rate_init=0.01, pca__n_components=30 \n"
     ]
    },
    {
     "name": "stderr",
     "output_type": "stream",
     "text": [
      "/usr/local/lib/python3.6/site-packages/sklearn/neural_network/multilayer_perceptron.py:564: ConvergenceWarning: Stochastic Optimizer: Maximum iterations (200) reached and the optimization hasn't converged yet.\n",
      "  % self.max_iter, ConvergenceWarning)\n"
     ]
    },
    {
     "name": "stdout",
     "output_type": "stream",
     "text": [
      "[CV]  nn__hidden_layer_sizes=(350, 350, 350), nn__learning_rate_init=0.01, pca__n_components=30, score=0.4446350491131378, total=  19.8s\n",
      "[CV] nn__hidden_layer_sizes=(350, 350, 350), nn__learning_rate_init=0.01, pca__n_components=30 \n"
     ]
    },
    {
     "name": "stderr",
     "output_type": "stream",
     "text": [
      "/usr/local/lib/python3.6/site-packages/sklearn/neural_network/multilayer_perceptron.py:564: ConvergenceWarning: Stochastic Optimizer: Maximum iterations (200) reached and the optimization hasn't converged yet.\n",
      "  % self.max_iter, ConvergenceWarning)\n"
     ]
    },
    {
     "name": "stdout",
     "output_type": "stream",
     "text": [
      "[CV]  nn__hidden_layer_sizes=(350, 350, 350), nn__learning_rate_init=0.01, pca__n_components=30, score=0.5663382596325748, total=  19.8s\n",
      "[CV] nn__hidden_layer_sizes=(350, 350, 350), nn__learning_rate_init=0.01, pca__n_components=30 \n"
     ]
    },
    {
     "name": "stderr",
     "output_type": "stream",
     "text": [
      "/usr/local/lib/python3.6/site-packages/sklearn/neural_network/multilayer_perceptron.py:564: ConvergenceWarning: Stochastic Optimizer: Maximum iterations (200) reached and the optimization hasn't converged yet.\n",
      "  % self.max_iter, ConvergenceWarning)\n"
     ]
    },
    {
     "name": "stdout",
     "output_type": "stream",
     "text": [
      "[CV]  nn__hidden_layer_sizes=(350, 350, 350), nn__learning_rate_init=0.01, pca__n_components=30, score=0.4055277759736169, total=  19.6s\n",
      "[CV] nn__hidden_layer_sizes=(350, 350, 350), nn__learning_rate_init=0.01, pca__n_components=40 \n"
     ]
    },
    {
     "name": "stderr",
     "output_type": "stream",
     "text": [
      "/usr/local/lib/python3.6/site-packages/sklearn/neural_network/multilayer_perceptron.py:564: ConvergenceWarning: Stochastic Optimizer: Maximum iterations (200) reached and the optimization hasn't converged yet.\n",
      "  % self.max_iter, ConvergenceWarning)\n"
     ]
    },
    {
     "name": "stdout",
     "output_type": "stream",
     "text": [
      "[CV]  nn__hidden_layer_sizes=(350, 350, 350), nn__learning_rate_init=0.01, pca__n_components=40, score=0.365287483138663, total=  19.8s\n",
      "[CV] nn__hidden_layer_sizes=(350, 350, 350), nn__learning_rate_init=0.01, pca__n_components=40 \n"
     ]
    },
    {
     "name": "stderr",
     "output_type": "stream",
     "text": [
      "/usr/local/lib/python3.6/site-packages/sklearn/neural_network/multilayer_perceptron.py:564: ConvergenceWarning: Stochastic Optimizer: Maximum iterations (200) reached and the optimization hasn't converged yet.\n",
      "  % self.max_iter, ConvergenceWarning)\n"
     ]
    },
    {
     "name": "stdout",
     "output_type": "stream",
     "text": [
      "[CV]  nn__hidden_layer_sizes=(350, 350, 350), nn__learning_rate_init=0.01, pca__n_components=40, score=0.4697484143364813, total=  19.9s\n",
      "[CV] nn__hidden_layer_sizes=(350, 350, 350), nn__learning_rate_init=0.01, pca__n_components=40 \n"
     ]
    },
    {
     "name": "stderr",
     "output_type": "stream",
     "text": [
      "/usr/local/lib/python3.6/site-packages/sklearn/neural_network/multilayer_perceptron.py:564: ConvergenceWarning: Stochastic Optimizer: Maximum iterations (200) reached and the optimization hasn't converged yet.\n",
      "  % self.max_iter, ConvergenceWarning)\n"
     ]
    },
    {
     "name": "stdout",
     "output_type": "stream",
     "text": [
      "[CV]  nn__hidden_layer_sizes=(350, 350, 350), nn__learning_rate_init=0.01, pca__n_components=40, score=0.3746699455226107, total=  19.9s\n",
      "[CV] nn__hidden_layer_sizes=(350, 350, 350), nn__learning_rate_init=0.01, pca__n_components=50 \n"
     ]
    },
    {
     "name": "stderr",
     "output_type": "stream",
     "text": [
      "/usr/local/lib/python3.6/site-packages/sklearn/neural_network/multilayer_perceptron.py:564: ConvergenceWarning: Stochastic Optimizer: Maximum iterations (200) reached and the optimization hasn't converged yet.\n",
      "  % self.max_iter, ConvergenceWarning)\n"
     ]
    },
    {
     "name": "stdout",
     "output_type": "stream",
     "text": [
      "[CV]  nn__hidden_layer_sizes=(350, 350, 350), nn__learning_rate_init=0.01, pca__n_components=50, score=0.39567595874454253, total=  20.9s\n",
      "[CV] nn__hidden_layer_sizes=(350, 350, 350), nn__learning_rate_init=0.01, pca__n_components=50 \n"
     ]
    },
    {
     "name": "stderr",
     "output_type": "stream",
     "text": [
      "/usr/local/lib/python3.6/site-packages/sklearn/neural_network/multilayer_perceptron.py:564: ConvergenceWarning: Stochastic Optimizer: Maximum iterations (200) reached and the optimization hasn't converged yet.\n",
      "  % self.max_iter, ConvergenceWarning)\n"
     ]
    },
    {
     "name": "stdout",
     "output_type": "stream",
     "text": [
      "[CV]  nn__hidden_layer_sizes=(350, 350, 350), nn__learning_rate_init=0.01, pca__n_components=50, score=0.5088517891387567, total=  20.0s\n",
      "[CV] nn__hidden_layer_sizes=(350, 350, 350), nn__learning_rate_init=0.01, pca__n_components=50 \n"
     ]
    },
    {
     "name": "stderr",
     "output_type": "stream",
     "text": [
      "/usr/local/lib/python3.6/site-packages/sklearn/neural_network/multilayer_perceptron.py:564: ConvergenceWarning: Stochastic Optimizer: Maximum iterations (200) reached and the optimization hasn't converged yet.\n",
      "  % self.max_iter, ConvergenceWarning)\n"
     ]
    },
    {
     "name": "stdout",
     "output_type": "stream",
     "text": [
      "[CV]  nn__hidden_layer_sizes=(350, 350, 350), nn__learning_rate_init=0.01, pca__n_components=50, score=0.22869043817257784, total=  20.0s\n",
      "[CV] nn__hidden_layer_sizes=(50, 50, 50, 50), nn__learning_rate_init=0.01, pca__n_components=10 \n",
      "[CV]  nn__hidden_layer_sizes=(50, 50, 50, 50), nn__learning_rate_init=0.01, pca__n_components=10, score=0.48593409900583573, total=   2.0s\n",
      "[CV] nn__hidden_layer_sizes=(50, 50, 50, 50), nn__learning_rate_init=0.01, pca__n_components=10 \n",
      "[CV]  nn__hidden_layer_sizes=(50, 50, 50, 50), nn__learning_rate_init=0.01, pca__n_components=10, score=0.5468302467797339, total=   2.8s\n",
      "[CV] nn__hidden_layer_sizes=(50, 50, 50, 50), nn__learning_rate_init=0.01, pca__n_components=10 \n"
     ]
    },
    {
     "name": "stderr",
     "output_type": "stream",
     "text": [
      "/usr/local/lib/python3.6/site-packages/sklearn/neural_network/multilayer_perceptron.py:564: ConvergenceWarning: Stochastic Optimizer: Maximum iterations (200) reached and the optimization hasn't converged yet.\n",
      "  % self.max_iter, ConvergenceWarning)\n"
     ]
    },
    {
     "name": "stdout",
     "output_type": "stream",
     "text": [
      "[CV]  nn__hidden_layer_sizes=(50, 50, 50, 50), nn__learning_rate_init=0.01, pca__n_components=10, score=0.4627992677638688, total=   3.0s\n",
      "[CV] nn__hidden_layer_sizes=(50, 50, 50, 50), nn__learning_rate_init=0.01, pca__n_components=20 \n"
     ]
    },
    {
     "name": "stderr",
     "output_type": "stream",
     "text": [
      "/usr/local/lib/python3.6/site-packages/sklearn/neural_network/multilayer_perceptron.py:564: ConvergenceWarning: Stochastic Optimizer: Maximum iterations (200) reached and the optimization hasn't converged yet.\n",
      "  % self.max_iter, ConvergenceWarning)\n"
     ]
    },
    {
     "name": "stdout",
     "output_type": "stream",
     "text": [
      "[CV]  nn__hidden_layer_sizes=(50, 50, 50, 50), nn__learning_rate_init=0.01, pca__n_components=20, score=0.49052328711589754, total=   3.0s\n",
      "[CV] nn__hidden_layer_sizes=(50, 50, 50, 50), nn__learning_rate_init=0.01, pca__n_components=20 \n"
     ]
    },
    {
     "name": "stderr",
     "output_type": "stream",
     "text": [
      "/usr/local/lib/python3.6/site-packages/sklearn/neural_network/multilayer_perceptron.py:564: ConvergenceWarning: Stochastic Optimizer: Maximum iterations (200) reached and the optimization hasn't converged yet.\n",
      "  % self.max_iter, ConvergenceWarning)\n"
     ]
    },
    {
     "name": "stdout",
     "output_type": "stream",
     "text": [
      "[CV]  nn__hidden_layer_sizes=(50, 50, 50, 50), nn__learning_rate_init=0.01, pca__n_components=20, score=0.5458483067950919, total=   3.0s\n",
      "[CV] nn__hidden_layer_sizes=(50, 50, 50, 50), nn__learning_rate_init=0.01, pca__n_components=20 \n"
     ]
    },
    {
     "name": "stderr",
     "output_type": "stream",
     "text": [
      "/usr/local/lib/python3.6/site-packages/sklearn/neural_network/multilayer_perceptron.py:564: ConvergenceWarning: Stochastic Optimizer: Maximum iterations (200) reached and the optimization hasn't converged yet.\n",
      "  % self.max_iter, ConvergenceWarning)\n"
     ]
    },
    {
     "name": "stdout",
     "output_type": "stream",
     "text": [
      "[CV]  nn__hidden_layer_sizes=(50, 50, 50, 50), nn__learning_rate_init=0.01, pca__n_components=20, score=0.49966531879182663, total=   3.0s\n",
      "[CV] nn__hidden_layer_sizes=(50, 50, 50, 50), nn__learning_rate_init=0.01, pca__n_components=30 \n"
     ]
    },
    {
     "name": "stderr",
     "output_type": "stream",
     "text": [
      "/usr/local/lib/python3.6/site-packages/sklearn/neural_network/multilayer_perceptron.py:564: ConvergenceWarning: Stochastic Optimizer: Maximum iterations (200) reached and the optimization hasn't converged yet.\n",
      "  % self.max_iter, ConvergenceWarning)\n"
     ]
    },
    {
     "name": "stdout",
     "output_type": "stream",
     "text": [
      "[CV]  nn__hidden_layer_sizes=(50, 50, 50, 50), nn__learning_rate_init=0.01, pca__n_components=30, score=0.49623366962163684, total=   3.0s\n",
      "[CV] nn__hidden_layer_sizes=(50, 50, 50, 50), nn__learning_rate_init=0.01, pca__n_components=30 \n"
     ]
    },
    {
     "name": "stderr",
     "output_type": "stream",
     "text": [
      "/usr/local/lib/python3.6/site-packages/sklearn/neural_network/multilayer_perceptron.py:564: ConvergenceWarning: Stochastic Optimizer: Maximum iterations (200) reached and the optimization hasn't converged yet.\n",
      "  % self.max_iter, ConvergenceWarning)\n"
     ]
    },
    {
     "name": "stdout",
     "output_type": "stream",
     "text": [
      "[CV]  nn__hidden_layer_sizes=(50, 50, 50, 50), nn__learning_rate_init=0.01, pca__n_components=30, score=0.567467815196726, total=   3.1s\n",
      "[CV] nn__hidden_layer_sizes=(50, 50, 50, 50), nn__learning_rate_init=0.01, pca__n_components=30 \n"
     ]
    },
    {
     "name": "stderr",
     "output_type": "stream",
     "text": [
      "/usr/local/lib/python3.6/site-packages/sklearn/neural_network/multilayer_perceptron.py:564: ConvergenceWarning: Stochastic Optimizer: Maximum iterations (200) reached and the optimization hasn't converged yet.\n",
      "  % self.max_iter, ConvergenceWarning)\n"
     ]
    },
    {
     "name": "stdout",
     "output_type": "stream",
     "text": [
      "[CV]  nn__hidden_layer_sizes=(50, 50, 50, 50), nn__learning_rate_init=0.01, pca__n_components=30, score=0.4525262781805084, total=   3.1s\n",
      "[CV] nn__hidden_layer_sizes=(50, 50, 50, 50), nn__learning_rate_init=0.01, pca__n_components=40 \n"
     ]
    },
    {
     "name": "stderr",
     "output_type": "stream",
     "text": [
      "/usr/local/lib/python3.6/site-packages/sklearn/neural_network/multilayer_perceptron.py:564: ConvergenceWarning: Stochastic Optimizer: Maximum iterations (200) reached and the optimization hasn't converged yet.\n",
      "  % self.max_iter, ConvergenceWarning)\n"
     ]
    },
    {
     "name": "stdout",
     "output_type": "stream",
     "text": [
      "[CV]  nn__hidden_layer_sizes=(50, 50, 50, 50), nn__learning_rate_init=0.01, pca__n_components=40, score=0.447735402513719, total=   3.2s\n",
      "[CV] nn__hidden_layer_sizes=(50, 50, 50, 50), nn__learning_rate_init=0.01, pca__n_components=40 \n"
     ]
    },
    {
     "name": "stderr",
     "output_type": "stream",
     "text": [
      "/usr/local/lib/python3.6/site-packages/sklearn/neural_network/multilayer_perceptron.py:564: ConvergenceWarning: Stochastic Optimizer: Maximum iterations (200) reached and the optimization hasn't converged yet.\n",
      "  % self.max_iter, ConvergenceWarning)\n"
     ]
    },
    {
     "name": "stdout",
     "output_type": "stream",
     "text": [
      "[CV]  nn__hidden_layer_sizes=(50, 50, 50, 50), nn__learning_rate_init=0.01, pca__n_components=40, score=0.5715414575298543, total=   3.1s\n",
      "[CV] nn__hidden_layer_sizes=(50, 50, 50, 50), nn__learning_rate_init=0.01, pca__n_components=40 \n"
     ]
    },
    {
     "name": "stderr",
     "output_type": "stream",
     "text": [
      "/usr/local/lib/python3.6/site-packages/sklearn/neural_network/multilayer_perceptron.py:564: ConvergenceWarning: Stochastic Optimizer: Maximum iterations (200) reached and the optimization hasn't converged yet.\n",
      "  % self.max_iter, ConvergenceWarning)\n"
     ]
    },
    {
     "name": "stdout",
     "output_type": "stream",
     "text": [
      "[CV]  nn__hidden_layer_sizes=(50, 50, 50, 50), nn__learning_rate_init=0.01, pca__n_components=40, score=0.44861817638043044, total=   3.1s\n",
      "[CV] nn__hidden_layer_sizes=(50, 50, 50, 50), nn__learning_rate_init=0.01, pca__n_components=50 \n"
     ]
    },
    {
     "name": "stderr",
     "output_type": "stream",
     "text": [
      "/usr/local/lib/python3.6/site-packages/sklearn/neural_network/multilayer_perceptron.py:564: ConvergenceWarning: Stochastic Optimizer: Maximum iterations (200) reached and the optimization hasn't converged yet.\n",
      "  % self.max_iter, ConvergenceWarning)\n"
     ]
    },
    {
     "name": "stdout",
     "output_type": "stream",
     "text": [
      "[CV]  nn__hidden_layer_sizes=(50, 50, 50, 50), nn__learning_rate_init=0.01, pca__n_components=50, score=0.46351182232509225, total=   3.1s\n",
      "[CV] nn__hidden_layer_sizes=(50, 50, 50, 50), nn__learning_rate_init=0.01, pca__n_components=50 \n"
     ]
    },
    {
     "name": "stderr",
     "output_type": "stream",
     "text": [
      "/usr/local/lib/python3.6/site-packages/sklearn/neural_network/multilayer_perceptron.py:564: ConvergenceWarning: Stochastic Optimizer: Maximum iterations (200) reached and the optimization hasn't converged yet.\n",
      "  % self.max_iter, ConvergenceWarning)\n"
     ]
    },
    {
     "name": "stdout",
     "output_type": "stream",
     "text": [
      "[CV]  nn__hidden_layer_sizes=(50, 50, 50, 50), nn__learning_rate_init=0.01, pca__n_components=50, score=0.5337851658589112, total=   3.2s\n",
      "[CV] nn__hidden_layer_sizes=(50, 50, 50, 50), nn__learning_rate_init=0.01, pca__n_components=50 \n"
     ]
    },
    {
     "name": "stderr",
     "output_type": "stream",
     "text": [
      "/usr/local/lib/python3.6/site-packages/sklearn/neural_network/multilayer_perceptron.py:564: ConvergenceWarning: Stochastic Optimizer: Maximum iterations (200) reached and the optimization hasn't converged yet.\n",
      "  % self.max_iter, ConvergenceWarning)\n"
     ]
    },
    {
     "name": "stdout",
     "output_type": "stream",
     "text": [
      "[CV]  nn__hidden_layer_sizes=(50, 50, 50, 50), nn__learning_rate_init=0.01, pca__n_components=50, score=0.3465079989006108, total=   3.2s\n",
      "[CV] nn__hidden_layer_sizes=(100, 100, 100, 100), nn__learning_rate_init=0.01, pca__n_components=10 \n",
      "[CV]  nn__hidden_layer_sizes=(100, 100, 100, 100), nn__learning_rate_init=0.01, pca__n_components=10, score=0.49799501422032255, total=   3.2s\n",
      "[CV] nn__hidden_layer_sizes=(100, 100, 100, 100), nn__learning_rate_init=0.01, pca__n_components=10 \n",
      "[CV]  nn__hidden_layer_sizes=(100, 100, 100, 100), nn__learning_rate_init=0.01, pca__n_components=10, score=0.5484723180237421, total=   3.4s\n",
      "[CV] nn__hidden_layer_sizes=(100, 100, 100, 100), nn__learning_rate_init=0.01, pca__n_components=10 \n",
      "[CV]  nn__hidden_layer_sizes=(100, 100, 100, 100), nn__learning_rate_init=0.01, pca__n_components=10, score=0.4681680022750241, total=   3.6s\n",
      "[CV] nn__hidden_layer_sizes=(100, 100, 100, 100), nn__learning_rate_init=0.01, pca__n_components=20 \n"
     ]
    },
    {
     "name": "stderr",
     "output_type": "stream",
     "text": [
      "/usr/local/lib/python3.6/site-packages/sklearn/neural_network/multilayer_perceptron.py:564: ConvergenceWarning: Stochastic Optimizer: Maximum iterations (200) reached and the optimization hasn't converged yet.\n",
      "  % self.max_iter, ConvergenceWarning)\n"
     ]
    },
    {
     "name": "stdout",
     "output_type": "stream",
     "text": [
      "[CV]  nn__hidden_layer_sizes=(100, 100, 100, 100), nn__learning_rate_init=0.01, pca__n_components=20, score=0.44750110142704014, total=   5.8s\n",
      "[CV] nn__hidden_layer_sizes=(100, 100, 100, 100), nn__learning_rate_init=0.01, pca__n_components=20 \n"
     ]
    },
    {
     "name": "stderr",
     "output_type": "stream",
     "text": [
      "/usr/local/lib/python3.6/site-packages/sklearn/neural_network/multilayer_perceptron.py:564: ConvergenceWarning: Stochastic Optimizer: Maximum iterations (200) reached and the optimization hasn't converged yet.\n",
      "  % self.max_iter, ConvergenceWarning)\n"
     ]
    },
    {
     "name": "stdout",
     "output_type": "stream",
     "text": [
      "[CV]  nn__hidden_layer_sizes=(100, 100, 100, 100), nn__learning_rate_init=0.01, pca__n_components=20, score=0.4976336141470661, total=   5.6s\n",
      "[CV] nn__hidden_layer_sizes=(100, 100, 100, 100), nn__learning_rate_init=0.01, pca__n_components=20 \n",
      "[CV]  nn__hidden_layer_sizes=(100, 100, 100, 100), nn__learning_rate_init=0.01, pca__n_components=20, score=0.493746625661418, total=   4.2s\n",
      "[CV] nn__hidden_layer_sizes=(100, 100, 100, 100), nn__learning_rate_init=0.01, pca__n_components=30 \n"
     ]
    },
    {
     "name": "stderr",
     "output_type": "stream",
     "text": [
      "/usr/local/lib/python3.6/site-packages/sklearn/neural_network/multilayer_perceptron.py:564: ConvergenceWarning: Stochastic Optimizer: Maximum iterations (200) reached and the optimization hasn't converged yet.\n",
      "  % self.max_iter, ConvergenceWarning)\n"
     ]
    },
    {
     "name": "stdout",
     "output_type": "stream",
     "text": [
      "[CV]  nn__hidden_layer_sizes=(100, 100, 100, 100), nn__learning_rate_init=0.01, pca__n_components=30, score=0.3637319513537849, total=   5.8s\n",
      "[CV] nn__hidden_layer_sizes=(100, 100, 100, 100), nn__learning_rate_init=0.01, pca__n_components=30 \n"
     ]
    },
    {
     "name": "stderr",
     "output_type": "stream",
     "text": [
      "/usr/local/lib/python3.6/site-packages/sklearn/neural_network/multilayer_perceptron.py:564: ConvergenceWarning: Stochastic Optimizer: Maximum iterations (200) reached and the optimization hasn't converged yet.\n",
      "  % self.max_iter, ConvergenceWarning)\n"
     ]
    },
    {
     "name": "stdout",
     "output_type": "stream",
     "text": [
      "[CV]  nn__hidden_layer_sizes=(100, 100, 100, 100), nn__learning_rate_init=0.01, pca__n_components=30, score=0.5215395243517948, total=   5.7s\n",
      "[CV] nn__hidden_layer_sizes=(100, 100, 100, 100), nn__learning_rate_init=0.01, pca__n_components=30 \n"
     ]
    },
    {
     "name": "stderr",
     "output_type": "stream",
     "text": [
      "/usr/local/lib/python3.6/site-packages/sklearn/neural_network/multilayer_perceptron.py:564: ConvergenceWarning: Stochastic Optimizer: Maximum iterations (200) reached and the optimization hasn't converged yet.\n",
      "  % self.max_iter, ConvergenceWarning)\n"
     ]
    },
    {
     "name": "stdout",
     "output_type": "stream",
     "text": [
      "[CV]  nn__hidden_layer_sizes=(100, 100, 100, 100), nn__learning_rate_init=0.01, pca__n_components=30, score=0.2133320047243139, total=   6.1s\n",
      "[CV] nn__hidden_layer_sizes=(100, 100, 100, 100), nn__learning_rate_init=0.01, pca__n_components=40 \n"
     ]
    },
    {
     "name": "stderr",
     "output_type": "stream",
     "text": [
      "/usr/local/lib/python3.6/site-packages/sklearn/neural_network/multilayer_perceptron.py:564: ConvergenceWarning: Stochastic Optimizer: Maximum iterations (200) reached and the optimization hasn't converged yet.\n",
      "  % self.max_iter, ConvergenceWarning)\n"
     ]
    },
    {
     "name": "stdout",
     "output_type": "stream",
     "text": [
      "[CV]  nn__hidden_layer_sizes=(100, 100, 100, 100), nn__learning_rate_init=0.01, pca__n_components=40, score=0.2513993419750621, total=   6.5s\n",
      "[CV] nn__hidden_layer_sizes=(100, 100, 100, 100), nn__learning_rate_init=0.01, pca__n_components=40 \n",
      "[CV]  nn__hidden_layer_sizes=(100, 100, 100, 100), nn__learning_rate_init=0.01, pca__n_components=40, score=0.36492028973338364, total=   5.4s\n",
      "[CV] nn__hidden_layer_sizes=(100, 100, 100, 100), nn__learning_rate_init=0.01, pca__n_components=40 \n"
     ]
    },
    {
     "name": "stderr",
     "output_type": "stream",
     "text": [
      "/usr/local/lib/python3.6/site-packages/sklearn/neural_network/multilayer_perceptron.py:564: ConvergenceWarning: Stochastic Optimizer: Maximum iterations (200) reached and the optimization hasn't converged yet.\n",
      "  % self.max_iter, ConvergenceWarning)\n"
     ]
    },
    {
     "name": "stdout",
     "output_type": "stream",
     "text": [
      "[CV]  nn__hidden_layer_sizes=(100, 100, 100, 100), nn__learning_rate_init=0.01, pca__n_components=40, score=0.049933501243328626, total=   6.1s\n",
      "[CV] nn__hidden_layer_sizes=(100, 100, 100, 100), nn__learning_rate_init=0.01, pca__n_components=50 \n"
     ]
    },
    {
     "name": "stderr",
     "output_type": "stream",
     "text": [
      "/usr/local/lib/python3.6/site-packages/sklearn/neural_network/multilayer_perceptron.py:564: ConvergenceWarning: Stochastic Optimizer: Maximum iterations (200) reached and the optimization hasn't converged yet.\n",
      "  % self.max_iter, ConvergenceWarning)\n"
     ]
    },
    {
     "name": "stdout",
     "output_type": "stream",
     "text": [
      "[CV]  nn__hidden_layer_sizes=(100, 100, 100, 100), nn__learning_rate_init=0.01, pca__n_components=50, score=0.22467068953559355, total=   6.5s\n",
      "[CV] nn__hidden_layer_sizes=(100, 100, 100, 100), nn__learning_rate_init=0.01, pca__n_components=50 \n"
     ]
    },
    {
     "name": "stderr",
     "output_type": "stream",
     "text": [
      "/usr/local/lib/python3.6/site-packages/sklearn/neural_network/multilayer_perceptron.py:564: ConvergenceWarning: Stochastic Optimizer: Maximum iterations (200) reached and the optimization hasn't converged yet.\n",
      "  % self.max_iter, ConvergenceWarning)\n"
     ]
    },
    {
     "name": "stdout",
     "output_type": "stream",
     "text": [
      "[CV]  nn__hidden_layer_sizes=(100, 100, 100, 100), nn__learning_rate_init=0.01, pca__n_components=50, score=0.37362851247304896, total=   6.2s\n",
      "[CV] nn__hidden_layer_sizes=(100, 100, 100, 100), nn__learning_rate_init=0.01, pca__n_components=50 \n"
     ]
    },
    {
     "name": "stderr",
     "output_type": "stream",
     "text": [
      "/usr/local/lib/python3.6/site-packages/sklearn/neural_network/multilayer_perceptron.py:564: ConvergenceWarning: Stochastic Optimizer: Maximum iterations (200) reached and the optimization hasn't converged yet.\n",
      "  % self.max_iter, ConvergenceWarning)\n"
     ]
    },
    {
     "name": "stdout",
     "output_type": "stream",
     "text": [
      "[CV]  nn__hidden_layer_sizes=(100, 100, 100, 100), nn__learning_rate_init=0.01, pca__n_components=50, score=0.1654726126081264, total=   6.0s\n",
      "[CV] nn__hidden_layer_sizes=(150, 150, 150, 150), nn__learning_rate_init=0.01, pca__n_components=10 \n",
      "[CV]  nn__hidden_layer_sizes=(150, 150, 150, 150), nn__learning_rate_init=0.01, pca__n_components=10, score=0.46754385075486526, total=   1.6s\n",
      "[CV] nn__hidden_layer_sizes=(150, 150, 150, 150), nn__learning_rate_init=0.01, pca__n_components=10 \n",
      "[CV]  nn__hidden_layer_sizes=(150, 150, 150, 150), nn__learning_rate_init=0.01, pca__n_components=10, score=0.5277666232036984, total=   2.4s\n",
      "[CV] nn__hidden_layer_sizes=(150, 150, 150, 150), nn__learning_rate_init=0.01, pca__n_components=10 \n",
      "[CV]  nn__hidden_layer_sizes=(150, 150, 150, 150), nn__learning_rate_init=0.01, pca__n_components=10, score=0.4735798706202714, total=   5.3s\n",
      "[CV] nn__hidden_layer_sizes=(150, 150, 150, 150), nn__learning_rate_init=0.01, pca__n_components=20 \n",
      "[CV]  nn__hidden_layer_sizes=(150, 150, 150, 150), nn__learning_rate_init=0.01, pca__n_components=20, score=0.45559337680909306, total=   6.2s\n",
      "[CV] nn__hidden_layer_sizes=(150, 150, 150, 150), nn__learning_rate_init=0.01, pca__n_components=20 \n",
      "[CV]  nn__hidden_layer_sizes=(150, 150, 150, 150), nn__learning_rate_init=0.01, pca__n_components=20, score=0.5455302317467017, total=   3.2s\n",
      "[CV] nn__hidden_layer_sizes=(150, 150, 150, 150), nn__learning_rate_init=0.01, pca__n_components=20 \n",
      "[CV]  nn__hidden_layer_sizes=(150, 150, 150, 150), nn__learning_rate_init=0.01, pca__n_components=20, score=0.2704473653187571, total=   8.5s\n",
      "[CV] nn__hidden_layer_sizes=(150, 150, 150, 150), nn__learning_rate_init=0.01, pca__n_components=30 \n"
     ]
    },
    {
     "name": "stderr",
     "output_type": "stream",
     "text": [
      "/usr/local/lib/python3.6/site-packages/sklearn/neural_network/multilayer_perceptron.py:564: ConvergenceWarning: Stochastic Optimizer: Maximum iterations (200) reached and the optimization hasn't converged yet.\n",
      "  % self.max_iter, ConvergenceWarning)\n"
     ]
    },
    {
     "name": "stdout",
     "output_type": "stream",
     "text": [
      "[CV]  nn__hidden_layer_sizes=(150, 150, 150, 150), nn__learning_rate_init=0.01, pca__n_components=30, score=0.3288470995905588, total=   9.2s\n",
      "[CV] nn__hidden_layer_sizes=(150, 150, 150, 150), nn__learning_rate_init=0.01, pca__n_components=30 \n",
      "[CV]  nn__hidden_layer_sizes=(150, 150, 150, 150), nn__learning_rate_init=0.01, pca__n_components=30, score=0.3288268770436422, total=   7.6s\n",
      "[CV] nn__hidden_layer_sizes=(150, 150, 150, 150), nn__learning_rate_init=0.01, pca__n_components=30 \n",
      "[CV]  nn__hidden_layer_sizes=(150, 150, 150, 150), nn__learning_rate_init=0.01, pca__n_components=30, score=0.5096834216380144, total=   3.4s\n",
      "[CV] nn__hidden_layer_sizes=(150, 150, 150, 150), nn__learning_rate_init=0.01, pca__n_components=40 \n",
      "[CV]  nn__hidden_layer_sizes=(150, 150, 150, 150), nn__learning_rate_init=0.01, pca__n_components=40, score=0.1953715146999938, total=   7.9s\n",
      "[CV] nn__hidden_layer_sizes=(150, 150, 150, 150), nn__learning_rate_init=0.01, pca__n_components=40 \n",
      "[CV]  nn__hidden_layer_sizes=(150, 150, 150, 150), nn__learning_rate_init=0.01, pca__n_components=40, score=0.2897951369293166, total=   6.7s\n",
      "[CV] nn__hidden_layer_sizes=(150, 150, 150, 150), nn__learning_rate_init=0.01, pca__n_components=40 \n",
      "[CV]  nn__hidden_layer_sizes=(150, 150, 150, 150), nn__learning_rate_init=0.01, pca__n_components=40, score=0.19322332902616968, total=   6.2s\n",
      "[CV] nn__hidden_layer_sizes=(150, 150, 150, 150), nn__learning_rate_init=0.01, pca__n_components=50 \n",
      "[CV]  nn__hidden_layer_sizes=(150, 150, 150, 150), nn__learning_rate_init=0.01, pca__n_components=50, score=0.23543875064660413, total=   6.3s\n",
      "[CV] nn__hidden_layer_sizes=(150, 150, 150, 150), nn__learning_rate_init=0.01, pca__n_components=50 \n",
      "[CV]  nn__hidden_layer_sizes=(150, 150, 150, 150), nn__learning_rate_init=0.01, pca__n_components=50, score=0.45692403748144095, total=   6.6s\n",
      "[CV] nn__hidden_layer_sizes=(150, 150, 150, 150), nn__learning_rate_init=0.01, pca__n_components=50 \n",
      "[CV]  nn__hidden_layer_sizes=(150, 150, 150, 150), nn__learning_rate_init=0.01, pca__n_components=50, score=0.20748588120984246, total=   6.1s\n",
      "[CV] nn__hidden_layer_sizes=(200, 200, 200, 200), nn__learning_rate_init=0.01, pca__n_components=10 \n",
      "[CV]  nn__hidden_layer_sizes=(200, 200, 200, 200), nn__learning_rate_init=0.01, pca__n_components=10, score=0.5013751647236357, total=   5.4s\n",
      "[CV] nn__hidden_layer_sizes=(200, 200, 200, 200), nn__learning_rate_init=0.01, pca__n_components=10 \n",
      "[CV]  nn__hidden_layer_sizes=(200, 200, 200, 200), nn__learning_rate_init=0.01, pca__n_components=10, score=0.5503988496461822, total=   4.5s\n",
      "[CV] nn__hidden_layer_sizes=(200, 200, 200, 200), nn__learning_rate_init=0.01, pca__n_components=10 \n",
      "[CV]  nn__hidden_layer_sizes=(200, 200, 200, 200), nn__learning_rate_init=0.01, pca__n_components=10, score=0.4750943850834861, total=   5.2s\n",
      "[CV] nn__hidden_layer_sizes=(200, 200, 200, 200), nn__learning_rate_init=0.01, pca__n_components=20 \n",
      "[CV]  nn__hidden_layer_sizes=(200, 200, 200, 200), nn__learning_rate_init=0.01, pca__n_components=20, score=0.5079767145457222, total=   3.5s\n",
      "[CV] nn__hidden_layer_sizes=(200, 200, 200, 200), nn__learning_rate_init=0.01, pca__n_components=20 \n",
      "[CV]  nn__hidden_layer_sizes=(200, 200, 200, 200), nn__learning_rate_init=0.01, pca__n_components=20, score=0.5234343528810604, total=   2.2s\n",
      "[CV] nn__hidden_layer_sizes=(200, 200, 200, 200), nn__learning_rate_init=0.01, pca__n_components=20 \n",
      "[CV]  nn__hidden_layer_sizes=(200, 200, 200, 200), nn__learning_rate_init=0.01, pca__n_components=20, score=0.1815021350446242, total=  10.4s\n",
      "[CV] nn__hidden_layer_sizes=(200, 200, 200, 200), nn__learning_rate_init=0.01, pca__n_components=30 \n",
      "[CV]  nn__hidden_layer_sizes=(200, 200, 200, 200), nn__learning_rate_init=0.01, pca__n_components=30, score=0.338850923037726, total=   9.1s\n",
      "[CV] nn__hidden_layer_sizes=(200, 200, 200, 200), nn__learning_rate_init=0.01, pca__n_components=30 \n",
      "[CV]  nn__hidden_layer_sizes=(200, 200, 200, 200), nn__learning_rate_init=0.01, pca__n_components=30, score=0.35205952555768305, total=   9.1s\n",
      "[CV] nn__hidden_layer_sizes=(200, 200, 200, 200), nn__learning_rate_init=0.01, pca__n_components=30 \n",
      "[CV]  nn__hidden_layer_sizes=(200, 200, 200, 200), nn__learning_rate_init=0.01, pca__n_components=30, score=0.20613800696789641, total=   7.8s\n",
      "[CV] nn__hidden_layer_sizes=(200, 200, 200, 200), nn__learning_rate_init=0.01, pca__n_components=40 \n",
      "[CV]  nn__hidden_layer_sizes=(200, 200, 200, 200), nn__learning_rate_init=0.01, pca__n_components=40, score=0.24433353558533266, total=   7.8s\n",
      "[CV] nn__hidden_layer_sizes=(200, 200, 200, 200), nn__learning_rate_init=0.01, pca__n_components=40 \n",
      "[CV]  nn__hidden_layer_sizes=(200, 200, 200, 200), nn__learning_rate_init=0.01, pca__n_components=40, score=0.36206748730609095, total=   7.6s\n",
      "[CV] nn__hidden_layer_sizes=(200, 200, 200, 200), nn__learning_rate_init=0.01, pca__n_components=40 \n",
      "[CV]  nn__hidden_layer_sizes=(200, 200, 200, 200), nn__learning_rate_init=0.01, pca__n_components=40, score=0.11944437562890564, total=   9.1s\n",
      "[CV] nn__hidden_layer_sizes=(200, 200, 200, 200), nn__learning_rate_init=0.01, pca__n_components=50 \n",
      "[CV]  nn__hidden_layer_sizes=(200, 200, 200, 200), nn__learning_rate_init=0.01, pca__n_components=50, score=0.27761333117383036, total=   7.8s\n",
      "[CV] nn__hidden_layer_sizes=(200, 200, 200, 200), nn__learning_rate_init=0.01, pca__n_components=50 \n",
      "[CV]  nn__hidden_layer_sizes=(200, 200, 200, 200), nn__learning_rate_init=0.01, pca__n_components=50, score=0.4534245934301323, total=   7.1s\n",
      "[CV] nn__hidden_layer_sizes=(200, 200, 200, 200), nn__learning_rate_init=0.01, pca__n_components=50 \n",
      "[CV]  nn__hidden_layer_sizes=(200, 200, 200, 200), nn__learning_rate_init=0.01, pca__n_components=50, score=0.18615089316420996, total=   7.7s\n",
      "[CV] nn__hidden_layer_sizes=(250, 250, 250, 250), nn__learning_rate_init=0.01, pca__n_components=10 \n",
      "[CV]  nn__hidden_layer_sizes=(250, 250, 250, 250), nn__learning_rate_init=0.01, pca__n_components=10, score=0.48721238495087327, total=   3.4s\n",
      "[CV] nn__hidden_layer_sizes=(250, 250, 250, 250), nn__learning_rate_init=0.01, pca__n_components=10 \n",
      "[CV]  nn__hidden_layer_sizes=(250, 250, 250, 250), nn__learning_rate_init=0.01, pca__n_components=10, score=0.559241243670572, total=   7.8s\n",
      "[CV] nn__hidden_layer_sizes=(250, 250, 250, 250), nn__learning_rate_init=0.01, pca__n_components=10 \n",
      "[CV]  nn__hidden_layer_sizes=(250, 250, 250, 250), nn__learning_rate_init=0.01, pca__n_components=10, score=0.43566173679494735, total=   9.0s\n",
      "[CV] nn__hidden_layer_sizes=(250, 250, 250, 250), nn__learning_rate_init=0.01, pca__n_components=20 \n",
      "[CV]  nn__hidden_layer_sizes=(250, 250, 250, 250), nn__learning_rate_init=0.01, pca__n_components=20, score=0.36501038106711936, total=  12.0s\n",
      "[CV] nn__hidden_layer_sizes=(250, 250, 250, 250), nn__learning_rate_init=0.01, pca__n_components=20 \n",
      "[CV]  nn__hidden_layer_sizes=(250, 250, 250, 250), nn__learning_rate_init=0.01, pca__n_components=20, score=0.5474878849926643, total=   4.5s\n",
      "[CV] nn__hidden_layer_sizes=(250, 250, 250, 250), nn__learning_rate_init=0.01, pca__n_components=20 \n",
      "[CV]  nn__hidden_layer_sizes=(250, 250, 250, 250), nn__learning_rate_init=0.01, pca__n_components=20, score=0.2636495770136953, total=  12.6s\n",
      "[CV] nn__hidden_layer_sizes=(250, 250, 250, 250), nn__learning_rate_init=0.01, pca__n_components=30 \n",
      "[CV]  nn__hidden_layer_sizes=(250, 250, 250, 250), nn__learning_rate_init=0.01, pca__n_components=30, score=0.3143278516651218, total=  12.0s\n",
      "[CV] nn__hidden_layer_sizes=(250, 250, 250, 250), nn__learning_rate_init=0.01, pca__n_components=30 \n",
      "[CV]  nn__hidden_layer_sizes=(250, 250, 250, 250), nn__learning_rate_init=0.01, pca__n_components=30, score=0.4433942933675985, total=   9.1s\n",
      "[CV] nn__hidden_layer_sizes=(250, 250, 250, 250), nn__learning_rate_init=0.01, pca__n_components=30 \n",
      "[CV]  nn__hidden_layer_sizes=(250, 250, 250, 250), nn__learning_rate_init=0.01, pca__n_components=30, score=0.060193437348002865, total=  10.9s\n",
      "[CV] nn__hidden_layer_sizes=(250, 250, 250, 250), nn__learning_rate_init=0.01, pca__n_components=40 \n",
      "[CV]  nn__hidden_layer_sizes=(250, 250, 250, 250), nn__learning_rate_init=0.01, pca__n_components=40, score=0.2413352918109496, total=   9.9s\n",
      "[CV] nn__hidden_layer_sizes=(250, 250, 250, 250), nn__learning_rate_init=0.01, pca__n_components=40 \n"
     ]
    },
    {
     "name": "stdout",
     "output_type": "stream",
     "text": [
      "[CV]  nn__hidden_layer_sizes=(250, 250, 250, 250), nn__learning_rate_init=0.01, pca__n_components=40, score=0.39036521266015356, total=   9.6s\n",
      "[CV] nn__hidden_layer_sizes=(250, 250, 250, 250), nn__learning_rate_init=0.01, pca__n_components=40 \n",
      "[CV]  nn__hidden_layer_sizes=(250, 250, 250, 250), nn__learning_rate_init=0.01, pca__n_components=40, score=0.26315020320975147, total=   9.3s\n",
      "[CV] nn__hidden_layer_sizes=(250, 250, 250, 250), nn__learning_rate_init=0.01, pca__n_components=50 \n",
      "[CV]  nn__hidden_layer_sizes=(250, 250, 250, 250), nn__learning_rate_init=0.01, pca__n_components=50, score=0.3296876897708094, total=   9.1s\n",
      "[CV] nn__hidden_layer_sizes=(250, 250, 250, 250), nn__learning_rate_init=0.01, pca__n_components=50 \n",
      "[CV]  nn__hidden_layer_sizes=(250, 250, 250, 250), nn__learning_rate_init=0.01, pca__n_components=50, score=0.502920966378642, total=   8.7s\n",
      "[CV] nn__hidden_layer_sizes=(250, 250, 250, 250), nn__learning_rate_init=0.01, pca__n_components=50 \n",
      "[CV]  nn__hidden_layer_sizes=(250, 250, 250, 250), nn__learning_rate_init=0.01, pca__n_components=50, score=0.18230686918214412, total=   9.3s\n",
      "[CV] nn__hidden_layer_sizes=(300, 300, 300, 300), nn__learning_rate_init=0.01, pca__n_components=10 \n",
      "[CV]  nn__hidden_layer_sizes=(300, 300, 300, 300), nn__learning_rate_init=0.01, pca__n_components=10, score=0.5019320762413995, total=   8.1s\n",
      "[CV] nn__hidden_layer_sizes=(300, 300, 300, 300), nn__learning_rate_init=0.01, pca__n_components=10 \n",
      "[CV]  nn__hidden_layer_sizes=(300, 300, 300, 300), nn__learning_rate_init=0.01, pca__n_components=10, score=0.5658762800584376, total=  10.3s\n",
      "[CV] nn__hidden_layer_sizes=(300, 300, 300, 300), nn__learning_rate_init=0.01, pca__n_components=10 \n",
      "[CV]  nn__hidden_layer_sizes=(300, 300, 300, 300), nn__learning_rate_init=0.01, pca__n_components=10, score=0.46676910229552604, total=   8.9s\n",
      "[CV] nn__hidden_layer_sizes=(300, 300, 300, 300), nn__learning_rate_init=0.01, pca__n_components=20 \n",
      "[CV]  nn__hidden_layer_sizes=(300, 300, 300, 300), nn__learning_rate_init=0.01, pca__n_components=20, score=0.46866326490555665, total=   9.5s\n",
      "[CV] nn__hidden_layer_sizes=(300, 300, 300, 300), nn__learning_rate_init=0.01, pca__n_components=20 \n",
      "[CV]  nn__hidden_layer_sizes=(300, 300, 300, 300), nn__learning_rate_init=0.01, pca__n_components=20, score=0.5311344716774136, total=   4.9s\n",
      "[CV] nn__hidden_layer_sizes=(300, 300, 300, 300), nn__learning_rate_init=0.01, pca__n_components=20 \n",
      "[CV]  nn__hidden_layer_sizes=(300, 300, 300, 300), nn__learning_rate_init=0.01, pca__n_components=20, score=0.33797602722363884, total=  14.6s\n",
      "[CV] nn__hidden_layer_sizes=(300, 300, 300, 300), nn__learning_rate_init=0.01, pca__n_components=30 \n",
      "[CV]  nn__hidden_layer_sizes=(300, 300, 300, 300), nn__learning_rate_init=0.01, pca__n_components=30, score=0.3060882630876868, total=  13.6s\n",
      "[CV] nn__hidden_layer_sizes=(300, 300, 300, 300), nn__learning_rate_init=0.01, pca__n_components=30 \n",
      "[CV]  nn__hidden_layer_sizes=(300, 300, 300, 300), nn__learning_rate_init=0.01, pca__n_components=30, score=0.329110205175416, total=  13.6s\n",
      "[CV] nn__hidden_layer_sizes=(300, 300, 300, 300), nn__learning_rate_init=0.01, pca__n_components=30 \n",
      "[CV]  nn__hidden_layer_sizes=(300, 300, 300, 300), nn__learning_rate_init=0.01, pca__n_components=30, score=0.09100475586827528, total=  12.9s\n",
      "[CV] nn__hidden_layer_sizes=(300, 300, 300, 300), nn__learning_rate_init=0.01, pca__n_components=40 \n",
      "[CV]  nn__hidden_layer_sizes=(300, 300, 300, 300), nn__learning_rate_init=0.01, pca__n_components=40, score=0.245911924941977, total=  13.4s\n",
      "[CV] nn__hidden_layer_sizes=(300, 300, 300, 300), nn__learning_rate_init=0.01, pca__n_components=40 \n",
      "[CV]  nn__hidden_layer_sizes=(300, 300, 300, 300), nn__learning_rate_init=0.01, pca__n_components=40, score=0.3869474803838695, total=  12.7s\n",
      "[CV] nn__hidden_layer_sizes=(300, 300, 300, 300), nn__learning_rate_init=0.01, pca__n_components=40 \n",
      "[CV]  nn__hidden_layer_sizes=(300, 300, 300, 300), nn__learning_rate_init=0.01, pca__n_components=40, score=0.12642785445818505, total=  12.0s\n",
      "[CV] nn__hidden_layer_sizes=(300, 300, 300, 300), nn__learning_rate_init=0.01, pca__n_components=50 \n",
      "[CV]  nn__hidden_layer_sizes=(300, 300, 300, 300), nn__learning_rate_init=0.01, pca__n_components=50, score=0.3411721275963481, total=  11.6s\n",
      "[CV] nn__hidden_layer_sizes=(300, 300, 300, 300), nn__learning_rate_init=0.01, pca__n_components=50 \n",
      "[CV]  nn__hidden_layer_sizes=(300, 300, 300, 300), nn__learning_rate_init=0.01, pca__n_components=50, score=0.474758179763332, total=  12.2s\n",
      "[CV] nn__hidden_layer_sizes=(300, 300, 300, 300), nn__learning_rate_init=0.01, pca__n_components=50 \n",
      "[CV]  nn__hidden_layer_sizes=(300, 300, 300, 300), nn__learning_rate_init=0.01, pca__n_components=50, score=0.20633477189090565, total=  11.6s\n",
      "[CV] nn__hidden_layer_sizes=(350, 350, 350, 350), nn__learning_rate_init=0.01, pca__n_components=10 \n",
      "[CV]  nn__hidden_layer_sizes=(350, 350, 350, 350), nn__learning_rate_init=0.01, pca__n_components=10, score=0.4956280642850911, total=   7.9s\n",
      "[CV] nn__hidden_layer_sizes=(350, 350, 350, 350), nn__learning_rate_init=0.01, pca__n_components=10 \n",
      "[CV]  nn__hidden_layer_sizes=(350, 350, 350, 350), nn__learning_rate_init=0.01, pca__n_components=10, score=0.5484878461907438, total=   8.5s\n",
      "[CV] nn__hidden_layer_sizes=(350, 350, 350, 350), nn__learning_rate_init=0.01, pca__n_components=10 \n",
      "[CV]  nn__hidden_layer_sizes=(350, 350, 350, 350), nn__learning_rate_init=0.01, pca__n_components=10, score=0.5021173069229861, total=   9.2s\n",
      "[CV] nn__hidden_layer_sizes=(350, 350, 350, 350), nn__learning_rate_init=0.01, pca__n_components=20 \n",
      "[CV]  nn__hidden_layer_sizes=(350, 350, 350, 350), nn__learning_rate_init=0.01, pca__n_components=20, score=0.50107855134333, total=   7.9s\n",
      "[CV] nn__hidden_layer_sizes=(350, 350, 350, 350), nn__learning_rate_init=0.01, pca__n_components=20 \n",
      "[CV]  nn__hidden_layer_sizes=(350, 350, 350, 350), nn__learning_rate_init=0.01, pca__n_components=20, score=0.5511182390053053, total=   6.8s\n",
      "[CV] nn__hidden_layer_sizes=(350, 350, 350, 350), nn__learning_rate_init=0.01, pca__n_components=20 \n",
      "[CV]  nn__hidden_layer_sizes=(350, 350, 350, 350), nn__learning_rate_init=0.01, pca__n_components=20, score=0.46523968072409816, total=   8.6s\n",
      "[CV] nn__hidden_layer_sizes=(350, 350, 350, 350), nn__learning_rate_init=0.01, pca__n_components=30 \n",
      "[CV]  nn__hidden_layer_sizes=(350, 350, 350, 350), nn__learning_rate_init=0.01, pca__n_components=30, score=0.3630761827703721, total=  15.0s\n",
      "[CV] nn__hidden_layer_sizes=(350, 350, 350, 350), nn__learning_rate_init=0.01, pca__n_components=30 \n",
      "[CV]  nn__hidden_layer_sizes=(350, 350, 350, 350), nn__learning_rate_init=0.01, pca__n_components=30, score=0.4394352364812665, total=  14.3s\n",
      "[CV] nn__hidden_layer_sizes=(350, 350, 350, 350), nn__learning_rate_init=0.01, pca__n_components=30 \n",
      "[CV]  nn__hidden_layer_sizes=(350, 350, 350, 350), nn__learning_rate_init=0.01, pca__n_components=30, score=0.26070166237061, total=  12.7s\n",
      "[CV] nn__hidden_layer_sizes=(350, 350, 350, 350), nn__learning_rate_init=0.01, pca__n_components=40 \n",
      "[CV]  nn__hidden_layer_sizes=(350, 350, 350, 350), nn__learning_rate_init=0.01, pca__n_components=40, score=0.2643356935676726, total=  14.2s\n",
      "[CV] nn__hidden_layer_sizes=(350, 350, 350, 350), nn__learning_rate_init=0.01, pca__n_components=40 \n",
      "[CV]  nn__hidden_layer_sizes=(350, 350, 350, 350), nn__learning_rate_init=0.01, pca__n_components=40, score=0.38321763923063557, total=  14.8s\n",
      "[CV] nn__hidden_layer_sizes=(350, 350, 350, 350), nn__learning_rate_init=0.01, pca__n_components=40 \n",
      "[CV]  nn__hidden_layer_sizes=(350, 350, 350, 350), nn__learning_rate_init=0.01, pca__n_components=40, score=0.24749173825122328, total=  13.9s\n",
      "[CV] nn__hidden_layer_sizes=(350, 350, 350, 350), nn__learning_rate_init=0.01, pca__n_components=50 \n",
      "[CV]  nn__hidden_layer_sizes=(350, 350, 350, 350), nn__learning_rate_init=0.01, pca__n_components=50, score=0.3630270573229907, total=  13.6s\n",
      "[CV] nn__hidden_layer_sizes=(350, 350, 350, 350), nn__learning_rate_init=0.01, pca__n_components=50 \n",
      "[CV]  nn__hidden_layer_sizes=(350, 350, 350, 350), nn__learning_rate_init=0.01, pca__n_components=50, score=0.48489145375898013, total=  13.7s\n",
      "[CV] nn__hidden_layer_sizes=(350, 350, 350, 350), nn__learning_rate_init=0.01, pca__n_components=50 \n"
     ]
    },
    {
     "name": "stdout",
     "output_type": "stream",
     "text": [
      "[CV]  nn__hidden_layer_sizes=(350, 350, 350, 350), nn__learning_rate_init=0.01, pca__n_components=50, score=0.22262789271093608, total=  13.3s\n",
      "[CV] nn__hidden_layer_sizes=(50, 50, 50, 50, 50), nn__learning_rate_init=0.01, pca__n_components=10 \n",
      "[CV]  nn__hidden_layer_sizes=(50, 50, 50, 50, 50), nn__learning_rate_init=0.01, pca__n_components=10, score=0.4953013907516777, total=   1.8s\n",
      "[CV] nn__hidden_layer_sizes=(50, 50, 50, 50, 50), nn__learning_rate_init=0.01, pca__n_components=10 \n",
      "[CV]  nn__hidden_layer_sizes=(50, 50, 50, 50, 50), nn__learning_rate_init=0.01, pca__n_components=10, score=0.5656801652556145, total=   2.6s\n",
      "[CV] nn__hidden_layer_sizes=(50, 50, 50, 50, 50), nn__learning_rate_init=0.01, pca__n_components=10 \n",
      "[CV]  nn__hidden_layer_sizes=(50, 50, 50, 50, 50), nn__learning_rate_init=0.01, pca__n_components=10, score=0.49160679310880784, total=   2.0s\n",
      "[CV] nn__hidden_layer_sizes=(50, 50, 50, 50, 50), nn__learning_rate_init=0.01, pca__n_components=20 \n",
      "[CV]  nn__hidden_layer_sizes=(50, 50, 50, 50, 50), nn__learning_rate_init=0.01, pca__n_components=20, score=0.5096303592647304, total=   1.6s\n",
      "[CV] nn__hidden_layer_sizes=(50, 50, 50, 50, 50), nn__learning_rate_init=0.01, pca__n_components=20 \n",
      "[CV]  nn__hidden_layer_sizes=(50, 50, 50, 50, 50), nn__learning_rate_init=0.01, pca__n_components=20, score=0.5404248964950376, total=   1.7s\n",
      "[CV] nn__hidden_layer_sizes=(50, 50, 50, 50, 50), nn__learning_rate_init=0.01, pca__n_components=20 \n",
      "[CV]  nn__hidden_layer_sizes=(50, 50, 50, 50, 50), nn__learning_rate_init=0.01, pca__n_components=20, score=0.46289743188268606, total=   2.5s\n",
      "[CV] nn__hidden_layer_sizes=(50, 50, 50, 50, 50), nn__learning_rate_init=0.01, pca__n_components=30 \n"
     ]
    },
    {
     "name": "stderr",
     "output_type": "stream",
     "text": [
      "/usr/local/lib/python3.6/site-packages/sklearn/neural_network/multilayer_perceptron.py:564: ConvergenceWarning: Stochastic Optimizer: Maximum iterations (200) reached and the optimization hasn't converged yet.\n",
      "  % self.max_iter, ConvergenceWarning)\n"
     ]
    },
    {
     "name": "stdout",
     "output_type": "stream",
     "text": [
      "[CV]  nn__hidden_layer_sizes=(50, 50, 50, 50, 50), nn__learning_rate_init=0.01, pca__n_components=30, score=0.3119495271521875, total=   3.8s\n",
      "[CV] nn__hidden_layer_sizes=(50, 50, 50, 50, 50), nn__learning_rate_init=0.01, pca__n_components=30 \n",
      "[CV]  nn__hidden_layer_sizes=(50, 50, 50, 50, 50), nn__learning_rate_init=0.01, pca__n_components=30, score=0.5565544599062014, total=   2.0s\n",
      "[CV] nn__hidden_layer_sizes=(50, 50, 50, 50, 50), nn__learning_rate_init=0.01, pca__n_components=30 \n",
      "[CV]  nn__hidden_layer_sizes=(50, 50, 50, 50, 50), nn__learning_rate_init=0.01, pca__n_components=30, score=0.021184340083597708, total=   3.7s\n",
      "[CV] nn__hidden_layer_sizes=(50, 50, 50, 50, 50), nn__learning_rate_init=0.01, pca__n_components=40 \n"
     ]
    },
    {
     "name": "stderr",
     "output_type": "stream",
     "text": [
      "/usr/local/lib/python3.6/site-packages/sklearn/neural_network/multilayer_perceptron.py:564: ConvergenceWarning: Stochastic Optimizer: Maximum iterations (200) reached and the optimization hasn't converged yet.\n",
      "  % self.max_iter, ConvergenceWarning)\n"
     ]
    },
    {
     "name": "stdout",
     "output_type": "stream",
     "text": [
      "[CV]  nn__hidden_layer_sizes=(50, 50, 50, 50, 50), nn__learning_rate_init=0.01, pca__n_components=40, score=0.12231711216809282, total=   3.8s\n",
      "[CV] nn__hidden_layer_sizes=(50, 50, 50, 50, 50), nn__learning_rate_init=0.01, pca__n_components=40 \n",
      "[CV]  nn__hidden_layer_sizes=(50, 50, 50, 50, 50), nn__learning_rate_init=0.01, pca__n_components=40, score=0.23995610985822835, total=   3.5s\n",
      "[CV] nn__hidden_layer_sizes=(50, 50, 50, 50, 50), nn__learning_rate_init=0.01, pca__n_components=40 \n",
      "[CV]  nn__hidden_layer_sizes=(50, 50, 50, 50, 50), nn__learning_rate_init=0.01, pca__n_components=40, score=-0.01278180153762598, total=   3.3s\n",
      "[CV] nn__hidden_layer_sizes=(50, 50, 50, 50, 50), nn__learning_rate_init=0.01, pca__n_components=50 \n",
      "[CV]  nn__hidden_layer_sizes=(50, 50, 50, 50, 50), nn__learning_rate_init=0.01, pca__n_components=50, score=0.12669809521618802, total=   3.6s\n",
      "[CV] nn__hidden_layer_sizes=(50, 50, 50, 50, 50), nn__learning_rate_init=0.01, pca__n_components=50 \n",
      "[CV]  nn__hidden_layer_sizes=(50, 50, 50, 50, 50), nn__learning_rate_init=0.01, pca__n_components=50, score=0.34909701147613814, total=   3.3s\n",
      "[CV] nn__hidden_layer_sizes=(50, 50, 50, 50, 50), nn__learning_rate_init=0.01, pca__n_components=50 \n",
      "[CV]  nn__hidden_layer_sizes=(50, 50, 50, 50, 50), nn__learning_rate_init=0.01, pca__n_components=50, score=0.021548372395768345, total=   3.7s\n",
      "[CV] nn__hidden_layer_sizes=(100, 100, 100, 100, 100), nn__learning_rate_init=0.01, pca__n_components=10 \n",
      "[CV]  nn__hidden_layer_sizes=(100, 100, 100, 100, 100), nn__learning_rate_init=0.01, pca__n_components=10, score=0.48979995097468254, total=   2.0s\n",
      "[CV] nn__hidden_layer_sizes=(100, 100, 100, 100, 100), nn__learning_rate_init=0.01, pca__n_components=10 \n",
      "[CV]  nn__hidden_layer_sizes=(100, 100, 100, 100, 100), nn__learning_rate_init=0.01, pca__n_components=10, score=0.5412637317409374, total=   2.0s\n",
      "[CV] nn__hidden_layer_sizes=(100, 100, 100, 100, 100), nn__learning_rate_init=0.01, pca__n_components=10 \n",
      "[CV]  nn__hidden_layer_sizes=(100, 100, 100, 100, 100), nn__learning_rate_init=0.01, pca__n_components=10, score=0.47491091589995915, total=   1.9s\n",
      "[CV] nn__hidden_layer_sizes=(100, 100, 100, 100, 100), nn__learning_rate_init=0.01, pca__n_components=20 \n",
      "[CV]  nn__hidden_layer_sizes=(100, 100, 100, 100, 100), nn__learning_rate_init=0.01, pca__n_components=20, score=0.5112868368200901, total=   1.8s\n",
      "[CV] nn__hidden_layer_sizes=(100, 100, 100, 100, 100), nn__learning_rate_init=0.01, pca__n_components=20 \n",
      "[CV]  nn__hidden_layer_sizes=(100, 100, 100, 100, 100), nn__learning_rate_init=0.01, pca__n_components=20, score=0.5475189098381061, total=   1.7s\n",
      "[CV] nn__hidden_layer_sizes=(100, 100, 100, 100, 100), nn__learning_rate_init=0.01, pca__n_components=20 \n",
      "[CV]  nn__hidden_layer_sizes=(100, 100, 100, 100, 100), nn__learning_rate_init=0.01, pca__n_components=20, score=0.1396828717784918, total=   4.2s\n",
      "[CV] nn__hidden_layer_sizes=(100, 100, 100, 100, 100), nn__learning_rate_init=0.01, pca__n_components=30 \n",
      "[CV]  nn__hidden_layer_sizes=(100, 100, 100, 100, 100), nn__learning_rate_init=0.01, pca__n_components=30, score=0.4834730208692275, total=   1.2s\n",
      "[CV] nn__hidden_layer_sizes=(100, 100, 100, 100, 100), nn__learning_rate_init=0.01, pca__n_components=30 \n",
      "[CV]  nn__hidden_layer_sizes=(100, 100, 100, 100, 100), nn__learning_rate_init=0.01, pca__n_components=30, score=0.4566961242162656, total=   4.2s\n",
      "[CV] nn__hidden_layer_sizes=(100, 100, 100, 100, 100), nn__learning_rate_init=0.01, pca__n_components=30 \n",
      "[CV]  nn__hidden_layer_sizes=(100, 100, 100, 100, 100), nn__learning_rate_init=0.01, pca__n_components=30, score=0.06807168408072839, total=   4.8s\n",
      "[CV] nn__hidden_layer_sizes=(100, 100, 100, 100, 100), nn__learning_rate_init=0.01, pca__n_components=40 \n",
      "[CV]  nn__hidden_layer_sizes=(100, 100, 100, 100, 100), nn__learning_rate_init=0.01, pca__n_components=40, score=0.500249785278017, total=   1.5s\n",
      "[CV] nn__hidden_layer_sizes=(100, 100, 100, 100, 100), nn__learning_rate_init=0.01, pca__n_components=40 \n",
      "[CV]  nn__hidden_layer_sizes=(100, 100, 100, 100, 100), nn__learning_rate_init=0.01, pca__n_components=40, score=0.4060896781880554, total=   3.9s\n",
      "[CV] nn__hidden_layer_sizes=(100, 100, 100, 100, 100), nn__learning_rate_init=0.01, pca__n_components=40 \n",
      "[CV]  nn__hidden_layer_sizes=(100, 100, 100, 100, 100), nn__learning_rate_init=0.01, pca__n_components=40, score=0.08021710577969288, total=   3.8s\n",
      "[CV] nn__hidden_layer_sizes=(100, 100, 100, 100, 100), nn__learning_rate_init=0.01, pca__n_components=50 \n",
      "[CV]  nn__hidden_layer_sizes=(100, 100, 100, 100, 100), nn__learning_rate_init=0.01, pca__n_components=50, score=0.21821504701291095, total=   4.6s\n",
      "[CV] nn__hidden_layer_sizes=(100, 100, 100, 100, 100), nn__learning_rate_init=0.01, pca__n_components=50 \n",
      "[CV]  nn__hidden_layer_sizes=(100, 100, 100, 100, 100), nn__learning_rate_init=0.01, pca__n_components=50, score=0.42505809626343616, total=   3.6s\n",
      "[CV] nn__hidden_layer_sizes=(100, 100, 100, 100, 100), nn__learning_rate_init=0.01, pca__n_components=50 \n",
      "[CV]  nn__hidden_layer_sizes=(100, 100, 100, 100, 100), nn__learning_rate_init=0.01, pca__n_components=50, score=0.06840596315919434, total=   4.2s\n",
      "[CV] nn__hidden_layer_sizes=(150, 150, 150, 150, 150), nn__learning_rate_init=0.01, pca__n_components=10 \n",
      "[CV]  nn__hidden_layer_sizes=(150, 150, 150, 150, 150), nn__learning_rate_init=0.01, pca__n_components=10, score=0.4871765157465373, total=   3.5s\n",
      "[CV] nn__hidden_layer_sizes=(150, 150, 150, 150, 150), nn__learning_rate_init=0.01, pca__n_components=10 \n",
      "[CV]  nn__hidden_layer_sizes=(150, 150, 150, 150, 150), nn__learning_rate_init=0.01, pca__n_components=10, score=0.5646332399244613, total=   4.0s\n",
      "[CV] nn__hidden_layer_sizes=(150, 150, 150, 150, 150), nn__learning_rate_init=0.01, pca__n_components=10 \n",
      "[CV]  nn__hidden_layer_sizes=(150, 150, 150, 150, 150), nn__learning_rate_init=0.01, pca__n_components=10, score=0.47114211660228555, total=   3.0s\n",
      "[CV] nn__hidden_layer_sizes=(150, 150, 150, 150, 150), nn__learning_rate_init=0.01, pca__n_components=20 \n",
      "[CV]  nn__hidden_layer_sizes=(150, 150, 150, 150, 150), nn__learning_rate_init=0.01, pca__n_components=20, score=0.5029723418432495, total=   2.7s\n",
      "[CV] nn__hidden_layer_sizes=(150, 150, 150, 150, 150), nn__learning_rate_init=0.01, pca__n_components=20 \n",
      "[CV]  nn__hidden_layer_sizes=(150, 150, 150, 150, 150), nn__learning_rate_init=0.01, pca__n_components=20, score=0.534274336529905, total=   1.9s\n",
      "[CV] nn__hidden_layer_sizes=(150, 150, 150, 150, 150), nn__learning_rate_init=0.01, pca__n_components=20 \n",
      "[CV]  nn__hidden_layer_sizes=(150, 150, 150, 150, 150), nn__learning_rate_init=0.01, pca__n_components=20, score=0.49620613744709785, total=   3.8s\n",
      "[CV] nn__hidden_layer_sizes=(150, 150, 150, 150, 150), nn__learning_rate_init=0.01, pca__n_components=30 \n",
      "[CV]  nn__hidden_layer_sizes=(150, 150, 150, 150, 150), nn__learning_rate_init=0.01, pca__n_components=30, score=0.45162783671139983, total=   4.0s\n",
      "[CV] nn__hidden_layer_sizes=(150, 150, 150, 150, 150), nn__learning_rate_init=0.01, pca__n_components=30 \n",
      "[CV]  nn__hidden_layer_sizes=(150, 150, 150, 150, 150), nn__learning_rate_init=0.01, pca__n_components=30, score=0.5488988700770858, total=   2.4s\n",
      "[CV] nn__hidden_layer_sizes=(150, 150, 150, 150, 150), nn__learning_rate_init=0.01, pca__n_components=30 \n",
      "[CV]  nn__hidden_layer_sizes=(150, 150, 150, 150, 150), nn__learning_rate_init=0.01, pca__n_components=30, score=0.2021424447420631, total=   4.8s\n",
      "[CV] nn__hidden_layer_sizes=(150, 150, 150, 150, 150), nn__learning_rate_init=0.01, pca__n_components=40 \n",
      "[CV]  nn__hidden_layer_sizes=(150, 150, 150, 150, 150), nn__learning_rate_init=0.01, pca__n_components=40, score=0.2125856276215663, total=   5.0s\n",
      "[CV] nn__hidden_layer_sizes=(150, 150, 150, 150, 150), nn__learning_rate_init=0.01, pca__n_components=40 \n",
      "[CV]  nn__hidden_layer_sizes=(150, 150, 150, 150, 150), nn__learning_rate_init=0.01, pca__n_components=40, score=0.4299738605714133, total=   4.9s\n",
      "[CV] nn__hidden_layer_sizes=(150, 150, 150, 150, 150), nn__learning_rate_init=0.01, pca__n_components=40 \n",
      "[CV]  nn__hidden_layer_sizes=(150, 150, 150, 150, 150), nn__learning_rate_init=0.01, pca__n_components=40, score=0.11584704719469152, total=   4.6s\n",
      "[CV] nn__hidden_layer_sizes=(150, 150, 150, 150, 150), nn__learning_rate_init=0.01, pca__n_components=50 \n"
     ]
    },
    {
     "name": "stdout",
     "output_type": "stream",
     "text": [
      "[CV]  nn__hidden_layer_sizes=(150, 150, 150, 150, 150), nn__learning_rate_init=0.01, pca__n_components=50, score=0.3352942646064908, total=   4.2s\n",
      "[CV] nn__hidden_layer_sizes=(150, 150, 150, 150, 150), nn__learning_rate_init=0.01, pca__n_components=50 \n",
      "[CV]  nn__hidden_layer_sizes=(150, 150, 150, 150, 150), nn__learning_rate_init=0.01, pca__n_components=50, score=0.4590752106021767, total=   4.8s\n",
      "[CV] nn__hidden_layer_sizes=(150, 150, 150, 150, 150), nn__learning_rate_init=0.01, pca__n_components=50 \n",
      "[CV]  nn__hidden_layer_sizes=(150, 150, 150, 150, 150), nn__learning_rate_init=0.01, pca__n_components=50, score=0.20926541249972297, total=   4.1s\n",
      "[CV] nn__hidden_layer_sizes=(200, 200, 200, 200, 200), nn__learning_rate_init=0.01, pca__n_components=10 \n",
      "[CV]  nn__hidden_layer_sizes=(200, 200, 200, 200, 200), nn__learning_rate_init=0.01, pca__n_components=10, score=0.4978597970999249, total=   3.4s\n",
      "[CV] nn__hidden_layer_sizes=(200, 200, 200, 200, 200), nn__learning_rate_init=0.01, pca__n_components=10 \n",
      "[CV]  nn__hidden_layer_sizes=(200, 200, 200, 200, 200), nn__learning_rate_init=0.01, pca__n_components=10, score=0.5616715569740611, total=   4.5s\n",
      "[CV] nn__hidden_layer_sizes=(200, 200, 200, 200, 200), nn__learning_rate_init=0.01, pca__n_components=10 \n",
      "[CV]  nn__hidden_layer_sizes=(200, 200, 200, 200, 200), nn__learning_rate_init=0.01, pca__n_components=10, score=0.5018531507877753, total=   3.8s\n",
      "[CV] nn__hidden_layer_sizes=(200, 200, 200, 200, 200), nn__learning_rate_init=0.01, pca__n_components=20 \n",
      "[CV]  nn__hidden_layer_sizes=(200, 200, 200, 200, 200), nn__learning_rate_init=0.01, pca__n_components=20, score=0.5033607068739894, total=   3.2s\n",
      "[CV] nn__hidden_layer_sizes=(200, 200, 200, 200, 200), nn__learning_rate_init=0.01, pca__n_components=20 \n",
      "[CV]  nn__hidden_layer_sizes=(200, 200, 200, 200, 200), nn__learning_rate_init=0.01, pca__n_components=20, score=0.5113716179504708, total=   1.3s\n",
      "[CV] nn__hidden_layer_sizes=(200, 200, 200, 200, 200), nn__learning_rate_init=0.01, pca__n_components=20 \n",
      "[CV]  nn__hidden_layer_sizes=(200, 200, 200, 200, 200), nn__learning_rate_init=0.01, pca__n_components=20, score=0.5029424303535809, total=   1.4s\n",
      "[CV] nn__hidden_layer_sizes=(200, 200, 200, 200, 200), nn__learning_rate_init=0.01, pca__n_components=30 \n",
      "[CV]  nn__hidden_layer_sizes=(200, 200, 200, 200, 200), nn__learning_rate_init=0.01, pca__n_components=30, score=0.5005667751084991, total=   2.1s\n",
      "[CV] nn__hidden_layer_sizes=(200, 200, 200, 200, 200), nn__learning_rate_init=0.01, pca__n_components=30 \n",
      "[CV]  nn__hidden_layer_sizes=(200, 200, 200, 200, 200), nn__learning_rate_init=0.01, pca__n_components=30, score=0.38855770112249244, total=   6.7s\n",
      "[CV] nn__hidden_layer_sizes=(200, 200, 200, 200, 200), nn__learning_rate_init=0.01, pca__n_components=30 \n",
      "[CV]  nn__hidden_layer_sizes=(200, 200, 200, 200, 200), nn__learning_rate_init=0.01, pca__n_components=30, score=0.3369613770369304, total=   5.5s\n",
      "[CV] nn__hidden_layer_sizes=(200, 200, 200, 200, 200), nn__learning_rate_init=0.01, pca__n_components=40 \n",
      "[CV]  nn__hidden_layer_sizes=(200, 200, 200, 200, 200), nn__learning_rate_init=0.01, pca__n_components=40, score=0.32109920313675744, total=   6.0s\n",
      "[CV] nn__hidden_layer_sizes=(200, 200, 200, 200, 200), nn__learning_rate_init=0.01, pca__n_components=40 \n",
      "[CV]  nn__hidden_layer_sizes=(200, 200, 200, 200, 200), nn__learning_rate_init=0.01, pca__n_components=40, score=0.5528181146603224, total=   2.3s\n",
      "[CV] nn__hidden_layer_sizes=(200, 200, 200, 200, 200), nn__learning_rate_init=0.01, pca__n_components=40 \n",
      "[CV]  nn__hidden_layer_sizes=(200, 200, 200, 200, 200), nn__learning_rate_init=0.01, pca__n_components=40, score=0.4658667027083472, total=   1.3s\n",
      "[CV] nn__hidden_layer_sizes=(200, 200, 200, 200, 200), nn__learning_rate_init=0.01, pca__n_components=50 \n",
      "[CV]  nn__hidden_layer_sizes=(200, 200, 200, 200, 200), nn__learning_rate_init=0.01, pca__n_components=50, score=0.28839157306182606, total=   4.6s\n",
      "[CV] nn__hidden_layer_sizes=(200, 200, 200, 200, 200), nn__learning_rate_init=0.01, pca__n_components=50 \n",
      "[CV]  nn__hidden_layer_sizes=(200, 200, 200, 200, 200), nn__learning_rate_init=0.01, pca__n_components=50, score=0.4529420561593117, total=   4.9s\n",
      "[CV] nn__hidden_layer_sizes=(200, 200, 200, 200, 200), nn__learning_rate_init=0.01, pca__n_components=50 \n",
      "[CV]  nn__hidden_layer_sizes=(200, 200, 200, 200, 200), nn__learning_rate_init=0.01, pca__n_components=50, score=0.23588673460386933, total=   5.3s\n",
      "[CV] nn__hidden_layer_sizes=(250, 250, 250, 250, 250), nn__learning_rate_init=0.01, pca__n_components=10 \n",
      "[CV]  nn__hidden_layer_sizes=(250, 250, 250, 250, 250), nn__learning_rate_init=0.01, pca__n_components=10, score=0.4870722309073754, total=   3.0s\n",
      "[CV] nn__hidden_layer_sizes=(250, 250, 250, 250, 250), nn__learning_rate_init=0.01, pca__n_components=10 \n",
      "[CV]  nn__hidden_layer_sizes=(250, 250, 250, 250, 250), nn__learning_rate_init=0.01, pca__n_components=10, score=0.5552630395414158, total=   4.7s\n",
      "[CV] nn__hidden_layer_sizes=(250, 250, 250, 250, 250), nn__learning_rate_init=0.01, pca__n_components=10 \n",
      "[CV]  nn__hidden_layer_sizes=(250, 250, 250, 250, 250), nn__learning_rate_init=0.01, pca__n_components=10, score=0.5013216744132647, total=   4.3s\n",
      "[CV] nn__hidden_layer_sizes=(250, 250, 250, 250, 250), nn__learning_rate_init=0.01, pca__n_components=20 \n",
      "[CV]  nn__hidden_layer_sizes=(250, 250, 250, 250, 250), nn__learning_rate_init=0.01, pca__n_components=20, score=0.49094522086994474, total=   5.3s\n",
      "[CV] nn__hidden_layer_sizes=(250, 250, 250, 250, 250), nn__learning_rate_init=0.01, pca__n_components=20 \n",
      "[CV]  nn__hidden_layer_sizes=(250, 250, 250, 250, 250), nn__learning_rate_init=0.01, pca__n_components=20, score=0.5345005989294243, total=   2.8s\n",
      "[CV] nn__hidden_layer_sizes=(250, 250, 250, 250, 250), nn__learning_rate_init=0.01, pca__n_components=20 \n",
      "[CV]  nn__hidden_layer_sizes=(250, 250, 250, 250, 250), nn__learning_rate_init=0.01, pca__n_components=20, score=0.5061663417686557, total=   4.4s\n",
      "[CV] nn__hidden_layer_sizes=(250, 250, 250, 250, 250), nn__learning_rate_init=0.01, pca__n_components=30 \n",
      "[CV]  nn__hidden_layer_sizes=(250, 250, 250, 250, 250), nn__learning_rate_init=0.01, pca__n_components=30, score=0.5013299897339188, total=   2.1s\n",
      "[CV] nn__hidden_layer_sizes=(250, 250, 250, 250, 250), nn__learning_rate_init=0.01, pca__n_components=30 \n",
      "[CV]  nn__hidden_layer_sizes=(250, 250, 250, 250, 250), nn__learning_rate_init=0.01, pca__n_components=30, score=0.5339311077470505, total=   2.2s\n",
      "[CV] nn__hidden_layer_sizes=(250, 250, 250, 250, 250), nn__learning_rate_init=0.01, pca__n_components=30 \n",
      "[CV]  nn__hidden_layer_sizes=(250, 250, 250, 250, 250), nn__learning_rate_init=0.01, pca__n_components=30, score=0.20982415215409234, total=  10.8s\n",
      "[CV] nn__hidden_layer_sizes=(250, 250, 250, 250, 250), nn__learning_rate_init=0.01, pca__n_components=40 \n",
      "[CV]  nn__hidden_layer_sizes=(250, 250, 250, 250, 250), nn__learning_rate_init=0.01, pca__n_components=40, score=0.3258512124777636, total=   6.8s\n",
      "[CV] nn__hidden_layer_sizes=(250, 250, 250, 250, 250), nn__learning_rate_init=0.01, pca__n_components=40 \n",
      "[CV]  nn__hidden_layer_sizes=(250, 250, 250, 250, 250), nn__learning_rate_init=0.01, pca__n_components=40, score=0.4450670200132554, total=   7.0s\n",
      "[CV] nn__hidden_layer_sizes=(250, 250, 250, 250, 250), nn__learning_rate_init=0.01, pca__n_components=40 \n",
      "[CV]  nn__hidden_layer_sizes=(250, 250, 250, 250, 250), nn__learning_rate_init=0.01, pca__n_components=40, score=0.48714247203955197, total=   1.7s\n",
      "[CV] nn__hidden_layer_sizes=(250, 250, 250, 250, 250), nn__learning_rate_init=0.01, pca__n_components=50 \n",
      "[CV]  nn__hidden_layer_sizes=(250, 250, 250, 250, 250), nn__learning_rate_init=0.01, pca__n_components=50, score=0.2926018472654792, total=   5.7s\n",
      "[CV] nn__hidden_layer_sizes=(250, 250, 250, 250, 250), nn__learning_rate_init=0.01, pca__n_components=50 \n",
      "[CV]  nn__hidden_layer_sizes=(250, 250, 250, 250, 250), nn__learning_rate_init=0.01, pca__n_components=50, score=0.4645358552494484, total=   8.0s\n",
      "[CV] nn__hidden_layer_sizes=(250, 250, 250, 250, 250), nn__learning_rate_init=0.01, pca__n_components=50 \n",
      "[CV]  nn__hidden_layer_sizes=(250, 250, 250, 250, 250), nn__learning_rate_init=0.01, pca__n_components=50, score=0.2978340575309414, total=   6.0s\n",
      "[CV] nn__hidden_layer_sizes=(300, 300, 300, 300, 300), nn__learning_rate_init=0.01, pca__n_components=10 \n"
     ]
    },
    {
     "name": "stdout",
     "output_type": "stream",
     "text": [
      "[CV]  nn__hidden_layer_sizes=(300, 300, 300, 300, 300), nn__learning_rate_init=0.01, pca__n_components=10, score=0.45473975881795525, total=   1.9s\n",
      "[CV] nn__hidden_layer_sizes=(300, 300, 300, 300, 300), nn__learning_rate_init=0.01, pca__n_components=10 \n",
      "[CV]  nn__hidden_layer_sizes=(300, 300, 300, 300, 300), nn__learning_rate_init=0.01, pca__n_components=10, score=0.5502164959875487, total=   5.8s\n",
      "[CV] nn__hidden_layer_sizes=(300, 300, 300, 300, 300), nn__learning_rate_init=0.01, pca__n_components=10 \n",
      "[CV]  nn__hidden_layer_sizes=(300, 300, 300, 300, 300), nn__learning_rate_init=0.01, pca__n_components=10, score=0.4739547745684751, total=   5.6s\n",
      "[CV] nn__hidden_layer_sizes=(300, 300, 300, 300, 300), nn__learning_rate_init=0.01, pca__n_components=20 \n",
      "[CV]  nn__hidden_layer_sizes=(300, 300, 300, 300, 300), nn__learning_rate_init=0.01, pca__n_components=20, score=0.5068174684272722, total=   5.5s\n",
      "[CV] nn__hidden_layer_sizes=(300, 300, 300, 300, 300), nn__learning_rate_init=0.01, pca__n_components=20 \n",
      "[CV]  nn__hidden_layer_sizes=(300, 300, 300, 300, 300), nn__learning_rate_init=0.01, pca__n_components=20, score=0.5181788288003291, total=   2.3s\n",
      "[CV] nn__hidden_layer_sizes=(300, 300, 300, 300, 300), nn__learning_rate_init=0.01, pca__n_components=20 \n",
      "[CV]  nn__hidden_layer_sizes=(300, 300, 300, 300, 300), nn__learning_rate_init=0.01, pca__n_components=20, score=0.5270823531146094, total=   3.8s\n",
      "[CV] nn__hidden_layer_sizes=(300, 300, 300, 300, 300), nn__learning_rate_init=0.01, pca__n_components=30 \n",
      "[CV]  nn__hidden_layer_sizes=(300, 300, 300, 300, 300), nn__learning_rate_init=0.01, pca__n_components=30, score=0.4829354295257817, total=   2.2s\n",
      "[CV] nn__hidden_layer_sizes=(300, 300, 300, 300, 300), nn__learning_rate_init=0.01, pca__n_components=30 \n",
      "[CV]  nn__hidden_layer_sizes=(300, 300, 300, 300, 300), nn__learning_rate_init=0.01, pca__n_components=30, score=0.5576051288964041, total=   4.8s\n",
      "[CV] nn__hidden_layer_sizes=(300, 300, 300, 300, 300), nn__learning_rate_init=0.01, pca__n_components=30 \n",
      "[CV]  nn__hidden_layer_sizes=(300, 300, 300, 300, 300), nn__learning_rate_init=0.01, pca__n_components=30, score=0.3471790019530199, total=   8.4s\n",
      "[CV] nn__hidden_layer_sizes=(300, 300, 300, 300, 300), nn__learning_rate_init=0.01, pca__n_components=40 \n",
      "[CV]  nn__hidden_layer_sizes=(300, 300, 300, 300, 300), nn__learning_rate_init=0.01, pca__n_components=40, score=0.49419846129313527, total=   3.2s\n",
      "[CV] nn__hidden_layer_sizes=(300, 300, 300, 300, 300), nn__learning_rate_init=0.01, pca__n_components=40 \n",
      "[CV]  nn__hidden_layer_sizes=(300, 300, 300, 300, 300), nn__learning_rate_init=0.01, pca__n_components=40, score=0.45642477548089133, total=  11.2s\n",
      "[CV] nn__hidden_layer_sizes=(300, 300, 300, 300, 300), nn__learning_rate_init=0.01, pca__n_components=40 \n",
      "[CV]  nn__hidden_layer_sizes=(300, 300, 300, 300, 300), nn__learning_rate_init=0.01, pca__n_components=40, score=0.33181561987643615, total=   8.3s\n",
      "[CV] nn__hidden_layer_sizes=(300, 300, 300, 300, 300), nn__learning_rate_init=0.01, pca__n_components=50 \n",
      "[CV]  nn__hidden_layer_sizes=(300, 300, 300, 300, 300), nn__learning_rate_init=0.01, pca__n_components=50, score=0.2729069241492491, total=   9.0s\n",
      "[CV] nn__hidden_layer_sizes=(300, 300, 300, 300, 300), nn__learning_rate_init=0.01, pca__n_components=50 \n",
      "[CV]  nn__hidden_layer_sizes=(300, 300, 300, 300, 300), nn__learning_rate_init=0.01, pca__n_components=50, score=0.4907292262722036, total=   7.5s\n",
      "[CV] nn__hidden_layer_sizes=(300, 300, 300, 300, 300), nn__learning_rate_init=0.01, pca__n_components=50 \n",
      "[CV]  nn__hidden_layer_sizes=(300, 300, 300, 300, 300), nn__learning_rate_init=0.01, pca__n_components=50, score=0.505089817685311, total=   2.1s\n",
      "[CV] nn__hidden_layer_sizes=(350, 350, 350, 350, 350), nn__learning_rate_init=0.01, pca__n_components=10 \n",
      "[CV]  nn__hidden_layer_sizes=(350, 350, 350, 350, 350), nn__learning_rate_init=0.01, pca__n_components=10, score=0.4982756502426334, total=   6.2s\n",
      "[CV] nn__hidden_layer_sizes=(350, 350, 350, 350, 350), nn__learning_rate_init=0.01, pca__n_components=10 \n",
      "[CV]  nn__hidden_layer_sizes=(350, 350, 350, 350, 350), nn__learning_rate_init=0.01, pca__n_components=10, score=0.5475541560334409, total=   6.2s\n",
      "[CV] nn__hidden_layer_sizes=(350, 350, 350, 350, 350), nn__learning_rate_init=0.01, pca__n_components=10 \n",
      "[CV]  nn__hidden_layer_sizes=(350, 350, 350, 350, 350), nn__learning_rate_init=0.01, pca__n_components=10, score=0.4967920402061582, total=   5.0s\n",
      "[CV] nn__hidden_layer_sizes=(350, 350, 350, 350, 350), nn__learning_rate_init=0.01, pca__n_components=20 \n",
      "[CV]  nn__hidden_layer_sizes=(350, 350, 350, 350, 350), nn__learning_rate_init=0.01, pca__n_components=20, score=0.5019310600435386, total=   6.1s\n",
      "[CV] nn__hidden_layer_sizes=(350, 350, 350, 350, 350), nn__learning_rate_init=0.01, pca__n_components=20 \n",
      "[CV]  nn__hidden_layer_sizes=(350, 350, 350, 350, 350), nn__learning_rate_init=0.01, pca__n_components=20, score=0.5409042364883615, total=   6.3s\n",
      "[CV] nn__hidden_layer_sizes=(350, 350, 350, 350, 350), nn__learning_rate_init=0.01, pca__n_components=20 \n",
      "[CV]  nn__hidden_layer_sizes=(350, 350, 350, 350, 350), nn__learning_rate_init=0.01, pca__n_components=20, score=0.2425743037749386, total=  14.3s\n",
      "[CV] nn__hidden_layer_sizes=(350, 350, 350, 350, 350), nn__learning_rate_init=0.01, pca__n_components=30 \n",
      "[CV]  nn__hidden_layer_sizes=(350, 350, 350, 350, 350), nn__learning_rate_init=0.01, pca__n_components=30, score=0.4157885125809483, total=  11.4s\n",
      "[CV] nn__hidden_layer_sizes=(350, 350, 350, 350, 350), nn__learning_rate_init=0.01, pca__n_components=30 \n",
      "[CV]  nn__hidden_layer_sizes=(350, 350, 350, 350, 350), nn__learning_rate_init=0.01, pca__n_components=30, score=0.47438730383211114, total=  12.0s\n",
      "[CV] nn__hidden_layer_sizes=(350, 350, 350, 350, 350), nn__learning_rate_init=0.01, pca__n_components=30 \n",
      "[CV]  nn__hidden_layer_sizes=(350, 350, 350, 350, 350), nn__learning_rate_init=0.01, pca__n_components=30, score=0.055097342922419745, total=  12.4s\n",
      "[CV] nn__hidden_layer_sizes=(350, 350, 350, 350, 350), nn__learning_rate_init=0.01, pca__n_components=40 \n",
      "[CV]  nn__hidden_layer_sizes=(350, 350, 350, 350, 350), nn__learning_rate_init=0.01, pca__n_components=40, score=0.33172415536832867, total=   9.5s\n",
      "[CV] nn__hidden_layer_sizes=(350, 350, 350, 350, 350), nn__learning_rate_init=0.01, pca__n_components=40 \n",
      "[CV]  nn__hidden_layer_sizes=(350, 350, 350, 350, 350), nn__learning_rate_init=0.01, pca__n_components=40, score=0.4133386225612188, total=  10.2s\n",
      "[CV] nn__hidden_layer_sizes=(350, 350, 350, 350, 350), nn__learning_rate_init=0.01, pca__n_components=40 \n",
      "[CV]  nn__hidden_layer_sizes=(350, 350, 350, 350, 350), nn__learning_rate_init=0.01, pca__n_components=40, score=0.17099082041553926, total=  13.0s\n",
      "[CV] nn__hidden_layer_sizes=(350, 350, 350, 350, 350), nn__learning_rate_init=0.01, pca__n_components=50 \n",
      "[CV]  nn__hidden_layer_sizes=(350, 350, 350, 350, 350), nn__learning_rate_init=0.01, pca__n_components=50, score=0.33678729103480654, total=  11.9s\n",
      "[CV] nn__hidden_layer_sizes=(350, 350, 350, 350, 350), nn__learning_rate_init=0.01, pca__n_components=50 \n",
      "[CV]  nn__hidden_layer_sizes=(350, 350, 350, 350, 350), nn__learning_rate_init=0.01, pca__n_components=50, score=0.4556541779196033, total=   8.3s\n",
      "[CV] nn__hidden_layer_sizes=(350, 350, 350, 350, 350), nn__learning_rate_init=0.01, pca__n_components=50 \n",
      "[CV]  nn__hidden_layer_sizes=(350, 350, 350, 350, 350), nn__learning_rate_init=0.01, pca__n_components=50, score=0.22392087398520277, total=  10.4s\n",
      "[CV] nn__hidden_layer_sizes=(50, 50, 50, 50, 50, 50), nn__learning_rate_init=0.01, pca__n_components=10 \n",
      "[CV]  nn__hidden_layer_sizes=(50, 50, 50, 50, 50, 50), nn__learning_rate_init=0.01, pca__n_components=10, score=0.4904921695542702, total=   1.5s\n",
      "[CV] nn__hidden_layer_sizes=(50, 50, 50, 50, 50, 50), nn__learning_rate_init=0.01, pca__n_components=10 \n",
      "[CV]  nn__hidden_layer_sizes=(50, 50, 50, 50, 50, 50), nn__learning_rate_init=0.01, pca__n_components=10, score=0.4889362022217355, total=   0.5s\n",
      "[CV] nn__hidden_layer_sizes=(50, 50, 50, 50, 50, 50), nn__learning_rate_init=0.01, pca__n_components=10 \n",
      "[CV]  nn__hidden_layer_sizes=(50, 50, 50, 50, 50, 50), nn__learning_rate_init=0.01, pca__n_components=10, score=0.4907383059625219, total=   1.3s\n",
      "[CV] nn__hidden_layer_sizes=(50, 50, 50, 50, 50, 50), nn__learning_rate_init=0.01, pca__n_components=20 \n"
     ]
    },
    {
     "name": "stdout",
     "output_type": "stream",
     "text": [
      "[CV]  nn__hidden_layer_sizes=(50, 50, 50, 50, 50, 50), nn__learning_rate_init=0.01, pca__n_components=20, score=0.5054496574348255, total=   2.1s\n",
      "[CV] nn__hidden_layer_sizes=(50, 50, 50, 50, 50, 50), nn__learning_rate_init=0.01, pca__n_components=20 \n",
      "[CV]  nn__hidden_layer_sizes=(50, 50, 50, 50, 50, 50), nn__learning_rate_init=0.01, pca__n_components=20, score=0.5504739691235316, total=   2.1s\n",
      "[CV] nn__hidden_layer_sizes=(50, 50, 50, 50, 50, 50), nn__learning_rate_init=0.01, pca__n_components=20 \n",
      "[CV]  nn__hidden_layer_sizes=(50, 50, 50, 50, 50, 50), nn__learning_rate_init=0.01, pca__n_components=20, score=0.14165190864783828, total=   3.4s\n",
      "[CV] nn__hidden_layer_sizes=(50, 50, 50, 50, 50, 50), nn__learning_rate_init=0.01, pca__n_components=30 \n",
      "[CV]  nn__hidden_layer_sizes=(50, 50, 50, 50, 50, 50), nn__learning_rate_init=0.01, pca__n_components=30, score=0.37993654151082856, total=   2.9s\n",
      "[CV] nn__hidden_layer_sizes=(50, 50, 50, 50, 50, 50), nn__learning_rate_init=0.01, pca__n_components=30 \n",
      "[CV]  nn__hidden_layer_sizes=(50, 50, 50, 50, 50, 50), nn__learning_rate_init=0.01, pca__n_components=30, score=0.5411669344838071, total=   1.2s\n",
      "[CV] nn__hidden_layer_sizes=(50, 50, 50, 50, 50, 50), nn__learning_rate_init=0.01, pca__n_components=30 \n",
      "[CV]  nn__hidden_layer_sizes=(50, 50, 50, 50, 50, 50), nn__learning_rate_init=0.01, pca__n_components=30, score=0.1409422286419013, total=   3.1s\n",
      "[CV] nn__hidden_layer_sizes=(50, 50, 50, 50, 50, 50), nn__learning_rate_init=0.01, pca__n_components=40 \n",
      "[CV]  nn__hidden_layer_sizes=(50, 50, 50, 50, 50, 50), nn__learning_rate_init=0.01, pca__n_components=40, score=0.2589821094455378, total=   2.5s\n",
      "[CV] nn__hidden_layer_sizes=(50, 50, 50, 50, 50, 50), nn__learning_rate_init=0.01, pca__n_components=40 \n",
      "[CV]  nn__hidden_layer_sizes=(50, 50, 50, 50, 50, 50), nn__learning_rate_init=0.01, pca__n_components=40, score=0.3341474604798116, total=   2.8s\n",
      "[CV] nn__hidden_layer_sizes=(50, 50, 50, 50, 50, 50), nn__learning_rate_init=0.01, pca__n_components=40 \n",
      "[CV]  nn__hidden_layer_sizes=(50, 50, 50, 50, 50, 50), nn__learning_rate_init=0.01, pca__n_components=40, score=0.28155721115294463, total=   2.2s\n",
      "[CV] nn__hidden_layer_sizes=(50, 50, 50, 50, 50, 50), nn__learning_rate_init=0.01, pca__n_components=50 \n",
      "[CV]  nn__hidden_layer_sizes=(50, 50, 50, 50, 50, 50), nn__learning_rate_init=0.01, pca__n_components=50, score=0.21555178030028677, total=   2.9s\n",
      "[CV] nn__hidden_layer_sizes=(50, 50, 50, 50, 50, 50), nn__learning_rate_init=0.01, pca__n_components=50 \n",
      "[CV]  nn__hidden_layer_sizes=(50, 50, 50, 50, 50, 50), nn__learning_rate_init=0.01, pca__n_components=50, score=0.37993508570005696, total=   2.4s\n",
      "[CV] nn__hidden_layer_sizes=(50, 50, 50, 50, 50, 50), nn__learning_rate_init=0.01, pca__n_components=50 \n",
      "[CV]  nn__hidden_layer_sizes=(50, 50, 50, 50, 50, 50), nn__learning_rate_init=0.01, pca__n_components=50, score=0.19224217078808115, total=   2.2s\n",
      "[CV] nn__hidden_layer_sizes=(100, 100, 100, 100, 100, 100), nn__learning_rate_init=0.01, pca__n_components=10 \n",
      "[CV]  nn__hidden_layer_sizes=(100, 100, 100, 100, 100, 100), nn__learning_rate_init=0.01, pca__n_components=10, score=0.48369693676359127, total=   1.2s\n",
      "[CV] nn__hidden_layer_sizes=(100, 100, 100, 100, 100, 100), nn__learning_rate_init=0.01, pca__n_components=10 \n",
      "[CV]  nn__hidden_layer_sizes=(100, 100, 100, 100, 100, 100), nn__learning_rate_init=0.01, pca__n_components=10, score=0.5585158403788126, total=   2.8s\n",
      "[CV] nn__hidden_layer_sizes=(100, 100, 100, 100, 100, 100), nn__learning_rate_init=0.01, pca__n_components=10 \n",
      "[CV]  nn__hidden_layer_sizes=(100, 100, 100, 100, 100, 100), nn__learning_rate_init=0.01, pca__n_components=10, score=0.5013862254965784, total=   1.4s\n",
      "[CV] nn__hidden_layer_sizes=(100, 100, 100, 100, 100, 100), nn__learning_rate_init=0.01, pca__n_components=20 \n",
      "[CV]  nn__hidden_layer_sizes=(100, 100, 100, 100, 100, 100), nn__learning_rate_init=0.01, pca__n_components=20, score=0.504978579029207, total=   2.1s\n",
      "[CV] nn__hidden_layer_sizes=(100, 100, 100, 100, 100, 100), nn__learning_rate_init=0.01, pca__n_components=20 \n",
      "[CV]  nn__hidden_layer_sizes=(100, 100, 100, 100, 100, 100), nn__learning_rate_init=0.01, pca__n_components=20, score=0.5073652918582898, total=   3.6s\n",
      "[CV] nn__hidden_layer_sizes=(100, 100, 100, 100, 100, 100), nn__learning_rate_init=0.01, pca__n_components=20 \n",
      "[CV]  nn__hidden_layer_sizes=(100, 100, 100, 100, 100, 100), nn__learning_rate_init=0.01, pca__n_components=20, score=0.3372190600867251, total=   5.0s\n",
      "[CV] nn__hidden_layer_sizes=(100, 100, 100, 100, 100, 100), nn__learning_rate_init=0.01, pca__n_components=30 \n",
      "[CV]  nn__hidden_layer_sizes=(100, 100, 100, 100, 100, 100), nn__learning_rate_init=0.01, pca__n_components=30, score=0.48127683001281674, total=   1.0s\n",
      "[CV] nn__hidden_layer_sizes=(100, 100, 100, 100, 100, 100), nn__learning_rate_init=0.01, pca__n_components=30 \n",
      "[CV]  nn__hidden_layer_sizes=(100, 100, 100, 100, 100, 100), nn__learning_rate_init=0.01, pca__n_components=30, score=0.5098572709977519, total=   0.8s\n",
      "[CV] nn__hidden_layer_sizes=(100, 100, 100, 100, 100, 100), nn__learning_rate_init=0.01, pca__n_components=30 \n",
      "[CV]  nn__hidden_layer_sizes=(100, 100, 100, 100, 100, 100), nn__learning_rate_init=0.01, pca__n_components=30, score=0.5325019166729379, total=   1.5s\n",
      "[CV] nn__hidden_layer_sizes=(100, 100, 100, 100, 100, 100), nn__learning_rate_init=0.01, pca__n_components=40 \n",
      "[CV]  nn__hidden_layer_sizes=(100, 100, 100, 100, 100, 100), nn__learning_rate_init=0.01, pca__n_components=40, score=0.23511569538826693, total=   3.9s\n",
      "[CV] nn__hidden_layer_sizes=(100, 100, 100, 100, 100, 100), nn__learning_rate_init=0.01, pca__n_components=40 \n",
      "[CV]  nn__hidden_layer_sizes=(100, 100, 100, 100, 100, 100), nn__learning_rate_init=0.01, pca__n_components=40, score=0.5598570174235654, total=   2.2s\n",
      "[CV] nn__hidden_layer_sizes=(100, 100, 100, 100, 100, 100), nn__learning_rate_init=0.01, pca__n_components=40 \n",
      "[CV]  nn__hidden_layer_sizes=(100, 100, 100, 100, 100, 100), nn__learning_rate_init=0.01, pca__n_components=40, score=0.21557669515480737, total=   3.4s\n",
      "[CV] nn__hidden_layer_sizes=(100, 100, 100, 100, 100, 100), nn__learning_rate_init=0.01, pca__n_components=50 \n",
      "[CV]  nn__hidden_layer_sizes=(100, 100, 100, 100, 100, 100), nn__learning_rate_init=0.01, pca__n_components=50, score=0.31567327893394403, total=   3.4s\n",
      "[CV] nn__hidden_layer_sizes=(100, 100, 100, 100, 100, 100), nn__learning_rate_init=0.01, pca__n_components=50 \n",
      "[CV]  nn__hidden_layer_sizes=(100, 100, 100, 100, 100, 100), nn__learning_rate_init=0.01, pca__n_components=50, score=0.4527993091988892, total=   4.1s\n",
      "[CV] nn__hidden_layer_sizes=(100, 100, 100, 100, 100, 100), nn__learning_rate_init=0.01, pca__n_components=50 \n",
      "[CV]  nn__hidden_layer_sizes=(100, 100, 100, 100, 100, 100), nn__learning_rate_init=0.01, pca__n_components=50, score=0.16896799789978423, total=   3.3s\n",
      "[CV] nn__hidden_layer_sizes=(150, 150, 150, 150, 150, 150), nn__learning_rate_init=0.01, pca__n_components=10 \n",
      "[CV]  nn__hidden_layer_sizes=(150, 150, 150, 150, 150, 150), nn__learning_rate_init=0.01, pca__n_components=10, score=0.48765591121003427, total=   1.7s\n",
      "[CV] nn__hidden_layer_sizes=(150, 150, 150, 150, 150, 150), nn__learning_rate_init=0.01, pca__n_components=10 \n",
      "[CV]  nn__hidden_layer_sizes=(150, 150, 150, 150, 150, 150), nn__learning_rate_init=0.01, pca__n_components=10, score=0.5205687025988046, total=   2.1s\n",
      "[CV] nn__hidden_layer_sizes=(150, 150, 150, 150, 150, 150), nn__learning_rate_init=0.01, pca__n_components=10 \n",
      "[CV]  nn__hidden_layer_sizes=(150, 150, 150, 150, 150, 150), nn__learning_rate_init=0.01, pca__n_components=10, score=0.4876232129008973, total=   3.1s\n",
      "[CV] nn__hidden_layer_sizes=(150, 150, 150, 150, 150, 150), nn__learning_rate_init=0.01, pca__n_components=20 \n",
      "[CV]  nn__hidden_layer_sizes=(150, 150, 150, 150, 150, 150), nn__learning_rate_init=0.01, pca__n_components=20, score=0.5086265664082333, total=   1.7s\n",
      "[CV] nn__hidden_layer_sizes=(150, 150, 150, 150, 150, 150), nn__learning_rate_init=0.01, pca__n_components=20 \n",
      "[CV]  nn__hidden_layer_sizes=(150, 150, 150, 150, 150, 150), nn__learning_rate_init=0.01, pca__n_components=20, score=0.5496599006177644, total=   4.0s\n",
      "[CV] nn__hidden_layer_sizes=(150, 150, 150, 150, 150, 150), nn__learning_rate_init=0.01, pca__n_components=20 \n"
     ]
    },
    {
     "name": "stdout",
     "output_type": "stream",
     "text": [
      "[CV]  nn__hidden_layer_sizes=(150, 150, 150, 150, 150, 150), nn__learning_rate_init=0.01, pca__n_components=20, score=0.5036390038904064, total=   0.8s\n",
      "[CV] nn__hidden_layer_sizes=(150, 150, 150, 150, 150, 150), nn__learning_rate_init=0.01, pca__n_components=30 \n",
      "[CV]  nn__hidden_layer_sizes=(150, 150, 150, 150, 150, 150), nn__learning_rate_init=0.01, pca__n_components=30, score=0.33441222651296443, total=   3.7s\n",
      "[CV] nn__hidden_layer_sizes=(150, 150, 150, 150, 150, 150), nn__learning_rate_init=0.01, pca__n_components=30 \n",
      "[CV]  nn__hidden_layer_sizes=(150, 150, 150, 150, 150, 150), nn__learning_rate_init=0.01, pca__n_components=30, score=0.48519605420576994, total=   3.5s\n",
      "[CV] nn__hidden_layer_sizes=(150, 150, 150, 150, 150, 150), nn__learning_rate_init=0.01, pca__n_components=30 \n",
      "[CV]  nn__hidden_layer_sizes=(150, 150, 150, 150, 150, 150), nn__learning_rate_init=0.01, pca__n_components=30, score=0.13655058691428312, total=   3.9s\n",
      "[CV] nn__hidden_layer_sizes=(150, 150, 150, 150, 150, 150), nn__learning_rate_init=0.01, pca__n_components=40 \n",
      "[CV]  nn__hidden_layer_sizes=(150, 150, 150, 150, 150, 150), nn__learning_rate_init=0.01, pca__n_components=40, score=0.24135578432712101, total=   3.9s\n",
      "[CV] nn__hidden_layer_sizes=(150, 150, 150, 150, 150, 150), nn__learning_rate_init=0.01, pca__n_components=40 \n",
      "[CV]  nn__hidden_layer_sizes=(150, 150, 150, 150, 150, 150), nn__learning_rate_init=0.01, pca__n_components=40, score=0.5698336995385673, total=   1.8s\n",
      "[CV] nn__hidden_layer_sizes=(150, 150, 150, 150, 150, 150), nn__learning_rate_init=0.01, pca__n_components=40 \n",
      "[CV]  nn__hidden_layer_sizes=(150, 150, 150, 150, 150, 150), nn__learning_rate_init=0.01, pca__n_components=40, score=0.33995977351209716, total=   3.6s\n",
      "[CV] nn__hidden_layer_sizes=(150, 150, 150, 150, 150, 150), nn__learning_rate_init=0.01, pca__n_components=50 \n",
      "[CV]  nn__hidden_layer_sizes=(150, 150, 150, 150, 150, 150), nn__learning_rate_init=0.01, pca__n_components=50, score=0.3332255719390278, total=   3.7s\n",
      "[CV] nn__hidden_layer_sizes=(150, 150, 150, 150, 150, 150), nn__learning_rate_init=0.01, pca__n_components=50 \n",
      "[CV]  nn__hidden_layer_sizes=(150, 150, 150, 150, 150, 150), nn__learning_rate_init=0.01, pca__n_components=50, score=0.46341454794741077, total=   5.0s\n",
      "[CV] nn__hidden_layer_sizes=(150, 150, 150, 150, 150, 150), nn__learning_rate_init=0.01, pca__n_components=50 \n",
      "[CV]  nn__hidden_layer_sizes=(150, 150, 150, 150, 150, 150), nn__learning_rate_init=0.01, pca__n_components=50, score=0.2607617507429594, total=   4.1s\n",
      "[CV] nn__hidden_layer_sizes=(200, 200, 200, 200, 200, 200), nn__learning_rate_init=0.01, pca__n_components=10 \n",
      "[CV]  nn__hidden_layer_sizes=(200, 200, 200, 200, 200, 200), nn__learning_rate_init=0.01, pca__n_components=10, score=0.4932592873072892, total=   2.8s\n",
      "[CV] nn__hidden_layer_sizes=(200, 200, 200, 200, 200, 200), nn__learning_rate_init=0.01, pca__n_components=10 \n",
      "[CV]  nn__hidden_layer_sizes=(200, 200, 200, 200, 200, 200), nn__learning_rate_init=0.01, pca__n_components=10, score=0.5044640195162686, total=   1.8s\n",
      "[CV] nn__hidden_layer_sizes=(200, 200, 200, 200, 200, 200), nn__learning_rate_init=0.01, pca__n_components=10 \n",
      "[CV]  nn__hidden_layer_sizes=(200, 200, 200, 200, 200, 200), nn__learning_rate_init=0.01, pca__n_components=10, score=0.4576780371838687, total=   3.2s\n",
      "[CV] nn__hidden_layer_sizes=(200, 200, 200, 200, 200, 200), nn__learning_rate_init=0.01, pca__n_components=20 \n",
      "[CV]  nn__hidden_layer_sizes=(200, 200, 200, 200, 200, 200), nn__learning_rate_init=0.01, pca__n_components=20, score=0.4894383047364971, total=   1.3s\n",
      "[CV] nn__hidden_layer_sizes=(200, 200, 200, 200, 200, 200), nn__learning_rate_init=0.01, pca__n_components=20 \n",
      "[CV]  nn__hidden_layer_sizes=(200, 200, 200, 200, 200, 200), nn__learning_rate_init=0.01, pca__n_components=20, score=0.5216455841727377, total=   3.2s\n",
      "[CV] nn__hidden_layer_sizes=(200, 200, 200, 200, 200, 200), nn__learning_rate_init=0.01, pca__n_components=20 \n",
      "[CV]  nn__hidden_layer_sizes=(200, 200, 200, 200, 200, 200), nn__learning_rate_init=0.01, pca__n_components=20, score=0.4971340324762281, total=   3.1s\n",
      "[CV] nn__hidden_layer_sizes=(200, 200, 200, 200, 200, 200), nn__learning_rate_init=0.01, pca__n_components=30 \n",
      "[CV]  nn__hidden_layer_sizes=(200, 200, 200, 200, 200, 200), nn__learning_rate_init=0.01, pca__n_components=30, score=0.49552079643694547, total=   2.1s\n",
      "[CV] nn__hidden_layer_sizes=(200, 200, 200, 200, 200, 200), nn__learning_rate_init=0.01, pca__n_components=30 \n",
      "[CV]  nn__hidden_layer_sizes=(200, 200, 200, 200, 200, 200), nn__learning_rate_init=0.01, pca__n_components=30, score=0.5316261528126044, total=   2.5s\n",
      "[CV] nn__hidden_layer_sizes=(200, 200, 200, 200, 200, 200), nn__learning_rate_init=0.01, pca__n_components=30 \n",
      "[CV]  nn__hidden_layer_sizes=(200, 200, 200, 200, 200, 200), nn__learning_rate_init=0.01, pca__n_components=30, score=0.5318518187819063, total=   2.1s\n",
      "[CV] nn__hidden_layer_sizes=(200, 200, 200, 200, 200, 200), nn__learning_rate_init=0.01, pca__n_components=40 \n",
      "[CV]  nn__hidden_layer_sizes=(200, 200, 200, 200, 200, 200), nn__learning_rate_init=0.01, pca__n_components=40, score=0.3376329372563067, total=   6.3s\n",
      "[CV] nn__hidden_layer_sizes=(200, 200, 200, 200, 200, 200), nn__learning_rate_init=0.01, pca__n_components=40 \n",
      "[CV]  nn__hidden_layer_sizes=(200, 200, 200, 200, 200, 200), nn__learning_rate_init=0.01, pca__n_components=40, score=0.5357646437274689, total=   1.9s\n",
      "[CV] nn__hidden_layer_sizes=(200, 200, 200, 200, 200, 200), nn__learning_rate_init=0.01, pca__n_components=40 \n",
      "[CV]  nn__hidden_layer_sizes=(200, 200, 200, 200, 200, 200), nn__learning_rate_init=0.01, pca__n_components=40, score=0.5175600876005867, total=   2.3s\n",
      "[CV] nn__hidden_layer_sizes=(200, 200, 200, 200, 200, 200), nn__learning_rate_init=0.01, pca__n_components=50 \n",
      "[CV]  nn__hidden_layer_sizes=(200, 200, 200, 200, 200, 200), nn__learning_rate_init=0.01, pca__n_components=50, score=0.2972279795843671, total=   5.4s\n",
      "[CV] nn__hidden_layer_sizes=(200, 200, 200, 200, 200, 200), nn__learning_rate_init=0.01, pca__n_components=50 \n",
      "[CV]  nn__hidden_layer_sizes=(200, 200, 200, 200, 200, 200), nn__learning_rate_init=0.01, pca__n_components=50, score=0.49148804521049727, total=   4.1s\n",
      "[CV] nn__hidden_layer_sizes=(200, 200, 200, 200, 200, 200), nn__learning_rate_init=0.01, pca__n_components=50 \n",
      "[CV]  nn__hidden_layer_sizes=(200, 200, 200, 200, 200, 200), nn__learning_rate_init=0.01, pca__n_components=50, score=0.504449428230454, total=   1.3s\n",
      "[CV] nn__hidden_layer_sizes=(250, 250, 250, 250, 250, 250), nn__learning_rate_init=0.01, pca__n_components=10 \n",
      "[CV]  nn__hidden_layer_sizes=(250, 250, 250, 250, 250, 250), nn__learning_rate_init=0.01, pca__n_components=10, score=0.478390889029508, total=   2.1s\n",
      "[CV] nn__hidden_layer_sizes=(250, 250, 250, 250, 250, 250), nn__learning_rate_init=0.01, pca__n_components=10 \n",
      "[CV]  nn__hidden_layer_sizes=(250, 250, 250, 250, 250, 250), nn__learning_rate_init=0.01, pca__n_components=10, score=0.5591271876866956, total=   6.1s\n",
      "[CV] nn__hidden_layer_sizes=(250, 250, 250, 250, 250, 250), nn__learning_rate_init=0.01, pca__n_components=10 \n",
      "[CV]  nn__hidden_layer_sizes=(250, 250, 250, 250, 250, 250), nn__learning_rate_init=0.01, pca__n_components=10, score=0.45171734295550026, total=   4.4s\n",
      "[CV] nn__hidden_layer_sizes=(250, 250, 250, 250, 250, 250), nn__learning_rate_init=0.01, pca__n_components=20 \n",
      "[CV]  nn__hidden_layer_sizes=(250, 250, 250, 250, 250, 250), nn__learning_rate_init=0.01, pca__n_components=20, score=0.5001656202051656, total=   2.6s\n",
      "[CV] nn__hidden_layer_sizes=(250, 250, 250, 250, 250, 250), nn__learning_rate_init=0.01, pca__n_components=20 \n",
      "[CV]  nn__hidden_layer_sizes=(250, 250, 250, 250, 250, 250), nn__learning_rate_init=0.01, pca__n_components=20, score=0.50762300377941, total=   3.9s\n",
      "[CV] nn__hidden_layer_sizes=(250, 250, 250, 250, 250, 250), nn__learning_rate_init=0.01, pca__n_components=20 \n",
      "[CV]  nn__hidden_layer_sizes=(250, 250, 250, 250, 250, 250), nn__learning_rate_init=0.01, pca__n_components=20, score=0.4198792353266163, total=   7.2s\n",
      "[CV] nn__hidden_layer_sizes=(250, 250, 250, 250, 250, 250), nn__learning_rate_init=0.01, pca__n_components=30 \n",
      "[CV]  nn__hidden_layer_sizes=(250, 250, 250, 250, 250, 250), nn__learning_rate_init=0.01, pca__n_components=30, score=0.5022294100507129, total=   2.8s\n",
      "[CV] nn__hidden_layer_sizes=(250, 250, 250, 250, 250, 250), nn__learning_rate_init=0.01, pca__n_components=30 \n"
     ]
    },
    {
     "name": "stdout",
     "output_type": "stream",
     "text": [
      "[CV]  nn__hidden_layer_sizes=(250, 250, 250, 250, 250, 250), nn__learning_rate_init=0.01, pca__n_components=30, score=0.29498060378973323, total=   9.4s\n",
      "[CV] nn__hidden_layer_sizes=(250, 250, 250, 250, 250, 250), nn__learning_rate_init=0.01, pca__n_components=30 \n",
      "[CV]  nn__hidden_layer_sizes=(250, 250, 250, 250, 250, 250), nn__learning_rate_init=0.01, pca__n_components=30, score=0.29607607905664446, total=   6.2s\n",
      "[CV] nn__hidden_layer_sizes=(250, 250, 250, 250, 250, 250), nn__learning_rate_init=0.01, pca__n_components=40 \n",
      "[CV]  nn__hidden_layer_sizes=(250, 250, 250, 250, 250, 250), nn__learning_rate_init=0.01, pca__n_components=40, score=0.3496733742588455, total=   5.5s\n",
      "[CV] nn__hidden_layer_sizes=(250, 250, 250, 250, 250, 250), nn__learning_rate_init=0.01, pca__n_components=40 \n",
      "[CV]  nn__hidden_layer_sizes=(250, 250, 250, 250, 250, 250), nn__learning_rate_init=0.01, pca__n_components=40, score=0.5414360894406289, total=   2.9s\n",
      "[CV] nn__hidden_layer_sizes=(250, 250, 250, 250, 250, 250), nn__learning_rate_init=0.01, pca__n_components=40 \n",
      "[CV]  nn__hidden_layer_sizes=(250, 250, 250, 250, 250, 250), nn__learning_rate_init=0.01, pca__n_components=40, score=0.3162334251470189, total=   5.3s\n",
      "[CV] nn__hidden_layer_sizes=(250, 250, 250, 250, 250, 250), nn__learning_rate_init=0.01, pca__n_components=50 \n",
      "[CV]  nn__hidden_layer_sizes=(250, 250, 250, 250, 250, 250), nn__learning_rate_init=0.01, pca__n_components=50, score=0.4802948919768417, total=   2.0s\n",
      "[CV] nn__hidden_layer_sizes=(250, 250, 250, 250, 250, 250), nn__learning_rate_init=0.01, pca__n_components=50 \n",
      "[CV]  nn__hidden_layer_sizes=(250, 250, 250, 250, 250, 250), nn__learning_rate_init=0.01, pca__n_components=50, score=0.45367766388638386, total=   6.6s\n",
      "[CV] nn__hidden_layer_sizes=(250, 250, 250, 250, 250, 250), nn__learning_rate_init=0.01, pca__n_components=50 \n",
      "[CV]  nn__hidden_layer_sizes=(250, 250, 250, 250, 250, 250), nn__learning_rate_init=0.01, pca__n_components=50, score=0.24295785192369423, total=   7.6s\n",
      "[CV] nn__hidden_layer_sizes=(300, 300, 300, 300, 300, 300), nn__learning_rate_init=0.01, pca__n_components=10 \n",
      "[CV]  nn__hidden_layer_sizes=(300, 300, 300, 300, 300, 300), nn__learning_rate_init=0.01, pca__n_components=10, score=0.49537206430872227, total=   6.9s\n",
      "[CV] nn__hidden_layer_sizes=(300, 300, 300, 300, 300, 300), nn__learning_rate_init=0.01, pca__n_components=10 \n",
      "[CV]  nn__hidden_layer_sizes=(300, 300, 300, 300, 300, 300), nn__learning_rate_init=0.01, pca__n_components=10, score=0.520264553523961, total=   4.2s\n",
      "[CV] nn__hidden_layer_sizes=(300, 300, 300, 300, 300, 300), nn__learning_rate_init=0.01, pca__n_components=10 \n",
      "[CV]  nn__hidden_layer_sizes=(300, 300, 300, 300, 300, 300), nn__learning_rate_init=0.01, pca__n_components=10, score=0.42857362398010124, total=   2.7s\n",
      "[CV] nn__hidden_layer_sizes=(300, 300, 300, 300, 300, 300), nn__learning_rate_init=0.01, pca__n_components=20 \n",
      "[CV]  nn__hidden_layer_sizes=(300, 300, 300, 300, 300, 300), nn__learning_rate_init=0.01, pca__n_components=20, score=0.4655072878316574, total=   4.6s\n",
      "[CV] nn__hidden_layer_sizes=(300, 300, 300, 300, 300, 300), nn__learning_rate_init=0.01, pca__n_components=20 \n",
      "[CV]  nn__hidden_layer_sizes=(300, 300, 300, 300, 300, 300), nn__learning_rate_init=0.01, pca__n_components=20, score=0.5356787023038543, total=   4.6s\n",
      "[CV] nn__hidden_layer_sizes=(300, 300, 300, 300, 300, 300), nn__learning_rate_init=0.01, pca__n_components=20 \n",
      "[CV]  nn__hidden_layer_sizes=(300, 300, 300, 300, 300, 300), nn__learning_rate_init=0.01, pca__n_components=20, score=0.4003412328858087, total=   7.2s\n",
      "[CV] nn__hidden_layer_sizes=(300, 300, 300, 300, 300, 300), nn__learning_rate_init=0.01, pca__n_components=30 \n",
      "[CV]  nn__hidden_layer_sizes=(300, 300, 300, 300, 300, 300), nn__learning_rate_init=0.01, pca__n_components=30, score=0.44858976369287507, total=   2.0s\n",
      "[CV] nn__hidden_layer_sizes=(300, 300, 300, 300, 300, 300), nn__learning_rate_init=0.01, pca__n_components=30 \n",
      "[CV]  nn__hidden_layer_sizes=(300, 300, 300, 300, 300, 300), nn__learning_rate_init=0.01, pca__n_components=30, score=0.5095163566654703, total=   3.8s\n",
      "[CV] nn__hidden_layer_sizes=(300, 300, 300, 300, 300, 300), nn__learning_rate_init=0.01, pca__n_components=30 \n",
      "[CV]  nn__hidden_layer_sizes=(300, 300, 300, 300, 300, 300), nn__learning_rate_init=0.01, pca__n_components=30, score=0.4496498403261775, total=   4.3s\n",
      "[CV] nn__hidden_layer_sizes=(300, 300, 300, 300, 300, 300), nn__learning_rate_init=0.01, pca__n_components=40 \n",
      "[CV]  nn__hidden_layer_sizes=(300, 300, 300, 300, 300, 300), nn__learning_rate_init=0.01, pca__n_components=40, score=0.39230103564555663, total=   7.9s\n",
      "[CV] nn__hidden_layer_sizes=(300, 300, 300, 300, 300, 300), nn__learning_rate_init=0.01, pca__n_components=40 \n",
      "[CV]  nn__hidden_layer_sizes=(300, 300, 300, 300, 300, 300), nn__learning_rate_init=0.01, pca__n_components=40, score=0.5383462017260365, total=   2.7s\n",
      "[CV] nn__hidden_layer_sizes=(300, 300, 300, 300, 300, 300), nn__learning_rate_init=0.01, pca__n_components=40 \n",
      "[CV]  nn__hidden_layer_sizes=(300, 300, 300, 300, 300, 300), nn__learning_rate_init=0.01, pca__n_components=40, score=0.2986300475364667, total=  12.3s\n",
      "[CV] nn__hidden_layer_sizes=(300, 300, 300, 300, 300, 300), nn__learning_rate_init=0.01, pca__n_components=50 \n",
      "[CV]  nn__hidden_layer_sizes=(300, 300, 300, 300, 300, 300), nn__learning_rate_init=0.01, pca__n_components=50, score=0.344329081608835, total=  10.4s\n",
      "[CV] nn__hidden_layer_sizes=(300, 300, 300, 300, 300, 300), nn__learning_rate_init=0.01, pca__n_components=50 \n",
      "[CV]  nn__hidden_layer_sizes=(300, 300, 300, 300, 300, 300), nn__learning_rate_init=0.01, pca__n_components=50, score=0.5106155698370478, total=   8.0s\n",
      "[CV] nn__hidden_layer_sizes=(300, 300, 300, 300, 300, 300), nn__learning_rate_init=0.01, pca__n_components=50 \n",
      "[CV]  nn__hidden_layer_sizes=(300, 300, 300, 300, 300, 300), nn__learning_rate_init=0.01, pca__n_components=50, score=0.1932653831667941, total=   7.1s\n",
      "[CV] nn__hidden_layer_sizes=(350, 350, 350, 350, 350, 350), nn__learning_rate_init=0.01, pca__n_components=10 \n",
      "[CV]  nn__hidden_layer_sizes=(350, 350, 350, 350, 350, 350), nn__learning_rate_init=0.01, pca__n_components=10, score=0.46871228882070337, total=   8.6s\n",
      "[CV] nn__hidden_layer_sizes=(350, 350, 350, 350, 350, 350), nn__learning_rate_init=0.01, pca__n_components=10 \n",
      "[CV]  nn__hidden_layer_sizes=(350, 350, 350, 350, 350, 350), nn__learning_rate_init=0.01, pca__n_components=10, score=0.5305253521098376, total=   5.2s\n",
      "[CV] nn__hidden_layer_sizes=(350, 350, 350, 350, 350, 350), nn__learning_rate_init=0.01, pca__n_components=10 \n",
      "[CV]  nn__hidden_layer_sizes=(350, 350, 350, 350, 350, 350), nn__learning_rate_init=0.01, pca__n_components=10, score=0.43588135820087126, total=   5.7s\n",
      "[CV] nn__hidden_layer_sizes=(350, 350, 350, 350, 350, 350), nn__learning_rate_init=0.01, pca__n_components=20 \n",
      "[CV]  nn__hidden_layer_sizes=(350, 350, 350, 350, 350, 350), nn__learning_rate_init=0.01, pca__n_components=20, score=0.5007703270147469, total=   4.1s\n",
      "[CV] nn__hidden_layer_sizes=(350, 350, 350, 350, 350, 350), nn__learning_rate_init=0.01, pca__n_components=20 \n",
      "[CV]  nn__hidden_layer_sizes=(350, 350, 350, 350, 350, 350), nn__learning_rate_init=0.01, pca__n_components=20, score=0.5038691799910517, total=   4.1s\n",
      "[CV] nn__hidden_layer_sizes=(350, 350, 350, 350, 350, 350), nn__learning_rate_init=0.01, pca__n_components=20 \n",
      "[CV]  nn__hidden_layer_sizes=(350, 350, 350, 350, 350, 350), nn__learning_rate_init=0.01, pca__n_components=20, score=0.35538552527712697, total=   7.5s\n",
      "[CV] nn__hidden_layer_sizes=(350, 350, 350, 350, 350, 350), nn__learning_rate_init=0.01, pca__n_components=30 \n",
      "[CV]  nn__hidden_layer_sizes=(350, 350, 350, 350, 350, 350), nn__learning_rate_init=0.01, pca__n_components=30, score=0.46240053064233966, total=   8.8s\n",
      "[CV] nn__hidden_layer_sizes=(350, 350, 350, 350, 350, 350), nn__learning_rate_init=0.01, pca__n_components=30 \n",
      "[CV]  nn__hidden_layer_sizes=(350, 350, 350, 350, 350, 350), nn__learning_rate_init=0.01, pca__n_components=30, score=0.48989913216077263, total=   2.3s\n",
      "[CV] nn__hidden_layer_sizes=(350, 350, 350, 350, 350, 350), nn__learning_rate_init=0.01, pca__n_components=30 \n",
      "[CV]  nn__hidden_layer_sizes=(350, 350, 350, 350, 350, 350), nn__learning_rate_init=0.01, pca__n_components=30, score=0.5374855697373304, total=   4.1s\n",
      "[CV] nn__hidden_layer_sizes=(350, 350, 350, 350, 350, 350), nn__learning_rate_init=0.01, pca__n_components=40 \n"
     ]
    },
    {
     "name": "stdout",
     "output_type": "stream",
     "text": [
      "[CV]  nn__hidden_layer_sizes=(350, 350, 350, 350, 350, 350), nn__learning_rate_init=0.01, pca__n_components=40, score=0.39048833124444904, total=   9.4s\n",
      "[CV] nn__hidden_layer_sizes=(350, 350, 350, 350, 350, 350), nn__learning_rate_init=0.01, pca__n_components=40 \n",
      "[CV]  nn__hidden_layer_sizes=(350, 350, 350, 350, 350, 350), nn__learning_rate_init=0.01, pca__n_components=40, score=0.40524422200866517, total=   3.9s\n",
      "[CV] nn__hidden_layer_sizes=(350, 350, 350, 350, 350, 350), nn__learning_rate_init=0.01, pca__n_components=40 \n",
      "[CV]  nn__hidden_layer_sizes=(350, 350, 350, 350, 350, 350), nn__learning_rate_init=0.01, pca__n_components=40, score=0.18444590658087656, total=   9.0s\n",
      "[CV] nn__hidden_layer_sizes=(350, 350, 350, 350, 350, 350), nn__learning_rate_init=0.01, pca__n_components=50 \n",
      "[CV]  nn__hidden_layer_sizes=(350, 350, 350, 350, 350, 350), nn__learning_rate_init=0.01, pca__n_components=50, score=0.3716605595995812, total=   7.7s\n",
      "[CV] nn__hidden_layer_sizes=(350, 350, 350, 350, 350, 350), nn__learning_rate_init=0.01, pca__n_components=50 \n",
      "[CV]  nn__hidden_layer_sizes=(350, 350, 350, 350, 350, 350), nn__learning_rate_init=0.01, pca__n_components=50, score=0.5037965987440558, total=   4.6s\n",
      "[CV] nn__hidden_layer_sizes=(350, 350, 350, 350, 350, 350), nn__learning_rate_init=0.01, pca__n_components=50 \n",
      "[CV]  nn__hidden_layer_sizes=(350, 350, 350, 350, 350, 350), nn__learning_rate_init=0.01, pca__n_components=50, score=0.48273482663138056, total=   2.8s\n",
      "[CV] nn__hidden_layer_sizes=(50, 50, 50, 50, 50, 50, 50), nn__learning_rate_init=0.01, pca__n_components=10 \n",
      "[CV]  nn__hidden_layer_sizes=(50, 50, 50, 50, 50, 50, 50), nn__learning_rate_init=0.01, pca__n_components=10, score=0.4826427032139393, total=   0.9s\n",
      "[CV] nn__hidden_layer_sizes=(50, 50, 50, 50, 50, 50, 50), nn__learning_rate_init=0.01, pca__n_components=10 \n",
      "[CV]  nn__hidden_layer_sizes=(50, 50, 50, 50, 50, 50, 50), nn__learning_rate_init=0.01, pca__n_components=10, score=0.5298050827647612, total=   1.2s\n",
      "[CV] nn__hidden_layer_sizes=(50, 50, 50, 50, 50, 50, 50), nn__learning_rate_init=0.01, pca__n_components=10 \n",
      "[CV]  nn__hidden_layer_sizes=(50, 50, 50, 50, 50, 50, 50), nn__learning_rate_init=0.01, pca__n_components=10, score=0.49580045584814203, total=   0.9s\n",
      "[CV] nn__hidden_layer_sizes=(50, 50, 50, 50, 50, 50, 50), nn__learning_rate_init=0.01, pca__n_components=20 \n",
      "[CV]  nn__hidden_layer_sizes=(50, 50, 50, 50, 50, 50, 50), nn__learning_rate_init=0.01, pca__n_components=20, score=0.5069532416663562, total=   1.0s\n",
      "[CV] nn__hidden_layer_sizes=(50, 50, 50, 50, 50, 50, 50), nn__learning_rate_init=0.01, pca__n_components=20 \n",
      "[CV]  nn__hidden_layer_sizes=(50, 50, 50, 50, 50, 50, 50), nn__learning_rate_init=0.01, pca__n_components=20, score=0.5186725673077967, total=   0.7s\n",
      "[CV] nn__hidden_layer_sizes=(50, 50, 50, 50, 50, 50, 50), nn__learning_rate_init=0.01, pca__n_components=20 \n",
      "[CV]  nn__hidden_layer_sizes=(50, 50, 50, 50, 50, 50, 50), nn__learning_rate_init=0.01, pca__n_components=20, score=0.49789114089276465, total=   0.5s\n",
      "[CV] nn__hidden_layer_sizes=(50, 50, 50, 50, 50, 50, 50), nn__learning_rate_init=0.01, pca__n_components=30 \n",
      "[CV]  nn__hidden_layer_sizes=(50, 50, 50, 50, 50, 50, 50), nn__learning_rate_init=0.01, pca__n_components=30, score=0.22051205970325483, total=   3.4s\n",
      "[CV] nn__hidden_layer_sizes=(50, 50, 50, 50, 50, 50, 50), nn__learning_rate_init=0.01, pca__n_components=30 \n",
      "[CV]  nn__hidden_layer_sizes=(50, 50, 50, 50, 50, 50, 50), nn__learning_rate_init=0.01, pca__n_components=30, score=0.5258405434874442, total=   1.0s\n",
      "[CV] nn__hidden_layer_sizes=(50, 50, 50, 50, 50, 50, 50), nn__learning_rate_init=0.01, pca__n_components=30 \n",
      "[CV]  nn__hidden_layer_sizes=(50, 50, 50, 50, 50, 50, 50), nn__learning_rate_init=0.01, pca__n_components=30, score=0.5035815367586081, total=   0.7s\n",
      "[CV] nn__hidden_layer_sizes=(50, 50, 50, 50, 50, 50, 50), nn__learning_rate_init=0.01, pca__n_components=40 \n",
      "[CV]  nn__hidden_layer_sizes=(50, 50, 50, 50, 50, 50, 50), nn__learning_rate_init=0.01, pca__n_components=40, score=0.2715276397788384, total=   2.4s\n",
      "[CV] nn__hidden_layer_sizes=(50, 50, 50, 50, 50, 50, 50), nn__learning_rate_init=0.01, pca__n_components=40 \n",
      "[CV]  nn__hidden_layer_sizes=(50, 50, 50, 50, 50, 50, 50), nn__learning_rate_init=0.01, pca__n_components=40, score=0.56459945101141, total=   1.2s\n",
      "[CV] nn__hidden_layer_sizes=(50, 50, 50, 50, 50, 50, 50), nn__learning_rate_init=0.01, pca__n_components=40 \n",
      "[CV]  nn__hidden_layer_sizes=(50, 50, 50, 50, 50, 50, 50), nn__learning_rate_init=0.01, pca__n_components=40, score=0.19844759620980623, total=   2.2s\n",
      "[CV] nn__hidden_layer_sizes=(50, 50, 50, 50, 50, 50, 50), nn__learning_rate_init=0.01, pca__n_components=50 \n",
      "[CV]  nn__hidden_layer_sizes=(50, 50, 50, 50, 50, 50, 50), nn__learning_rate_init=0.01, pca__n_components=50, score=0.2670916177248658, total=   2.3s\n",
      "[CV] nn__hidden_layer_sizes=(50, 50, 50, 50, 50, 50, 50), nn__learning_rate_init=0.01, pca__n_components=50 \n",
      "[CV]  nn__hidden_layer_sizes=(50, 50, 50, 50, 50, 50, 50), nn__learning_rate_init=0.01, pca__n_components=50, score=0.4036042317835483, total=   2.4s\n",
      "[CV] nn__hidden_layer_sizes=(50, 50, 50, 50, 50, 50, 50), nn__learning_rate_init=0.01, pca__n_components=50 \n",
      "[CV]  nn__hidden_layer_sizes=(50, 50, 50, 50, 50, 50, 50), nn__learning_rate_init=0.01, pca__n_components=50, score=0.17861889426977384, total=   2.1s\n",
      "[CV] nn__hidden_layer_sizes=(100, 100, 100, 100, 100, 100, 100), nn__learning_rate_init=0.01, pca__n_components=10 \n",
      "[CV]  nn__hidden_layer_sizes=(100, 100, 100, 100, 100, 100, 100), nn__learning_rate_init=0.01, pca__n_components=10, score=0.4934948454360337, total=   1.4s\n",
      "[CV] nn__hidden_layer_sizes=(100, 100, 100, 100, 100, 100, 100), nn__learning_rate_init=0.01, pca__n_components=10 \n",
      "[CV]  nn__hidden_layer_sizes=(100, 100, 100, 100, 100, 100, 100), nn__learning_rate_init=0.01, pca__n_components=10, score=0.5466701876513507, total=   1.6s\n",
      "[CV] nn__hidden_layer_sizes=(100, 100, 100, 100, 100, 100, 100), nn__learning_rate_init=0.01, pca__n_components=10 \n",
      "[CV]  nn__hidden_layer_sizes=(100, 100, 100, 100, 100, 100, 100), nn__learning_rate_init=0.01, pca__n_components=10, score=0.47579061925120625, total=   1.6s\n",
      "[CV] nn__hidden_layer_sizes=(100, 100, 100, 100, 100, 100, 100), nn__learning_rate_init=0.01, pca__n_components=20 \n",
      "[CV]  nn__hidden_layer_sizes=(100, 100, 100, 100, 100, 100, 100), nn__learning_rate_init=0.01, pca__n_components=20, score=0.4469773802338265, total=   1.1s\n",
      "[CV] nn__hidden_layer_sizes=(100, 100, 100, 100, 100, 100, 100), nn__learning_rate_init=0.01, pca__n_components=20 \n",
      "[CV]  nn__hidden_layer_sizes=(100, 100, 100, 100, 100, 100, 100), nn__learning_rate_init=0.01, pca__n_components=20, score=0.5069855709508071, total=   1.7s\n",
      "[CV] nn__hidden_layer_sizes=(100, 100, 100, 100, 100, 100, 100), nn__learning_rate_init=0.01, pca__n_components=20 \n",
      "[CV]  nn__hidden_layer_sizes=(100, 100, 100, 100, 100, 100, 100), nn__learning_rate_init=0.01, pca__n_components=20, score=0.48274112099353284, total=   2.3s\n",
      "[CV] nn__hidden_layer_sizes=(100, 100, 100, 100, 100, 100, 100), nn__learning_rate_init=0.01, pca__n_components=30 \n",
      "[CV]  nn__hidden_layer_sizes=(100, 100, 100, 100, 100, 100, 100), nn__learning_rate_init=0.01, pca__n_components=30, score=0.5008195689397835, total=   1.3s\n",
      "[CV] nn__hidden_layer_sizes=(100, 100, 100, 100, 100, 100, 100), nn__learning_rate_init=0.01, pca__n_components=30 \n",
      "[CV]  nn__hidden_layer_sizes=(100, 100, 100, 100, 100, 100, 100), nn__learning_rate_init=0.01, pca__n_components=30, score=0.49953505079602056, total=   0.8s\n",
      "[CV] nn__hidden_layer_sizes=(100, 100, 100, 100, 100, 100, 100), nn__learning_rate_init=0.01, pca__n_components=30 \n",
      "[CV]  nn__hidden_layer_sizes=(100, 100, 100, 100, 100, 100, 100), nn__learning_rate_init=0.01, pca__n_components=30, score=0.05361494802133393, total=   4.4s\n",
      "[CV] nn__hidden_layer_sizes=(100, 100, 100, 100, 100, 100, 100), nn__learning_rate_init=0.01, pca__n_components=40 \n",
      "[CV]  nn__hidden_layer_sizes=(100, 100, 100, 100, 100, 100, 100), nn__learning_rate_init=0.01, pca__n_components=40, score=0.31389199675748514, total=   3.4s\n",
      "[CV] nn__hidden_layer_sizes=(100, 100, 100, 100, 100, 100, 100), nn__learning_rate_init=0.01, pca__n_components=40 \n"
     ]
    },
    {
     "name": "stdout",
     "output_type": "stream",
     "text": [
      "[CV]  nn__hidden_layer_sizes=(100, 100, 100, 100, 100, 100, 100), nn__learning_rate_init=0.01, pca__n_components=40, score=0.43923119507314035, total=   3.3s\n",
      "[CV] nn__hidden_layer_sizes=(100, 100, 100, 100, 100, 100, 100), nn__learning_rate_init=0.01, pca__n_components=40 \n",
      "[CV]  nn__hidden_layer_sizes=(100, 100, 100, 100, 100, 100, 100), nn__learning_rate_init=0.01, pca__n_components=40, score=0.405452305648187, total=   2.6s\n",
      "[CV] nn__hidden_layer_sizes=(100, 100, 100, 100, 100, 100, 100), nn__learning_rate_init=0.01, pca__n_components=50 \n",
      "[CV]  nn__hidden_layer_sizes=(100, 100, 100, 100, 100, 100, 100), nn__learning_rate_init=0.01, pca__n_components=50, score=0.3860756109002995, total=   3.7s\n",
      "[CV] nn__hidden_layer_sizes=(100, 100, 100, 100, 100, 100, 100), nn__learning_rate_init=0.01, pca__n_components=50 \n",
      "[CV]  nn__hidden_layer_sizes=(100, 100, 100, 100, 100, 100, 100), nn__learning_rate_init=0.01, pca__n_components=50, score=0.5123482719958994, total=   2.8s\n",
      "[CV] nn__hidden_layer_sizes=(100, 100, 100, 100, 100, 100, 100), nn__learning_rate_init=0.01, pca__n_components=50 \n",
      "[CV]  nn__hidden_layer_sizes=(100, 100, 100, 100, 100, 100, 100), nn__learning_rate_init=0.01, pca__n_components=50, score=0.2540172579478852, total=   3.6s\n",
      "[CV] nn__hidden_layer_sizes=(150, 150, 150, 150, 150, 150, 150), nn__learning_rate_init=0.01, pca__n_components=10 \n",
      "[CV]  nn__hidden_layer_sizes=(150, 150, 150, 150, 150, 150, 150), nn__learning_rate_init=0.01, pca__n_components=10, score=0.4724156132308498, total=   1.8s\n",
      "[CV] nn__hidden_layer_sizes=(150, 150, 150, 150, 150, 150, 150), nn__learning_rate_init=0.01, pca__n_components=10 \n",
      "[CV]  nn__hidden_layer_sizes=(150, 150, 150, 150, 150, 150, 150), nn__learning_rate_init=0.01, pca__n_components=10, score=0.5351657065446591, total=   1.6s\n",
      "[CV] nn__hidden_layer_sizes=(150, 150, 150, 150, 150, 150, 150), nn__learning_rate_init=0.01, pca__n_components=10 \n",
      "[CV]  nn__hidden_layer_sizes=(150, 150, 150, 150, 150, 150, 150), nn__learning_rate_init=0.01, pca__n_components=10, score=0.4599394261869384, total=   2.3s\n",
      "[CV] nn__hidden_layer_sizes=(150, 150, 150, 150, 150, 150, 150), nn__learning_rate_init=0.01, pca__n_components=20 \n",
      "[CV]  nn__hidden_layer_sizes=(150, 150, 150, 150, 150, 150, 150), nn__learning_rate_init=0.01, pca__n_components=20, score=0.4607761295290216, total=   2.5s\n",
      "[CV] nn__hidden_layer_sizes=(150, 150, 150, 150, 150, 150, 150), nn__learning_rate_init=0.01, pca__n_components=20 \n",
      "[CV]  nn__hidden_layer_sizes=(150, 150, 150, 150, 150, 150, 150), nn__learning_rate_init=0.01, pca__n_components=20, score=0.5280723773870093, total=   1.7s\n",
      "[CV] nn__hidden_layer_sizes=(150, 150, 150, 150, 150, 150, 150), nn__learning_rate_init=0.01, pca__n_components=20 \n",
      "[CV]  nn__hidden_layer_sizes=(150, 150, 150, 150, 150, 150, 150), nn__learning_rate_init=0.01, pca__n_components=20, score=0.5182275495318038, total=   1.2s\n",
      "[CV] nn__hidden_layer_sizes=(150, 150, 150, 150, 150, 150, 150), nn__learning_rate_init=0.01, pca__n_components=30 \n",
      "[CV]  nn__hidden_layer_sizes=(150, 150, 150, 150, 150, 150, 150), nn__learning_rate_init=0.01, pca__n_components=30, score=0.253677360925775, total=   5.7s\n",
      "[CV] nn__hidden_layer_sizes=(150, 150, 150, 150, 150, 150, 150), nn__learning_rate_init=0.01, pca__n_components=30 \n",
      "[CV]  nn__hidden_layer_sizes=(150, 150, 150, 150, 150, 150, 150), nn__learning_rate_init=0.01, pca__n_components=30, score=0.57100983084821, total=   2.2s\n",
      "[CV] nn__hidden_layer_sizes=(150, 150, 150, 150, 150, 150, 150), nn__learning_rate_init=0.01, pca__n_components=30 \n",
      "[CV]  nn__hidden_layer_sizes=(150, 150, 150, 150, 150, 150, 150), nn__learning_rate_init=0.01, pca__n_components=30, score=0.22041306990043985, total=   5.5s\n",
      "[CV] nn__hidden_layer_sizes=(150, 150, 150, 150, 150, 150, 150), nn__learning_rate_init=0.01, pca__n_components=40 \n",
      "[CV]  nn__hidden_layer_sizes=(150, 150, 150, 150, 150, 150, 150), nn__learning_rate_init=0.01, pca__n_components=40, score=0.4347945544916897, total=   2.8s\n",
      "[CV] nn__hidden_layer_sizes=(150, 150, 150, 150, 150, 150, 150), nn__learning_rate_init=0.01, pca__n_components=40 \n",
      "[CV]  nn__hidden_layer_sizes=(150, 150, 150, 150, 150, 150, 150), nn__learning_rate_init=0.01, pca__n_components=40, score=0.4644996253246827, total=   5.6s\n",
      "[CV] nn__hidden_layer_sizes=(150, 150, 150, 150, 150, 150, 150), nn__learning_rate_init=0.01, pca__n_components=40 \n",
      "[CV]  nn__hidden_layer_sizes=(150, 150, 150, 150, 150, 150, 150), nn__learning_rate_init=0.01, pca__n_components=40, score=0.3544691408428462, total=   3.9s\n",
      "[CV] nn__hidden_layer_sizes=(150, 150, 150, 150, 150, 150, 150), nn__learning_rate_init=0.01, pca__n_components=50 \n",
      "[CV]  nn__hidden_layer_sizes=(150, 150, 150, 150, 150, 150, 150), nn__learning_rate_init=0.01, pca__n_components=50, score=0.40257906908472485, total=   3.4s\n",
      "[CV] nn__hidden_layer_sizes=(150, 150, 150, 150, 150, 150, 150), nn__learning_rate_init=0.01, pca__n_components=50 \n",
      "[CV]  nn__hidden_layer_sizes=(150, 150, 150, 150, 150, 150, 150), nn__learning_rate_init=0.01, pca__n_components=50, score=0.5303946472226333, total=   1.5s\n",
      "[CV] nn__hidden_layer_sizes=(150, 150, 150, 150, 150, 150, 150), nn__learning_rate_init=0.01, pca__n_components=50 \n",
      "[CV]  nn__hidden_layer_sizes=(150, 150, 150, 150, 150, 150, 150), nn__learning_rate_init=0.01, pca__n_components=50, score=0.17713589510330674, total=   3.4s\n",
      "[CV] nn__hidden_layer_sizes=(200, 200, 200, 200, 200, 200, 200), nn__learning_rate_init=0.01, pca__n_components=10 \n",
      "[CV]  nn__hidden_layer_sizes=(200, 200, 200, 200, 200, 200, 200), nn__learning_rate_init=0.01, pca__n_components=10, score=0.37064586431851543, total=   2.9s\n",
      "[CV] nn__hidden_layer_sizes=(200, 200, 200, 200, 200, 200, 200), nn__learning_rate_init=0.01, pca__n_components=10 \n",
      "[CV]  nn__hidden_layer_sizes=(200, 200, 200, 200, 200, 200, 200), nn__learning_rate_init=0.01, pca__n_components=10, score=0.5092801334632423, total=   4.4s\n",
      "[CV] nn__hidden_layer_sizes=(200, 200, 200, 200, 200, 200, 200), nn__learning_rate_init=0.01, pca__n_components=10 \n",
      "[CV]  nn__hidden_layer_sizes=(200, 200, 200, 200, 200, 200, 200), nn__learning_rate_init=0.01, pca__n_components=10, score=0.4599226437391303, total=   3.4s\n",
      "[CV] nn__hidden_layer_sizes=(200, 200, 200, 200, 200, 200, 200), nn__learning_rate_init=0.01, pca__n_components=20 \n",
      "[CV]  nn__hidden_layer_sizes=(200, 200, 200, 200, 200, 200, 200), nn__learning_rate_init=0.01, pca__n_components=20, score=0.48737685188521707, total=   1.7s\n",
      "[CV] nn__hidden_layer_sizes=(200, 200, 200, 200, 200, 200, 200), nn__learning_rate_init=0.01, pca__n_components=20 \n",
      "[CV]  nn__hidden_layer_sizes=(200, 200, 200, 200, 200, 200, 200), nn__learning_rate_init=0.01, pca__n_components=20, score=0.4766064374573389, total=   2.6s\n",
      "[CV] nn__hidden_layer_sizes=(200, 200, 200, 200, 200, 200, 200), nn__learning_rate_init=0.01, pca__n_components=20 \n",
      "[CV]  nn__hidden_layer_sizes=(200, 200, 200, 200, 200, 200, 200), nn__learning_rate_init=0.01, pca__n_components=20, score=0.41474826228350536, total=   5.4s\n",
      "[CV] nn__hidden_layer_sizes=(200, 200, 200, 200, 200, 200, 200), nn__learning_rate_init=0.01, pca__n_components=30 \n",
      "[CV]  nn__hidden_layer_sizes=(200, 200, 200, 200, 200, 200, 200), nn__learning_rate_init=0.01, pca__n_components=30, score=0.5123622886838831, total=   2.3s\n",
      "[CV] nn__hidden_layer_sizes=(200, 200, 200, 200, 200, 200, 200), nn__learning_rate_init=0.01, pca__n_components=30 \n",
      "[CV]  nn__hidden_layer_sizes=(200, 200, 200, 200, 200, 200, 200), nn__learning_rate_init=0.01, pca__n_components=30, score=0.4638780338973355, total=   3.9s\n",
      "[CV] nn__hidden_layer_sizes=(200, 200, 200, 200, 200, 200, 200), nn__learning_rate_init=0.01, pca__n_components=30 \n",
      "[CV]  nn__hidden_layer_sizes=(200, 200, 200, 200, 200, 200, 200), nn__learning_rate_init=0.01, pca__n_components=30, score=0.46610708681388646, total=   1.4s\n",
      "[CV] nn__hidden_layer_sizes=(200, 200, 200, 200, 200, 200, 200), nn__learning_rate_init=0.01, pca__n_components=40 \n",
      "[CV]  nn__hidden_layer_sizes=(200, 200, 200, 200, 200, 200, 200), nn__learning_rate_init=0.01, pca__n_components=40, score=0.4793074131251799, total=   3.2s\n",
      "[CV] nn__hidden_layer_sizes=(200, 200, 200, 200, 200, 200, 200), nn__learning_rate_init=0.01, pca__n_components=40 \n"
     ]
    },
    {
     "name": "stdout",
     "output_type": "stream",
     "text": [
      "[CV]  nn__hidden_layer_sizes=(200, 200, 200, 200, 200, 200, 200), nn__learning_rate_init=0.01, pca__n_components=40, score=0.5473541592055267, total=   3.6s\n",
      "[CV] nn__hidden_layer_sizes=(200, 200, 200, 200, 200, 200, 200), nn__learning_rate_init=0.01, pca__n_components=40 \n",
      "[CV]  nn__hidden_layer_sizes=(200, 200, 200, 200, 200, 200, 200), nn__learning_rate_init=0.01, pca__n_components=40, score=0.47907166466341267, total=   1.6s\n",
      "[CV] nn__hidden_layer_sizes=(200, 200, 200, 200, 200, 200, 200), nn__learning_rate_init=0.01, pca__n_components=50 \n",
      "[CV]  nn__hidden_layer_sizes=(200, 200, 200, 200, 200, 200, 200), nn__learning_rate_init=0.01, pca__n_components=50, score=0.47364309781082936, total=   2.6s\n",
      "[CV] nn__hidden_layer_sizes=(200, 200, 200, 200, 200, 200, 200), nn__learning_rate_init=0.01, pca__n_components=50 \n",
      "[CV]  nn__hidden_layer_sizes=(200, 200, 200, 200, 200, 200, 200), nn__learning_rate_init=0.01, pca__n_components=50, score=0.45943031231607123, total=   2.6s\n",
      "[CV] nn__hidden_layer_sizes=(200, 200, 200, 200, 200, 200, 200), nn__learning_rate_init=0.01, pca__n_components=50 \n",
      "[CV]  nn__hidden_layer_sizes=(200, 200, 200, 200, 200, 200, 200), nn__learning_rate_init=0.01, pca__n_components=50, score=0.3041902169632297, total=   7.0s\n",
      "[CV] nn__hidden_layer_sizes=(250, 250, 250, 250, 250, 250, 250), nn__learning_rate_init=0.01, pca__n_components=10 \n",
      "[CV]  nn__hidden_layer_sizes=(250, 250, 250, 250, 250, 250, 250), nn__learning_rate_init=0.01, pca__n_components=10, score=0.5018600608545838, total=   5.6s\n",
      "[CV] nn__hidden_layer_sizes=(250, 250, 250, 250, 250, 250, 250), nn__learning_rate_init=0.01, pca__n_components=10 \n",
      "[CV]  nn__hidden_layer_sizes=(250, 250, 250, 250, 250, 250, 250), nn__learning_rate_init=0.01, pca__n_components=10, score=0.4034906328922093, total=   4.7s\n",
      "[CV] nn__hidden_layer_sizes=(250, 250, 250, 250, 250, 250, 250), nn__learning_rate_init=0.01, pca__n_components=10 \n",
      "[CV]  nn__hidden_layer_sizes=(250, 250, 250, 250, 250, 250, 250), nn__learning_rate_init=0.01, pca__n_components=10, score=0.49038106979880824, total=   2.1s\n",
      "[CV] nn__hidden_layer_sizes=(250, 250, 250, 250, 250, 250, 250), nn__learning_rate_init=0.01, pca__n_components=20 \n",
      "[CV]  nn__hidden_layer_sizes=(250, 250, 250, 250, 250, 250, 250), nn__learning_rate_init=0.01, pca__n_components=20, score=0.40938734916908803, total=   1.9s\n",
      "[CV] nn__hidden_layer_sizes=(250, 250, 250, 250, 250, 250, 250), nn__learning_rate_init=0.01, pca__n_components=20 \n",
      "[CV]  nn__hidden_layer_sizes=(250, 250, 250, 250, 250, 250, 250), nn__learning_rate_init=0.01, pca__n_components=20, score=0.5281418903653072, total=   8.4s\n",
      "[CV] nn__hidden_layer_sizes=(250, 250, 250, 250, 250, 250, 250), nn__learning_rate_init=0.01, pca__n_components=20 \n",
      "[CV]  nn__hidden_layer_sizes=(250, 250, 250, 250, 250, 250, 250), nn__learning_rate_init=0.01, pca__n_components=20, score=0.4790528948431956, total=   1.9s\n",
      "[CV] nn__hidden_layer_sizes=(250, 250, 250, 250, 250, 250, 250), nn__learning_rate_init=0.01, pca__n_components=30 \n",
      "[CV]  nn__hidden_layer_sizes=(250, 250, 250, 250, 250, 250, 250), nn__learning_rate_init=0.01, pca__n_components=30, score=0.4511566345217296, total=   5.3s\n",
      "[CV] nn__hidden_layer_sizes=(250, 250, 250, 250, 250, 250, 250), nn__learning_rate_init=0.01, pca__n_components=30 \n",
      "[CV]  nn__hidden_layer_sizes=(250, 250, 250, 250, 250, 250, 250), nn__learning_rate_init=0.01, pca__n_components=30, score=0.5337683737758134, total=   2.7s\n",
      "[CV] nn__hidden_layer_sizes=(250, 250, 250, 250, 250, 250, 250), nn__learning_rate_init=0.01, pca__n_components=30 \n",
      "[CV]  nn__hidden_layer_sizes=(250, 250, 250, 250, 250, 250, 250), nn__learning_rate_init=0.01, pca__n_components=30, score=0.4597136686621317, total=   3.3s\n",
      "[CV] nn__hidden_layer_sizes=(250, 250, 250, 250, 250, 250, 250), nn__learning_rate_init=0.01, pca__n_components=40 \n",
      "[CV]  nn__hidden_layer_sizes=(250, 250, 250, 250, 250, 250, 250), nn__learning_rate_init=0.01, pca__n_components=40, score=0.32878850332152376, total=   9.0s\n",
      "[CV] nn__hidden_layer_sizes=(250, 250, 250, 250, 250, 250, 250), nn__learning_rate_init=0.01, pca__n_components=40 \n",
      "[CV]  nn__hidden_layer_sizes=(250, 250, 250, 250, 250, 250, 250), nn__learning_rate_init=0.01, pca__n_components=40, score=0.5376793079328308, total=   6.0s\n",
      "[CV] nn__hidden_layer_sizes=(250, 250, 250, 250, 250, 250, 250), nn__learning_rate_init=0.01, pca__n_components=40 \n",
      "[CV]  nn__hidden_layer_sizes=(250, 250, 250, 250, 250, 250, 250), nn__learning_rate_init=0.01, pca__n_components=40, score=0.3216248806551535, total=   2.7s\n",
      "[CV] nn__hidden_layer_sizes=(250, 250, 250, 250, 250, 250, 250), nn__learning_rate_init=0.01, pca__n_components=50 \n",
      "[CV]  nn__hidden_layer_sizes=(250, 250, 250, 250, 250, 250, 250), nn__learning_rate_init=0.01, pca__n_components=50, score=0.20198884699942277, total=   2.8s\n",
      "[CV] nn__hidden_layer_sizes=(250, 250, 250, 250, 250, 250, 250), nn__learning_rate_init=0.01, pca__n_components=50 \n",
      "[CV]  nn__hidden_layer_sizes=(250, 250, 250, 250, 250, 250, 250), nn__learning_rate_init=0.01, pca__n_components=50, score=0.5341051467153084, total=   8.1s\n",
      "[CV] nn__hidden_layer_sizes=(250, 250, 250, 250, 250, 250, 250), nn__learning_rate_init=0.01, pca__n_components=50 \n",
      "[CV]  nn__hidden_layer_sizes=(250, 250, 250, 250, 250, 250, 250), nn__learning_rate_init=0.01, pca__n_components=50, score=0.29438898715949957, total=   8.4s\n",
      "[CV] nn__hidden_layer_sizes=(300, 300, 300, 300, 300, 300, 300), nn__learning_rate_init=0.01, pca__n_components=10 \n",
      "[CV]  nn__hidden_layer_sizes=(300, 300, 300, 300, 300, 300, 300), nn__learning_rate_init=0.01, pca__n_components=10, score=0.4519911206403161, total=   3.9s\n",
      "[CV] nn__hidden_layer_sizes=(300, 300, 300, 300, 300, 300, 300), nn__learning_rate_init=0.01, pca__n_components=10 \n",
      "[CV]  nn__hidden_layer_sizes=(300, 300, 300, 300, 300, 300, 300), nn__learning_rate_init=0.01, pca__n_components=10, score=0.4636647228330104, total=   2.2s\n",
      "[CV] nn__hidden_layer_sizes=(300, 300, 300, 300, 300, 300, 300), nn__learning_rate_init=0.01, pca__n_components=10 \n",
      "[CV]  nn__hidden_layer_sizes=(300, 300, 300, 300, 300, 300, 300), nn__learning_rate_init=0.01, pca__n_components=10, score=0.3646616679676047, total=   8.4s\n",
      "[CV] nn__hidden_layer_sizes=(300, 300, 300, 300, 300, 300, 300), nn__learning_rate_init=0.01, pca__n_components=20 \n",
      "[CV]  nn__hidden_layer_sizes=(300, 300, 300, 300, 300, 300, 300), nn__learning_rate_init=0.01, pca__n_components=20, score=0.47964371848646636, total=   9.7s\n",
      "[CV] nn__hidden_layer_sizes=(300, 300, 300, 300, 300, 300, 300), nn__learning_rate_init=0.01, pca__n_components=20 \n",
      "[CV]  nn__hidden_layer_sizes=(300, 300, 300, 300, 300, 300, 300), nn__learning_rate_init=0.01, pca__n_components=20, score=0.4633753593354176, total=   9.7s\n",
      "[CV] nn__hidden_layer_sizes=(300, 300, 300, 300, 300, 300, 300), nn__learning_rate_init=0.01, pca__n_components=20 \n",
      "[CV]  nn__hidden_layer_sizes=(300, 300, 300, 300, 300, 300, 300), nn__learning_rate_init=0.01, pca__n_components=20, score=0.423237782508069, total=   1.7s\n",
      "[CV] nn__hidden_layer_sizes=(300, 300, 300, 300, 300, 300, 300), nn__learning_rate_init=0.01, pca__n_components=30 \n",
      "[CV]  nn__hidden_layer_sizes=(300, 300, 300, 300, 300, 300, 300), nn__learning_rate_init=0.01, pca__n_components=30, score=0.49879882515396956, total=   4.6s\n",
      "[CV] nn__hidden_layer_sizes=(300, 300, 300, 300, 300, 300, 300), nn__learning_rate_init=0.01, pca__n_components=30 \n",
      "[CV]  nn__hidden_layer_sizes=(300, 300, 300, 300, 300, 300, 300), nn__learning_rate_init=0.01, pca__n_components=30, score=0.5645653937442857, total=  10.7s\n",
      "[CV] nn__hidden_layer_sizes=(300, 300, 300, 300, 300, 300, 300), nn__learning_rate_init=0.01, pca__n_components=30 \n",
      "[CV]  nn__hidden_layer_sizes=(300, 300, 300, 300, 300, 300, 300), nn__learning_rate_init=0.01, pca__n_components=30, score=0.4736539320879546, total=   4.0s\n",
      "[CV] nn__hidden_layer_sizes=(300, 300, 300, 300, 300, 300, 300), nn__learning_rate_init=0.01, pca__n_components=40 \n",
      "[CV]  nn__hidden_layer_sizes=(300, 300, 300, 300, 300, 300, 300), nn__learning_rate_init=0.01, pca__n_components=40, score=0.4338173864655135, total=   3.3s\n",
      "[CV] nn__hidden_layer_sizes=(300, 300, 300, 300, 300, 300, 300), nn__learning_rate_init=0.01, pca__n_components=40 \n"
     ]
    },
    {
     "name": "stdout",
     "output_type": "stream",
     "text": [
      "[CV]  nn__hidden_layer_sizes=(300, 300, 300, 300, 300, 300, 300), nn__learning_rate_init=0.01, pca__n_components=40, score=0.5416109715212316, total=   3.2s\n",
      "[CV] nn__hidden_layer_sizes=(300, 300, 300, 300, 300, 300, 300), nn__learning_rate_init=0.01, pca__n_components=40 \n",
      "[CV]  nn__hidden_layer_sizes=(300, 300, 300, 300, 300, 300, 300), nn__learning_rate_init=0.01, pca__n_components=40, score=0.47807877082753847, total=   4.0s\n",
      "[CV] nn__hidden_layer_sizes=(300, 300, 300, 300, 300, 300, 300), nn__learning_rate_init=0.01, pca__n_components=50 \n",
      "[CV]  nn__hidden_layer_sizes=(300, 300, 300, 300, 300, 300, 300), nn__learning_rate_init=0.01, pca__n_components=50, score=0.47948370920722627, total=   4.8s\n",
      "[CV] nn__hidden_layer_sizes=(300, 300, 300, 300, 300, 300, 300), nn__learning_rate_init=0.01, pca__n_components=50 \n",
      "[CV]  nn__hidden_layer_sizes=(300, 300, 300, 300, 300, 300, 300), nn__learning_rate_init=0.01, pca__n_components=50, score=0.5060943948393866, total=   7.5s\n",
      "[CV] nn__hidden_layer_sizes=(300, 300, 300, 300, 300, 300, 300), nn__learning_rate_init=0.01, pca__n_components=50 \n",
      "[CV]  nn__hidden_layer_sizes=(300, 300, 300, 300, 300, 300, 300), nn__learning_rate_init=0.01, pca__n_components=50, score=0.3636825611131813, total=   9.7s\n",
      "[CV] nn__hidden_layer_sizes=(350, 350, 350, 350, 350, 350, 350), nn__learning_rate_init=0.01, pca__n_components=10 \n",
      "[CV]  nn__hidden_layer_sizes=(350, 350, 350, 350, 350, 350, 350), nn__learning_rate_init=0.01, pca__n_components=10, score=0.32916199718414496, total=   3.6s\n",
      "[CV] nn__hidden_layer_sizes=(350, 350, 350, 350, 350, 350, 350), nn__learning_rate_init=0.01, pca__n_components=10 \n",
      "[CV]  nn__hidden_layer_sizes=(350, 350, 350, 350, 350, 350, 350), nn__learning_rate_init=0.01, pca__n_components=10, score=0.5119641814966127, total=   3.6s\n",
      "[CV] nn__hidden_layer_sizes=(350, 350, 350, 350, 350, 350, 350), nn__learning_rate_init=0.01, pca__n_components=10 \n",
      "[CV]  nn__hidden_layer_sizes=(350, 350, 350, 350, 350, 350, 350), nn__learning_rate_init=0.01, pca__n_components=10, score=0.40681870633438355, total=   5.6s\n",
      "[CV] nn__hidden_layer_sizes=(350, 350, 350, 350, 350, 350, 350), nn__learning_rate_init=0.01, pca__n_components=20 \n",
      "[CV]  nn__hidden_layer_sizes=(350, 350, 350, 350, 350, 350, 350), nn__learning_rate_init=0.01, pca__n_components=20, score=0.48057275161963, total=   5.8s\n",
      "[CV] nn__hidden_layer_sizes=(350, 350, 350, 350, 350, 350, 350), nn__learning_rate_init=0.01, pca__n_components=20 \n",
      "[CV]  nn__hidden_layer_sizes=(350, 350, 350, 350, 350, 350, 350), nn__learning_rate_init=0.01, pca__n_components=20, score=0.3793719827404197, total=   2.2s\n",
      "[CV] nn__hidden_layer_sizes=(350, 350, 350, 350, 350, 350, 350), nn__learning_rate_init=0.01, pca__n_components=20 \n",
      "[CV]  nn__hidden_layer_sizes=(350, 350, 350, 350, 350, 350, 350), nn__learning_rate_init=0.01, pca__n_components=20, score=0.27556367688855055, total=  14.9s\n",
      "[CV] nn__hidden_layer_sizes=(350, 350, 350, 350, 350, 350, 350), nn__learning_rate_init=0.01, pca__n_components=30 \n",
      "[CV]  nn__hidden_layer_sizes=(350, 350, 350, 350, 350, 350, 350), nn__learning_rate_init=0.01, pca__n_components=30, score=0.47108221513691895, total=  11.2s\n",
      "[CV] nn__hidden_layer_sizes=(350, 350, 350, 350, 350, 350, 350), nn__learning_rate_init=0.01, pca__n_components=30 \n",
      "[CV]  nn__hidden_layer_sizes=(350, 350, 350, 350, 350, 350, 350), nn__learning_rate_init=0.01, pca__n_components=30, score=0.40800760061464414, total=  10.9s\n",
      "[CV] nn__hidden_layer_sizes=(350, 350, 350, 350, 350, 350, 350), nn__learning_rate_init=0.01, pca__n_components=30 \n",
      "[CV]  nn__hidden_layer_sizes=(350, 350, 350, 350, 350, 350, 350), nn__learning_rate_init=0.01, pca__n_components=30, score=0.4031950948996542, total=  10.6s\n",
      "[CV] nn__hidden_layer_sizes=(350, 350, 350, 350, 350, 350, 350), nn__learning_rate_init=0.01, pca__n_components=40 \n",
      "[CV]  nn__hidden_layer_sizes=(350, 350, 350, 350, 350, 350, 350), nn__learning_rate_init=0.01, pca__n_components=40, score=0.4603451619761081, total=   4.1s\n",
      "[CV] nn__hidden_layer_sizes=(350, 350, 350, 350, 350, 350, 350), nn__learning_rate_init=0.01, pca__n_components=40 \n",
      "[CV]  nn__hidden_layer_sizes=(350, 350, 350, 350, 350, 350, 350), nn__learning_rate_init=0.01, pca__n_components=40, score=0.5388313434615241, total=  13.9s\n",
      "[CV] nn__hidden_layer_sizes=(350, 350, 350, 350, 350, 350, 350), nn__learning_rate_init=0.01, pca__n_components=40 \n",
      "[CV]  nn__hidden_layer_sizes=(350, 350, 350, 350, 350, 350, 350), nn__learning_rate_init=0.01, pca__n_components=40, score=0.3263132672485023, total=  10.9s\n",
      "[CV] nn__hidden_layer_sizes=(350, 350, 350, 350, 350, 350, 350), nn__learning_rate_init=0.01, pca__n_components=50 \n",
      "[CV]  nn__hidden_layer_sizes=(350, 350, 350, 350, 350, 350, 350), nn__learning_rate_init=0.01, pca__n_components=50, score=0.327610497242915, total=   5.8s\n",
      "[CV] nn__hidden_layer_sizes=(350, 350, 350, 350, 350, 350, 350), nn__learning_rate_init=0.01, pca__n_components=50 \n",
      "[CV]  nn__hidden_layer_sizes=(350, 350, 350, 350, 350, 350, 350), nn__learning_rate_init=0.01, pca__n_components=50, score=0.5179001594620588, total=  16.1s\n",
      "[CV] nn__hidden_layer_sizes=(350, 350, 350, 350, 350, 350, 350), nn__learning_rate_init=0.01, pca__n_components=50 \n",
      "[CV]  nn__hidden_layer_sizes=(350, 350, 350, 350, 350, 350, 350), nn__learning_rate_init=0.01, pca__n_components=50, score=0.36573852835790355, total=   8.5s\n"
     ]
    },
    {
     "name": "stderr",
     "output_type": "stream",
     "text": [
      "[Parallel(n_jobs=1)]: Done 630 out of 630 | elapsed: 65.0min finished\n"
     ]
    },
    {
     "data": {
      "text/plain": [
       "GridSearchCV(cv=3, error_score='raise',\n",
       "       estimator=Pipeline(memory=None,\n",
       "     steps=[('pca', PCA(copy=True, iterated_power='auto', n_components=None, random_state=None,\n",
       "  svd_solver='auto', tol=0.0, whiten=False)), ('scale', StandardScaler(copy=True, with_mean=True, with_std=True)), ('nn', MLPRegressor(activation='relu', alpha=0.0001, batch_size='auto', beta_1=0.9,\n",
       "       bet...=True, solver='adam', tol=0.0001, validation_fraction=0.1,\n",
       "       verbose=False, warm_start=False))]),\n",
       "       fit_params=None, iid=True, n_jobs=1,\n",
       "       param_grid={'pca__n_components': array([10, 20, 30, 40, 50]), 'nn__hidden_layer_sizes': [(50, 50), (100, 100), (150, 150), (200, 200), (250, 250), (300, 300), (350, 350), (50, 50, 50), (100, 100, 100), (150, 150, 150), (200, 200, 200), (250, 250, 250), (300, 300, 300), (350, 350, 350), (50, 50, 50, ...0, 300, 300, 300, 300, 300), (350, 350, 350, 350, 350, 350, 350)], 'nn__learning_rate_init': [0.01]},\n",
       "       pre_dispatch='2*n_jobs', refit=True, return_train_score='warn',\n",
       "       scoring='r2', verbose=10)"
      ]
     },
     "execution_count": 49,
     "metadata": {},
     "output_type": "execute_result"
    }
   ],
   "source": [
    "grid = GridSearchCV(pipe, params, scoring='r2', verbose=10, cv=3)\n",
    "grid.fit(X_train, np.ravel(y_train))"
   ]
  },
  {
   "cell_type": "code",
   "execution_count": 50,
   "metadata": {},
   "outputs": [
    {
     "data": {
      "text/plain": [
       "{'memory': None,\n",
       " 'nn': MLPRegressor(activation='relu', alpha=0.0001, batch_size='auto', beta_1=0.9,\n",
       "        beta_2=0.999, early_stopping=False, epsilon=1e-08,\n",
       "        hidden_layer_sizes=(100, 100, 100), learning_rate='constant',\n",
       "        learning_rate_init=0.01, max_iter=200, momentum=0.9,\n",
       "        nesterovs_momentum=True, power_t=0.5, random_state=None,\n",
       "        shuffle=True, solver='adam', tol=0.0001, validation_fraction=0.1,\n",
       "        verbose=False, warm_start=False),\n",
       " 'nn__activation': 'relu',\n",
       " 'nn__alpha': 0.0001,\n",
       " 'nn__batch_size': 'auto',\n",
       " 'nn__beta_1': 0.9,\n",
       " 'nn__beta_2': 0.999,\n",
       " 'nn__early_stopping': False,\n",
       " 'nn__epsilon': 1e-08,\n",
       " 'nn__hidden_layer_sizes': (100, 100, 100),\n",
       " 'nn__learning_rate': 'constant',\n",
       " 'nn__learning_rate_init': 0.01,\n",
       " 'nn__max_iter': 200,\n",
       " 'nn__momentum': 0.9,\n",
       " 'nn__nesterovs_momentum': True,\n",
       " 'nn__power_t': 0.5,\n",
       " 'nn__random_state': None,\n",
       " 'nn__shuffle': True,\n",
       " 'nn__solver': 'adam',\n",
       " 'nn__tol': 0.0001,\n",
       " 'nn__validation_fraction': 0.1,\n",
       " 'nn__verbose': False,\n",
       " 'nn__warm_start': False,\n",
       " 'pca': PCA(copy=True, iterated_power='auto', n_components=40, random_state=None,\n",
       "   svd_solver='auto', tol=0.0, whiten=False),\n",
       " 'pca__copy': True,\n",
       " 'pca__iterated_power': 'auto',\n",
       " 'pca__n_components': 40,\n",
       " 'pca__random_state': None,\n",
       " 'pca__svd_solver': 'auto',\n",
       " 'pca__tol': 0.0,\n",
       " 'pca__whiten': False,\n",
       " 'scale': StandardScaler(copy=True, with_mean=True, with_std=True),\n",
       " 'scale__copy': True,\n",
       " 'scale__with_mean': True,\n",
       " 'scale__with_std': True,\n",
       " 'steps': [('pca',\n",
       "   PCA(copy=True, iterated_power='auto', n_components=40, random_state=None,\n",
       "     svd_solver='auto', tol=0.0, whiten=False)),\n",
       "  ('scale', StandardScaler(copy=True, with_mean=True, with_std=True)),\n",
       "  ('nn',\n",
       "   MLPRegressor(activation='relu', alpha=0.0001, batch_size='auto', beta_1=0.9,\n",
       "          beta_2=0.999, early_stopping=False, epsilon=1e-08,\n",
       "          hidden_layer_sizes=(100, 100, 100), learning_rate='constant',\n",
       "          learning_rate_init=0.01, max_iter=200, momentum=0.9,\n",
       "          nesterovs_momentum=True, power_t=0.5, random_state=None,\n",
       "          shuffle=True, solver='adam', tol=0.0001, validation_fraction=0.1,\n",
       "          verbose=False, warm_start=False))]}"
      ]
     },
     "execution_count": 50,
     "metadata": {},
     "output_type": "execute_result"
    }
   ],
   "source": [
    "grid.best_estimator_.get_params()"
   ]
  },
  {
   "cell_type": "code",
   "execution_count": 53,
   "metadata": {},
   "outputs": [
    {
     "data": {
      "image/png": "[encoded data removed]",
      "text/plain": [
       "<Figure size 432x288 with 1 Axes>"
      ]
     },
     "metadata": {},
     "output_type": "display_data"
    }
   ],
   "source": [
    "# Since the best result is obtained for 40 components, we only plot the model with 40 components.\n",
    "plt.plot(range(50, 400, 50), grid.cv_results_['mean_test_score'].reshape(6,7,5)[:,:,3].transpose())\n",
    "plt.legend([str(x) + ' layers' for x in range(2, 8)])\n",
    "plt.xlabel('Number of nodes')\n",
    "plt.ylabel('OSR^2')\n",
    "plt.title('Cross-validation OSR^2')\n",
    "plt.show()"
   ]
  },
  {
   "cell_type": "code",
   "execution_count": 54,
   "metadata": {},
   "outputs": [
    {
     "name": "stdout",
     "output_type": "stream",
     "text": [
      "OSR2 on test data:  0.49003961684795716\n",
      "MAE on test data:  28818310.37735031\n",
      "RMSE on test data:  48720018.13597776\n"
     ]
    }
   ],
   "source": [
    "y_pred = grid.predict(X_test)\n",
    "\n",
    "print('OSR2 on test data: ', grid.score(X_test, y_test))\n",
    "print('MAE on test data: ', mean_absolute_error(y_test, y_pred))\n",
    "print('RMSE on test data: ', np.sqrt(mean_squared_error(y_test, y_pred)))"
   ]
  },
  {
   "cell_type": "code",
   "execution_count": null,
   "metadata": {},
   "outputs": [],
   "source": []
  }
 ],
 "metadata": {
  "kernelspec": {
   "display_name": "Python 3",
   "language": "python",
   "name": "python3"
  },
  "language_info": {
   "codemirror_mode": {
    "name": "ipython",
    "version": 3
   },
   "file_extension": ".py",
   "mimetype": "text/x-python",
   "name": "python",
   "nbconvert_exporter": "python",
   "pygments_lexer": "ipython3",
   "version": "3.6.4"
  }
 },
 "nbformat": 4,
 "nbformat_minor": 2
}
